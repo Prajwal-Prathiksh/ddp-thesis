{
 "cells": [
  {
   "cell_type": "code",
   "execution_count": null,
   "metadata": {},
   "outputs": [],
   "source": [
    "import numpy as np\n",
    "import matplotlib.pyplot as plt\n",
    "from energy_spectrum import compute_scalar_energy_spectrum, compute_energy_spectrum, compute_scalar_energy_spectrum_numba # type: ignore"
   ]
  },
  {
   "cell_type": "markdown",
   "metadata": {},
   "source": [
    "### 1D"
   ]
  },
  {
   "cell_type": "code",
   "execution_count": null,
   "metadata": {},
   "outputs": [],
   "source": [
    "N = 20\n",
    "ek_u = [1] * N\n",
    "ek_u = np.array(ek_u[::-1] + [0] + ek_u)\n",
    "plt.stem(ek_u)\n",
    "\n",
    "k, ek = compute_scalar_energy_spectrum(\n",
    "    ek_u=ek_u, debug=False\n",
    ")\n",
    "plt.figure()\n",
    "plt.stem(ek)\n",
    "plt.plot(ek_u[(len(ek_u)-1)//2:], 'k')"
   ]
  },
  {
   "cell_type": "code",
   "execution_count": null,
   "metadata": {},
   "outputs": [],
   "source": [
    "N = 10\n",
    "ek_u = list(np.arange(N)+1)\n",
    "ek_u = ek_u[::-1] + [0] + ek_u\n",
    "ek_u = np.array(ek_u)\n",
    "print(len(ek_u))\n",
    "plt.stem(ek_u)\n",
    "\n",
    "k, ek = compute_scalar_energy_spectrum(ek_u)\n",
    "plt.figure()\n",
    "plt.stem(ek)\n",
    "plt.plot(ek_u[(len(ek_u)-1)//2:], 'k')"
   ]
  },
  {
   "cell_type": "markdown",
   "metadata": {},
   "source": [
    "### 2D"
   ]
  },
  {
   "cell_type": "code",
   "execution_count": null,
   "metadata": {},
   "outputs": [],
   "source": [
    "sr = 30\n",
    "x = y = np.arange(0, 1., 1. / sr)\n",
    "X, Y = np.meshgrid(x, y)\n",
    "u = np.sin(2 * np.pi * X) + np.sin(2 * np.pi * 2 * Y)\n",
    "U0 = 1.\n",
    "\n",
    "# When\n",
    "ek_u, ek_v, ek_w, u_spectrum, v_spectrum, w_spectrum =\\\n",
    "    compute_energy_spectrum(\n",
    "        u=u, v=u, w=None, U0=U0, debug=True\n",
    "    )\n",
    "plt.imshow(ek_u)\n",
    "plt.colorbar()\n",
    "plt.axis('equal')"
   ]
  },
  {
   "cell_type": "code",
   "execution_count": null,
   "metadata": {},
   "outputs": [],
   "source": [
    "tol = 1e-12\n",
    "ind = np.where(np.abs(u_spectrum - 0.5) < tol)\n",
    "ind, np.max(u_spectrum)"
   ]
  },
  {
   "cell_type": "code",
   "execution_count": null,
   "metadata": {},
   "outputs": [],
   "source": [
    "k, ek = compute_scalar_energy_spectrum(ek_u, ek_v)\n",
    "plt.stem(ek)\n",
    "plt.grid()"
   ]
  },
  {
   "cell_type": "code",
   "execution_count": null,
   "metadata": {},
   "outputs": [],
   "source": [
    "def mirror_data(q1):\n",
    "    q2 = np.fliplr(q1)\n",
    "    q3 = np.flipud(q1)\n",
    "    q4 = np.flipud(q2)\n",
    "    Q = np.vstack((np.hstack((q1, q2)), np.hstack((q3, q4))))\n",
    "    return Q"
   ]
  },
  {
   "cell_type": "code",
   "execution_count": null,
   "metadata": {},
   "outputs": [],
   "source": [
    "# Create data for first quadrant\n",
    "ek_u = np.array([\n",
    "    [1, 1, 1],\n",
    "    [1, 0, 1],\n",
    "    [1, 1, 1]\n",
    "])\n",
    "plt.imshow(ek_u)\n",
    "plt.colorbar()\n",
    "plt.axis('equal')"
   ]
  },
  {
   "cell_type": "code",
   "execution_count": null,
   "metadata": {},
   "outputs": [],
   "source": [
    "k, ek, ek_u_sphere, ek_v_sphere, ek_w_sphere =\\\n",
    "    compute_scalar_energy_spectrum(ek_u, ek_u, debug=True)\n",
    "print(len(k))"
   ]
  },
  {
   "cell_type": "code",
   "execution_count": null,
   "metadata": {},
   "outputs": [],
   "source": [
    "plt.plot(k, ek)\n",
    "plt.stem(ek_u_sphere)"
   ]
  },
  {
   "cell_type": "code",
   "execution_count": null,
   "metadata": {},
   "outputs": [],
   "source": [
    "# Create meshgrid of 10X10 points\n",
    "x = y = np.arange(-1, 1., 1. / 50)\n",
    "X, Y = np.meshgrid(x, y)\n",
    "\n",
    "# Create a circle\n",
    "r = 0.5\n",
    "u = np.sqrt((X)**2 + (Y )**2) < r\n",
    "plt.imshow(u)"
   ]
  },
  {
   "cell_type": "code",
   "execution_count": null,
   "metadata": {},
   "outputs": [],
   "source": [
    "k, ek, ek_u_sphere, ek_v_sphere, ek_w_sphere =\\\n",
    "    compute_scalar_energy_spectrum(u, u, debug=True)"
   ]
  },
  {
   "cell_type": "code",
   "execution_count": null,
   "metadata": {},
   "outputs": [],
   "source": [
    "plt.plot(k, ek)\n",
    "plt.stem(ek_u_sphere)"
   ]
  },
  {
   "cell_type": "markdown",
   "metadata": {},
   "source": [
    "### 3D"
   ]
  },
  {
   "cell_type": "code",
   "execution_count": null,
   "metadata": {},
   "outputs": [],
   "source": [
    "sr = 30\n",
    "x = y = z = np.arange(0, 1., 1. / sr)\n",
    "X, Y, Z = np.meshgrid(x, y, z)\n",
    "u = np.sin(2 * np.pi * X) + np.sin(2 * np.pi * 2 * Y) +\\\n",
    "    np.sin(2 * np.pi * 3 * Z)\n",
    "U0 = 0.5\n",
    "ek_u, ek_v, ek_w, u_spectrum, v_spectrum, w_spectrum =\\\n",
    "    compute_energy_spectrum(\n",
    "        u=u, v=u, w=u, U0=U0, debug=True\n",
    "    )"
   ]
  },
  {
   "cell_type": "code",
   "execution_count": null,
   "metadata": {},
   "outputs": [],
   "source": [
    "tol = 1e-10\n",
    "ind = np.where(np.abs(u_spectrum - 1.) < tol)\n",
    "ind, np.max(ek_u)"
   ]
  },
  {
   "cell_type": "code",
   "execution_count": null,
   "metadata": {},
   "outputs": [],
   "source": [
    "ek_u = np.array([\n",
    "    [\n",
    "        [0, 1, 0],\n",
    "        [1, 1, 1],\n",
    "        [0, 1, 0]\n",
    "    ],\n",
    "    [\n",
    "        [1, 1, 1],\n",
    "        [1, 1, 1],\n",
    "        [1, 1, 1]\n",
    "    ],\n",
    "    [\n",
    "        [1, 0, 1],\n",
    "        [0, 1, 0],\n",
    "        [1, 0, 1]\n",
    "    ]\n",
    "])\n",
    "k, ek, ek_u_sphere, ek_v_sphere, ek_w_sphere =\\\n",
    "    compute_scalar_energy_spectrum(ek_u, ek_u, ek_u, debug=True)\n",
    "print(len(k))"
   ]
  },
  {
   "cell_type": "code",
   "execution_count": null,
   "metadata": {},
   "outputs": [],
   "source": [
    "plt.plot(ek_u_sphere)\n",
    "plt.stem(ek_u_sphere)\n",
    "plt.grid()\n",
    "np.round(ek_u_sphere)"
   ]
  },
  {
   "cell_type": "markdown",
   "metadata": {},
   "source": [
    "### Scipy vs Numpy FFTm"
   ]
  },
  {
   "cell_type": "code",
   "execution_count": null,
   "metadata": {},
   "outputs": [],
   "source": [
    "from numpy.fft import fftn as fftn_numpy\n",
    "from scipy.fft import fftn as fftn_scipy\n",
    "import numpy as np\n",
    "import matplotlib.pyplot as plt\n",
    "import time"
   ]
  },
  {
   "cell_type": "code",
   "execution_count": null,
   "metadata": {},
   "outputs": [],
   "source": [
    "# Sampling rate\n",
    "sr = 5000\n",
    "\n",
    "# Time vector\n",
    "t = np.arange(0, 1., 1. / sr)\n",
    "\n",
    "# Signal\n",
    "f = [1, 2, 3, 4, 5, 6, 7, 8, 9, 10]\n",
    "a = [1, 1, 1, 1, 1, 1, 1, 1, 1, 1]\n",
    "x = np.zeros(len(t))\n",
    "for i in range(len(f)):\n",
    "    x += a[i] * np.sin(2 * np.pi * f[i] * t)\n",
    "\n",
    "# FFT - Numpy\n",
    "X_numpy = fftn_numpy(x)\n",
    "X_numpy = np.abs(X_numpy)\n",
    "\n",
    "# FFT - Scipy\n",
    "X_scipy = fftn_scipy(x)\n",
    "X_scipy = np.abs(X_scipy)"
   ]
  },
  {
   "cell_type": "code",
   "execution_count": null,
   "metadata": {},
   "outputs": [],
   "source": [
    "# Plot\n",
    "plt.figure(figsize=(10, 6))\n",
    "plt.subplot(131)\n",
    "plt.plot(t, x)\n",
    "plt.xlabel('Time (s)')\n",
    "plt.ylabel('Amplitude')\n",
    "plt.title('Signal')\n",
    "plt.subplot(132)\n",
    "plt.loglog(X_numpy, 'r', label='Numpy')\n",
    "plt.loglog(X_scipy, 'b', label='Scipy')\n",
    "plt.xlabel('Frequency (Hz)')\n",
    "plt.ylabel('Amplitude')\n",
    "plt.title('FFT')\n",
    "plt.legend()\n",
    "plt.subplot(133)\n",
    "# Plot error\n",
    "plt.loglog(np.abs(X_numpy - X_scipy), 'k')\n",
    "plt.xlabel('Frequency (Hz)')\n",
    "plt.ylabel('Amplitude')\n",
    "plt.title('Error')\n",
    "\n",
    "plt.tight_layout()\n",
    "plt.axis('equal')"
   ]
  },
  {
   "cell_type": "code",
   "execution_count": null,
   "metadata": {},
   "outputs": [],
   "source": [
    "# Plot Computation Time of numpy and scipy fftn\n",
    "N_run = 10\n",
    "t_numpy = []\n",
    "t_scipy = []\n",
    "N_array = np.arange(10, 15) #np.arange(10, 25)\n",
    "N_array = 2**N_array\n",
    "for n, N in enumerate(N_array):\n",
    "    if n % 5 == 0:\n",
    "        print(n)\n",
    "    x0 = np.random.rand(N)\n",
    "    t0 = time.time()\n",
    "    for i in range(N_run):\n",
    "        X_numpy = fftn_numpy(x0)\n",
    "    t1 = time.time()\n",
    "    t_numpy.append((t1 - t0) / 10)\n",
    "\n",
    "    t0 = time.time()\n",
    "    for i in range(N_run):\n",
    "        X_scipy = fftn_scipy(x0, workers=64)\n",
    "    t1 = time.time()\n",
    "    t_scipy.append((t1 - t0) / 10)"
   ]
  },
  {
   "cell_type": "code",
   "execution_count": null,
   "metadata": {},
   "outputs": [],
   "source": [
    "# Plot log-log plots\n",
    "fig, ax = plt.subplots()\n",
    "ax.semilogx(N_array, t_scipy, 'bo--', label='Scipy')\n",
    "ax.semilogx(N_array, t_numpy, 'ro--', label='Numpy')\n",
    "ax.set_xlabel('N')\n",
    "ax.set_ylabel('Time (s)')\n",
    "ax.set_title('Computation Time')\n",
    "ax.legend()\n",
    "plt.tight_layout()\n",
    "\n",
    "# Plot speedup in secondary y-axis\n",
    "speedup = np.array(t_scipy) / np.array(t_numpy)\n",
    "speedup = np.abs(speedup)\n",
    "ax2 = ax.twinx()\n",
    "ax2.plot(N_array, speedup, 'k')\n",
    "ax2.set_ylabel('Speedup (Scipy / Numpy)')\n",
    "ax2.hlines(1, N_array[0], N_array[-1], 'k', '--')\n",
    "plt.tight_layout()"
   ]
  },
  {
   "cell_type": "code",
   "execution_count": null,
   "metadata": {},
   "outputs": [],
   "source": [
    "# %timeit fftn_scipy(x, workers=None)"
   ]
  },
  {
   "cell_type": "code",
   "execution_count": null,
   "metadata": {},
   "outputs": [],
   "source": [
    "# %timeit fftn_scipy(x, workers=-1)"
   ]
  },
  {
   "cell_type": "code",
   "execution_count": null,
   "metadata": {},
   "outputs": [],
   "source": [
    "# %timeit fftn_scipy(x, workers=1)"
   ]
  },
  {
   "cell_type": "code",
   "execution_count": null,
   "metadata": {},
   "outputs": [],
   "source": [
    "# %timeit fftn_scipy(x, workers=64)"
   ]
  },
  {
   "cell_type": "markdown",
   "metadata": {},
   "source": [
    "### Benchmark Problem"
   ]
  },
  {
   "cell_type": "code",
   "execution_count": null,
   "metadata": {},
   "outputs": [],
   "source": [
    "import numpy as np\n",
    "import matplotlib.pyplot as plt\n",
    "from energy_spectrum import compute_energy_spectrum, compute_scalar_energy_spectrum # type: ignore"
   ]
  },
  {
   "cell_type": "code",
   "execution_count": null,
   "metadata": {},
   "outputs": [],
   "source": [
    "# Create meshgrid\n",
    "N = 50\n",
    "x = y = np.arange(0, 1., 1. / N)\n",
    "X, Y = np.meshgrid(x, y)\n",
    "\n",
    "# Sine wave\n",
    "twopi = 2 * np.pi\n",
    "u = - np.cos(twopi * X) * np.sin(twopi * Y)\n",
    "v = np.sin(twopi * X) * np.cos(twopi * Y)\n",
    "\n",
    "ek_u, ek_v, ek_w = compute_energy_spectrum(u, v, debug=False)\n",
    "k, ek, = compute_scalar_energy_spectrum(ek_u, ek_v, ek_w=None, debug=False)"
   ]
  },
  {
   "cell_type": "code",
   "execution_count": null,
   "metadata": {},
   "outputs": [],
   "source": [
    "plt.subplot(121)\n",
    "plt.imshow(u)\n",
    "plt.title('u')\n",
    "plt.subplot(122)\n",
    "plt.imshow(v)\n",
    "plt.title('v')"
   ]
  },
  {
   "cell_type": "code",
   "execution_count": null,
   "metadata": {},
   "outputs": [],
   "source": [
    "plt.figure(figsize=(12, 4))\n",
    "plt.subplot(121)\n",
    "plt.imshow(ek_u)\n",
    "plt.colorbar()\n",
    "plt.title('ek_u')\n",
    "plt.subplot(122)\n",
    "plt.plot(k, ek, 'k')\n",
    "plt.stem(k, ek)\n",
    "plt.grid()\n",
    "plt.title('ek')"
   ]
  },
  {
   "cell_type": "code",
   "execution_count": null,
   "metadata": {},
   "outputs": [],
   "source": [
    "def test(perturb=False):\n",
    "    if not perturb:\n",
    "        data = np.load('outputs\\\\tgv_re_100_nx_50_uniform\\\\energy_spectrum.npz')\n",
    "    else:\n",
    "        data = np.load('outputs\\\\tgv_re_100_nx_50\\\\energy_spectrum.npz')\n",
    "\n",
    "    # Kernel radius\n",
    "    h = data['h']\n",
    "    k_h = 1. / h\n",
    "\n",
    "    # Create meshgrid\n",
    "    N = data[\"Ni\"]\n",
    "    x = y = np.arange(0, 1., 1. / N)\n",
    "    X, Y = np.meshgrid(x, y)\n",
    "\n",
    "    # Initial Sine wave\n",
    "    twopi = 2 * np.pi\n",
    "    u = - np.cos(twopi * X) * np.sin(twopi * Y)\n",
    "    v = np.sin(twopi * X) * np.cos(twopi * Y)\n",
    "    ek_u, ek_v, ek_w = compute_energy_spectrum(u, v, debug=False)\n",
    "    k, ek, = compute_scalar_energy_spectrum(ek_u, ek_v, ek_w=None, debug=False)\n",
    "\n",
    "    plt.figure(figsize=(12, 4))\n",
    "    plt.subplot(121)\n",
    "    plt.loglog(k, ek, 'k-', label='expected')\n",
    "    plt.loglog(data['k0'], data['ek0'], 'b-', label='TGV0')\n",
    "    plt.vlines(k_h, 1e-46, 1e-1, 'g', '--', label='h')\n",
    "    plt.legend()\n",
    "    plt.xlabel('k')\n",
    "    plt.ylabel('ek')\n",
    "    plt.title(f'N = {N}, Perturb = {perturb}')\n",
    "    plt.grid()\n",
    "\n",
    "    # Final Sine wave\n",
    "    b = -2.*twopi/100.\n",
    "    fac = np.exp(b*data[\"tf\"])\n",
    "    u = - np.cos(twopi * X) * np.sin(twopi * Y) * fac\n",
    "    v = np.sin(twopi * X) * np.cos(twopi * Y) * fac\n",
    "    ek_u, ek_v, ek_w = compute_energy_spectrum(u, v, debug=False)\n",
    "    k, ek, = compute_scalar_energy_spectrum(ek_u, ek_v, ek_w=None, debug=False)\n",
    "\n",
    "    plt.subplot(122)\n",
    "    plt.loglog(k, ek, 'k-', label='expected')\n",
    "    plt.loglog(data['kf'], data['ekf'], 'b-', label='TGVf')\n",
    "    plt.vlines(k_h, 1e-46, 1e-1, 'g', '--', label='h')\n",
    "    plt.legend()\n",
    "    plt.xlabel('k')\n",
    "    plt.ylabel('ek')\n",
    "    plt.title(f'N = {N}, Perturb = {perturb}')\n",
    "    plt.grid()"
   ]
  },
  {
   "cell_type": "code",
   "execution_count": null,
   "metadata": {},
   "outputs": [],
   "source": [
    "# test(perturb=True)"
   ]
  },
  {
   "cell_type": "markdown",
   "metadata": {},
   "source": [
    "### Test OOP Implementation"
   ]
  },
  {
   "cell_type": "code",
   "execution_count": null,
   "metadata": {},
   "outputs": [],
   "source": [
    "from energy_spectrum import EnergySpectrum # type: ignore\n",
    "import matplotlib.pyplot as plt\n",
    "import numpy as np"
   ]
  },
  {
   "cell_type": "code",
   "execution_count": null,
   "metadata": {},
   "outputs": [],
   "source": [
    "# eval_u = \"sin(twopi*x) + sin(twopi*x)\"\n",
    "eval_u = \"sin(twopi*x) + sin(2*twopi*y)\"\n",
    "eval_v = \"sin(2*twopi*x) + cos(3*twopi*y)\"\n",
    "cf = [eval_u, eval_v]\n",
    "# cf = None\n",
    "dim = 2\n",
    "nx = 7\n",
    "es = EnergySpectrum.from_example(dim=dim, nx=nx, custom_formula=cf)\n",
    "# es.plot_scalar_ek(show=1, plot_type=\"stem\")\n",
    "es.plot_vector_ek(show=1, shift_fft=0)"
   ]
  },
  {
   "cell_type": "code",
   "execution_count": null,
   "metadata": {},
   "outputs": [],
   "source": [
    "es.plot_scalar_ek(show=1, plot_type=\"stem\")\n",
    "# es.plot_EK(show=1, shift_fft=0)\n"
   ]
  },
  {
   "cell_type": "code",
   "execution_count": null,
   "metadata": {},
   "outputs": [],
   "source": [
    "# fname = \"sin_velocity_profile_output/sin_velocity_profile_00000.hdf5\"\n",
    "# esfile = EnergySpectrum.from_pysph_file(fname=fname, dim=2, L=1, nx_i=50)"
   ]
  },
  {
   "cell_type": "code",
   "execution_count": null,
   "metadata": {},
   "outputs": [],
   "source": [
    "# esfile.plot_scalar_ek(show=1, plot_type=\"stem\")"
   ]
  },
  {
   "cell_type": "markdown",
   "metadata": {},
   "source": [
    "## Numba/Compyle Implementation Speedup Comparison"
   ]
  },
  {
   "cell_type": "code",
   "execution_count": 1,
   "metadata": {},
   "outputs": [],
   "source": [
    "import timeit\n",
    "from energy_spectrum import EnergySpectrum # type: ignore\n",
    "import matplotlib.pyplot as plt\n",
    "import numpy as np"
   ]
  },
  {
   "cell_type": "markdown",
   "metadata": {},
   "source": [
    "### 1D"
   ]
  },
  {
   "cell_type": "code",
   "execution_count": 2,
   "metadata": {},
   "outputs": [],
   "source": [
    "es_ob = EnergySpectrum.from_example(dim=1, nx=50, custom_formula=None)"
   ]
  },
  {
   "cell_type": "code",
   "execution_count": 3,
   "metadata": {},
   "outputs": [
    {
     "name": "stdout",
     "output_type": "stream",
     "text": [
      "1.76 ms ± 283 µs per loop (mean ± std. dev. of 7 runs, 100 loops each)\n"
     ]
    }
   ],
   "source": [
    "%timeit es_ob.compute(func_config='python')"
   ]
  },
  {
   "cell_type": "code",
   "execution_count": 4,
   "metadata": {},
   "outputs": [
    {
     "name": "stdout",
     "output_type": "stream",
     "text": [
      "194 µs ± 70.1 µs per loop (mean ± std. dev. of 7 runs, 1 loop each)\n"
     ]
    }
   ],
   "source": [
    "%timeit es_ob.compute(func_config='numba')"
   ]
  },
  {
   "cell_type": "code",
   "execution_count": 6,
   "metadata": {},
   "outputs": [
    {
     "name": "stdout",
     "output_type": "stream",
     "text": [
      "616 µs ± 11.8 µs per loop (mean ± std. dev. of 7 runs, 1,000 loops each)\n"
     ]
    }
   ],
   "source": [
    "%timeit es_ob.compute(func_config='compyle')"
   ]
  },
  {
   "cell_type": "markdown",
   "metadata": {},
   "source": [
    "### Speedup"
   ]
  },
  {
   "cell_type": "code",
   "execution_count": 20,
   "metadata": {},
   "outputs": [
    {
     "name": "stdout",
     "output_type": "stream",
     "text": [
      "dim = 1\n",
      "dim = 2x = 1000000 \n",
      "dim = 3x = 1000 \n",
      "7/7 | nx = 99 \r"
     ]
    },
    {
     "data": {
      "image/png": "[encoded data removed]",
      "text/plain": [
       "<Figure size 640x480 with 1 Axes>"
      ]
     },
     "metadata": {},
     "output_type": "display_data"
    }
   ],
   "source": [
    "def plot_speedup():\n",
    "    plt.figure()\n",
    "    EPS = 1e-50\n",
    "    for dim in [1, 2, 3]:\n",
    "        print(f\"dim = {dim}\")\n",
    "        time_python, time_numba, time_compyle = [], [], []\n",
    "        N_list = np.logspace(1, 6, 7)\n",
    "        nx_list = np.power(N_list, 1./dim).astype(int)\n",
    "        for idx, nx in enumerate(nx_list):\n",
    "            if N_list[idx] > 1e4:\n",
    "                N_iter = 1\n",
    "            else:\n",
    "                N_iter = 3\n",
    "            es_ob = EnergySpectrum.from_example(\n",
    "                dim=dim, nx=nx, custom_formula=None\n",
    "            )\n",
    "            time_python.append(\n",
    "                timeit.timeit(\n",
    "                    lambda: es_ob.compute(func_config='python'), number=N_iter\n",
    "                ) / N_iter\n",
    "            )\n",
    "            time_numba.append(\n",
    "                timeit.timeit(\n",
    "                    lambda: es_ob.compute(func_config='numba'), number=N_iter\n",
    "                ) / N_iter\n",
    "            )\n",
    "            time_compyle.append(\n",
    "                timeit.timeit(\n",
    "                    lambda: es_ob.compute(func_config='compyle'), number=N_iter\n",
    "                ) / N_iter\n",
    "            )\n",
    "            \n",
    "            # Print % completion\n",
    "            print(f\"{idx+1}/{len(nx_list)} | nx = {nx} \", end='\\r')\n",
    "        \n",
    "        time_python = np.array(time_python) + EPS\n",
    "        time_numba = np.array(time_numba) + EPS\n",
    "        time_compyle = np.array(time_compyle) + EPS\n",
    "        \n",
    "        # print(f\"time_python = {time_python}\")\n",
    "        # print(f\"time_numba = {time_numba}\")\n",
    "        # print(f\"time_compyle = {time_compyle}\")\n",
    "\n",
    "        speedup_numba = time_python / time_numba\n",
    "        speedup_compyle = time_python / time_compyle\n",
    "\n",
    "        plt.semilogx(\n",
    "            nx_list**dim, speedup_numba, label=f'dim = {dim}, numba',\n",
    "            marker='o'\n",
    "        )\n",
    "        plt.semilogx(\n",
    "            nx_list**dim, speedup_compyle, label=f'dim = {dim}, compyle',\n",
    "            marker='o'\n",
    "        )\n",
    "\n",
    "    plt.legend()\n",
    "    plt.xlabel('N')\n",
    "    plt.ylabel('Speedup');\n",
    "    plt.grid()\n",
    "\n",
    "plot_speedup()"
   ]
  },
  {
   "cell_type": "code",
   "execution_count": null,
   "metadata": {},
   "outputs": [],
   "source": []
  }
 ],
 "metadata": {
  "kernelspec": {
   "display_name": "Python 3.10.6 ('sph310')",
   "language": "python",
   "name": "python3"
  },
  "language_info": {
   "codemirror_mode": {
    "name": "ipython",
    "version": 3
   },
   "file_extension": ".py",
   "mimetype": "text/x-python",
   "name": "python",
   "nbconvert_exporter": "python",
   "pygments_lexer": "ipython3",
   "version": "3.10.6"
  },
  "orig_nbformat": 4,
  "vscode": {
   "interpreter": {
    "hash": "cbc6d616c8c8359fb696f76c2d8eb9269f6336b6c00dfc48517def07f94218b9"
   }
  }
 },
 "nbformat": 4,
 "nbformat_minor": 2
}
