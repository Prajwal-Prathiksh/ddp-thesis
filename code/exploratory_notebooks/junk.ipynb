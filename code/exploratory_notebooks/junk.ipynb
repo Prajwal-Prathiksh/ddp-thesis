{
 "cells": [
  {
   "cell_type": "code",
   "execution_count": 5,
   "metadata": {},
   "outputs": [],
   "source": [
    "from automan.api import mdict, dprod, opts2path"
   ]
  },
  {
   "cell_type": "code",
   "execution_count": 6,
   "metadata": {},
   "outputs": [],
   "source": [
    "res_opts = mdict(\n",
    "    nx=[100], tf=[6.], re=[1_000, 10_000, 100_000, 1_000_000]\n",
    ")\n",
    "res_opts += mdict(nx=[200], tf=[2.], re=[1_000, 10_000, 100_000])\n",
    "res_opts += mdict(nx=[400], tf=[1.], re=[1_000, 10_000])"
   ]
  },
  {
   "cell_type": "code",
   "execution_count": 7,
   "metadata": {},
   "outputs": [
    {
     "data": {
      "text/plain": [
       "[{'nx': 100, 'tf': 6.0, 're': 1000},\n",
       " {'nx': 100, 'tf': 6.0, 're': 10000},\n",
       " {'nx': 100, 'tf': 6.0, 're': 100000},\n",
       " {'nx': 100, 'tf': 6.0, 're': 1000000},\n",
       " {'nx': 200, 'tf': 2.0, 're': 1000},\n",
       " {'nx': 200, 'tf': 2.0, 're': 10000},\n",
       " {'nx': 200, 'tf': 2.0, 're': 100000},\n",
       " {'nx': 400, 'tf': 1.0, 're': 1000},\n",
       " {'nx': 400, 'tf': 1.0, 're': 10000}]"
      ]
     },
     "execution_count": 7,
     "metadata": {},
     "output_type": "execute_result"
    }
   ],
   "source": [
    "res_opts"
   ]
  }
 ],
 "metadata": {
  "kernelspec": {
   "display_name": "dev311",
   "language": "python",
   "name": "python3"
  },
  "language_info": {
   "codemirror_mode": {
    "name": "ipython",
    "version": 3
   },
   "file_extension": ".py",
   "mimetype": "text/x-python",
   "name": "python",
   "nbconvert_exporter": "python",
   "pygments_lexer": "ipython3",
   "version": "3.11.0"
  },
  "orig_nbformat": 4,
  "vscode": {
   "interpreter": {
    "hash": "5e702f8c738ceea1011d8503810665f82818a8f7ad9832b0679e1b8c7acafaef"
   }
  }
 },
 "nbformat": 4,
 "nbformat_minor": 2
}
