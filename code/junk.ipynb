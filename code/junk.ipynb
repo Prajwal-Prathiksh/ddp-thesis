{
 "cells": [
  {
   "cell_type": "code",
   "execution_count": 1,
   "metadata": {},
   "outputs": [],
   "source": [
    "from sympy import *"
   ]
  },
  {
   "cell_type": "code",
   "execution_count": 65,
   "metadata": {},
   "outputs": [],
   "source": [
    "a0, a1, a2 = symbols('a00 a01 a02')\n",
    "a3, a4, a5 = symbols('a10 a11 a12')\n",
    "a6, a7, a8 = symbols('a20 a21 a22')\n",
    "\n",
    "w1, w2, w3 = symbols('w1 w2 w3')"
   ]
  },
  {
   "cell_type": "code",
   "execution_count": 70,
   "metadata": {},
   "outputs": [
    {
     "data": {
      "text/latex": [
       "$\\displaystyle \\left[\\begin{matrix}a_{00} & a_{01}\\\\a_{10} & a_{11}\\end{matrix}\\right]$"
      ],
      "text/plain": [
       "Matrix([\n",
       "[a00, a01],\n",
       "[a10, a11]])"
      ]
     },
     "execution_count": 70,
     "metadata": {},
     "output_type": "execute_result"
    }
   ],
   "source": [
    "a = [[a0, a1], [a3, a4]]\n",
    "A2 = Matrix(a)\n",
    "A2"
   ]
  },
  {
   "cell_type": "code",
   "execution_count": 72,
   "metadata": {},
   "outputs": [
    {
     "data": {
      "text/latex": [
       "$\\displaystyle \\left[\\begin{matrix}w_{1}\\\\w_{2}\\end{matrix}\\right]$"
      ],
      "text/plain": [
       "Matrix([\n",
       "[w1],\n",
       "[w2]])"
      ]
     },
     "execution_count": 72,
     "metadata": {},
     "output_type": "execute_result"
    }
   ],
   "source": [
    "W2 = Matrix([w1, w2])\n",
    "W2"
   ]
  },
  {
   "cell_type": "code",
   "execution_count": 76,
   "metadata": {},
   "outputs": [
    {
     "data": {
      "text/latex": [
       "$\\displaystyle \\left[\\begin{matrix}a_{00} w_{1} + a_{01} w_{2}\\\\a_{10} w_{1} + a_{11} w_{2}\\end{matrix}\\right]$"
      ],
      "text/plain": [
       "Matrix([\n",
       "[a00*w1 + a01*w2],\n",
       "[a10*w1 + a11*w2]])"
      ]
     },
     "execution_count": 76,
     "metadata": {},
     "output_type": "execute_result"
    }
   ],
   "source": [
    "A2*W2"
   ]
  },
  {
   "cell_type": "code",
   "execution_count": null,
   "metadata": {},
   "outputs": [],
   "source": []
  },
  {
   "cell_type": "code",
   "execution_count": null,
   "metadata": {},
   "outputs": [],
   "source": []
  },
  {
   "cell_type": "code",
   "execution_count": 73,
   "metadata": {},
   "outputs": [
    {
     "data": {
      "text/latex": [
       "$\\displaystyle \\left[\\begin{matrix}a_{00} & a_{01} & a_{02}\\\\a_{10} & a_{11} & a_{12}\\\\a_{20} & a_{21} & a_{22}\\end{matrix}\\right]$"
      ],
      "text/plain": [
       "Matrix([\n",
       "[a00, a01, a02],\n",
       "[a10, a11, a12],\n",
       "[a20, a21, a22]])"
      ]
     },
     "execution_count": 73,
     "metadata": {},
     "output_type": "execute_result"
    }
   ],
   "source": [
    "a = [[a0, a1, a2], [a3, a4, a5], [a6, a7, a8]]\n",
    "A3 = Matrix(a)\n",
    "A3"
   ]
  },
  {
   "cell_type": "code",
   "execution_count": 74,
   "metadata": {},
   "outputs": [
    {
     "data": {
      "text/latex": [
       "$\\displaystyle \\left[\\begin{matrix}w_{1}\\\\w_{2}\\\\w_{3}\\end{matrix}\\right]$"
      ],
      "text/plain": [
       "Matrix([\n",
       "[w1],\n",
       "[w2],\n",
       "[w3]])"
      ]
     },
     "execution_count": 74,
     "metadata": {},
     "output_type": "execute_result"
    }
   ],
   "source": [
    "W3 = Matrix([w1, w2, w3])\n",
    "W3"
   ]
  },
  {
   "cell_type": "code",
   "execution_count": 75,
   "metadata": {},
   "outputs": [
    {
     "data": {
      "text/latex": [
       "$\\displaystyle \\left[\\begin{matrix}a_{00} w_{1} + a_{01} w_{2} + a_{02} w_{3}\\\\a_{10} w_{1} + a_{11} w_{2} + a_{12} w_{3}\\\\a_{20} w_{1} + a_{21} w_{2} + a_{22} w_{3}\\end{matrix}\\right]$"
      ],
      "text/plain": [
       "Matrix([\n",
       "[a00*w1 + a01*w2 + a02*w3],\n",
       "[a10*w1 + a11*w2 + a12*w3],\n",
       "[a20*w1 + a21*w2 + a22*w3]])"
      ]
     },
     "execution_count": 75,
     "metadata": {},
     "output_type": "execute_result"
    }
   ],
   "source": [
    "A3*W3"
   ]
  }
 ],
 "metadata": {
  "kernelspec": {
   "display_name": "Python 3.8.5 ('pysph_env')",
   "language": "python",
   "name": "python3"
  },
  "language_info": {
   "codemirror_mode": {
    "name": "ipython",
    "version": 3
   },
   "file_extension": ".py",
   "mimetype": "text/x-python",
   "name": "python",
   "nbconvert_exporter": "python",
   "pygments_lexer": "ipython3",
   "version": "3.8.5"
  },
  "orig_nbformat": 4,
  "vscode": {
   "interpreter": {
    "hash": "0b05f2af384b33cdf0b6fc42458112af7f9c39c876346e5bf5d2f53daf48bb8d"
   }
  }
 },
 "nbformat": 4,
 "nbformat_minor": 2
}
