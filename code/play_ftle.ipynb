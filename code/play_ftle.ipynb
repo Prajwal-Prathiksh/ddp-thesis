{
 "cells": [
  {
   "cell_type": "markdown",
   "metadata": {},
   "source": [
    "### Load Files"
   ]
  },
  {
   "cell_type": "code",
   "execution_count": 1,
   "metadata": {},
   "outputs": [],
   "source": [
    "from pysph.tools.sph_evaluator import SPHEvaluator\n",
    "from pysph.base.kernels import WendlandQuinticC4\n",
    "from pysph.solver.utils import load"
   ]
  },
  {
   "cell_type": "code",
   "execution_count": 2,
   "metadata": {},
   "outputs": [],
   "source": [
    "data = load(\"outputs\\\\tgv_re_100_nx_50\\\\taylor_green_00100.npz\")"
   ]
  },
  {
   "cell_type": "code",
   "execution_count": 7,
   "metadata": {},
   "outputs": [
    {
     "data": {
      "text/plain": [
       "{'arrays': {'fluid': <pysph.base.particle_array.ParticleArray at 0x262ac376c20>},\n",
       " 'solver_data': {'dt': 0.00045454545454545455,\n",
       "  't': 0.045454545454545525,\n",
       "  'count': 100}}"
      ]
     },
     "execution_count": 7,
     "metadata": {},
     "output_type": "execute_result"
    }
   ],
   "source": [
    "data"
   ]
  },
  {
   "cell_type": "code",
   "execution_count": 8,
   "metadata": {},
   "outputs": [],
   "source": [
    "def rename_fnames_according_to_time(fname1:str, fname2:str):\n",
    "    \"\"\"\n",
    "    Rename the filenames according to the time instances.\n",
    "\n",
    "    Parameters\n",
    "    ----------\n",
    "    fname1 : str\n",
    "        Filename of the first time instance.\n",
    "    fname2 : str\n",
    "        Filename of the second time instance.\n",
    "\n",
    "    Returns\n",
    "    -------\n",
    "    fname1 : str\n",
    "        Renamed filename of the first time instance.\n",
    "    fname2 : str\n",
    "        Renamed filename of the second time instance.\n",
    "    \"\"\"\n",
    "    # Rename the filenames according to the time instances\n",
    "    if fname1.split('_')[-1] > fname2.split('_')[-1]:\n",
    "        fname1, fname2 = fname2, fname1\n",
    "    return fname1, fname2"
   ]
  },
  {
   "cell_type": "code",
   "execution_count": null,
   "metadata": {},
   "outputs": [],
   "source": []
  }
 ],
 "metadata": {
  "kernelspec": {
   "display_name": "Python 3.10.6 ('sph310')",
   "language": "python",
   "name": "python3"
  },
  "language_info": {
   "codemirror_mode": {
    "name": "ipython",
    "version": 3
   },
   "file_extension": ".py",
   "mimetype": "text/x-python",
   "name": "python",
   "nbconvert_exporter": "python",
   "pygments_lexer": "ipython3",
   "version": "3.10.6"
  },
  "orig_nbformat": 4,
  "vscode": {
   "interpreter": {
    "hash": "cbc6d616c8c8359fb696f76c2d8eb9269f6336b6c00dfc48517def07f94218b9"
   }
  }
 },
 "nbformat": 4,
 "nbformat_minor": 2
}
