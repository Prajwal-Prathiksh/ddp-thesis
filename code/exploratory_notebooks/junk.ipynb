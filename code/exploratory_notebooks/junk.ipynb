{
 "cells": [
  {
   "cell_type": "code",
   "execution_count": 1,
   "metadata": {},
   "outputs": [],
   "source": [
    "from automan.api import mdict, dprod, opts2path"
   ]
  },
  {
   "cell_type": "code",
   "execution_count": 2,
   "metadata": {},
   "outputs": [],
   "source": [
    "tmp = mdict(\n",
    "            dim=[1,2,3],\n",
    "            nx=[20001, 501, 101, 51]\n",
    "        )"
   ]
  },
  {
   "cell_type": "code",
   "execution_count": 3,
   "metadata": {},
   "outputs": [
    {
     "data": {
      "text/plain": [
       "[{'dim': 1, 'nx': 20001},\n",
       " {'dim': 1, 'nx': 501},\n",
       " {'dim': 1, 'nx': 101},\n",
       " {'dim': 1, 'nx': 51},\n",
       " {'dim': 2, 'nx': 20001},\n",
       " {'dim': 2, 'nx': 501},\n",
       " {'dim': 2, 'nx': 101},\n",
       " {'dim': 2, 'nx': 51},\n",
       " {'dim': 3, 'nx': 20001},\n",
       " {'dim': 3, 'nx': 501},\n",
       " {'dim': 3, 'nx': 101},\n",
       " {'dim': 3, 'nx': 51}]"
      ]
     },
     "execution_count": 3,
     "metadata": {},
     "output_type": "execute_result"
    }
   ],
   "source": [
    "tmp"
   ]
  },
  {
   "cell_type": "code",
   "execution_count": 7,
   "metadata": {},
   "outputs": [
    {
     "name": "stdout",
     "output_type": "stream",
     "text": [
      "dim nx\n",
      "dim nx\n",
      "dim nx\n",
      "dim nx\n",
      "dim nx\n",
      "dim nx\n",
      "dim nx\n",
      "dim nx\n",
      "dim nx\n",
      "dim nx\n",
      "dim nx\n",
      "dim nx\n"
     ]
    }
   ],
   "source": [
    "for i in tmp:\n",
    "    a,b = i\n",
    "    print(a,b)"
   ]
  }
 ],
 "metadata": {
  "kernelspec": {
   "display_name": "dev311",
   "language": "python",
   "name": "python3"
  },
  "language_info": {
   "codemirror_mode": {
    "name": "ipython",
    "version": 3
   },
   "file_extension": ".py",
   "mimetype": "text/x-python",
   "name": "python",
   "nbconvert_exporter": "python",
   "pygments_lexer": "ipython3",
   "version": "3.11.0"
  },
  "orig_nbformat": 4,
  "vscode": {
   "interpreter": {
    "hash": "5e702f8c738ceea1011d8503810665f82818a8f7ad9832b0679e1b8c7acafaef"
   }
  }
 },
 "nbformat": 4,
 "nbformat_minor": 2
}
