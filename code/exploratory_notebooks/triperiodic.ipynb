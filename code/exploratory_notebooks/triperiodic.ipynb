{
 "cells": [
  {
   "cell_type": "code",
   "execution_count": 1,
   "metadata": {},
   "outputs": [],
   "source": [
    "%gui qt"
   ]
  },
  {
   "cell_type": "code",
   "execution_count": 2,
   "metadata": {},
   "outputs": [
    {
     "name": "stderr",
     "output_type": "stream",
     "text": [
      "multiple 'tvtk.toolkits' plugins found for toolkit 'qt4': tvtk.pyface.ui.qt4.init, tvtk.pyface.ui.qt4.init\n"
     ]
    }
   ],
   "source": [
    "import numpy as np\n",
    "import matplotlib.pyplot as plt\n",
    "from mayavi import mlab\n",
    "\n",
    "pi, sin, cos = np.pi, np.sin, np.cos\n",
    "arccos = np.arccos\n",
    "piby6, fivepiby6 = pi/6, 5*pi/6\n",
    "twopi = 2*pi\n",
    "A = 4*np.sqrt(2)/np.sqrt(27)"
   ]
  },
  {
   "cell_type": "code",
   "execution_count": 3,
   "metadata": {},
   "outputs": [],
   "source": [
    "L = 1.\n",
    "R = 0.\n",
    "psi = arccos(R/np.sqrt(1+R**2))\n",
    "k = twopi/L"
   ]
  },
  {
   "cell_type": "code",
   "execution_count": 4,
   "metadata": {},
   "outputs": [],
   "source": [
    "# Create 3d meshgrid between -1 and 1\n",
    "# _x = np.linspace(-1, 1, 100)\n",
    "# x, y, z = np.meshgrid(_x, _x, _x)\n",
    "N = 40\n",
    "x, y, z = np.mgrid[-2:2:N*1j, -2:2:N*1j, -2:2:N*1j]\n",
    "# x, y, z"
   ]
  },
  {
   "cell_type": "code",
   "execution_count": 5,
   "metadata": {},
   "outputs": [],
   "source": [
    "rotation_vec = (psi/k)*np.array([1., 1., 1.])\n",
    "# Add the rotation vector to the meshgrid\n",
    "x = x + rotation_vec[0]\n",
    "y = y + rotation_vec[1]\n",
    "z = z + rotation_vec[2]\n",
    "kx, ky, kz = k*x, k*y, k*z\n",
    "# x, y, z"
   ]
  },
  {
   "cell_type": "code",
   "execution_count": 6,
   "metadata": {},
   "outputs": [],
   "source": [
    "u = A*(sin(kx - fivepiby6)*cos(ky - piby6)*sin(kz) - cos(kz - fivepiby6)*sin(kx - piby6)*sin(ky))\n",
    "v = A*(sin(ky - fivepiby6)*cos(kz - piby6)*sin(kx) - cos(kx - fivepiby6)*sin(ky - piby6)*sin(kz))\n",
    "w = A*(sin(kz - fivepiby6)*cos(kx - piby6)*sin(ky) - cos(ky - fivepiby6)*sin(kz - piby6)*sin(kx))"
   ]
  },
  {
   "cell_type": "code",
   "execution_count": 7,
   "metadata": {},
   "outputs": [
    {
     "data": {
      "text/plain": [
       "<mayavi.modules.vectors.Vectors at 0x25f5aab9800>"
      ]
     },
     "execution_count": 7,
     "metadata": {},
     "output_type": "execute_result"
    }
   ],
   "source": [
    "mlab.quiver3d(x, y, z, u, v, w, scale_factor=0.1)"
   ]
  },
  {
   "cell_type": "code",
   "execution_count": 8,
   "metadata": {},
   "outputs": [
    {
     "data": {
      "text/plain": [
       "<mayavi.modules.streamline.Streamline at 0x25f5adab9c0>"
      ]
     },
     "execution_count": 8,
     "metadata": {},
     "output_type": "execute_result"
    },
    {
     "name": "stderr",
     "output_type": "stream",
     "text": [
      "Cannot contour: No scalars in input data!\n",
      "Cannot contour: No scalars in input data!\n",
      "Cannot contour: No scalars in input data!\n",
      "Cannot contour: No scalars in input data!\n",
      "Exception occurred in traits notification handler for object: <mayavi.filters.collection.Collection object at 0x0000025F6222DF30>, trait: recorder, old value: None, new value: <apptools.scripting.recorder_with_ui.RecorderWithUI object at 0x0000025F7443FD80>\n",
      "Traceback (most recent call last):\n",
      "  File \"c:\\Users\\prajw\\miniconda3\\envs\\sph310\\lib\\site-packages\\traits-6.4.1-py3.10-win-amd64.egg\\traits\\trait_notifiers.py\", line 342, in __call__\n",
      "    self.handler(*args)\n",
      "  File \"c:\\Users\\prajw\\miniconda3\\envs\\sph310\\lib\\site-packages\\mayavi\\filters\\collection.py\", line 177, in _recorder_changed\n",
      "    super(Collection, self)._recorder_changed(old, new)\n",
      "AttributeError: 'super' object has no attribute '_recorder_changed'\n",
      "Exception occurred in traits notification handler for object: <mayavi.filters.cut_plane.CutPlane object at 0x0000025F65D19440>, trait: recorder, old value: None, new value: <apptools.scripting.recorder_with_ui.RecorderWithUI object at 0x0000025F7443FD80>\n",
      "Traceback (most recent call last):\n",
      "  File \"c:\\Users\\prajw\\miniconda3\\envs\\sph310\\lib\\site-packages\\traits-6.4.1-py3.10-win-amd64.egg\\traits\\trait_notifiers.py\", line 342, in __call__\n",
      "    self.handler(*args)\n",
      "  File \"c:\\Users\\prajw\\miniconda3\\envs\\sph310\\lib\\site-packages\\mayavi\\filters\\collection.py\", line 177, in _recorder_changed\n",
      "    super(Collection, self)._recorder_changed(old, new)\n",
      "AttributeError: 'super' object has no attribute '_recorder_changed'\n",
      "Cannot contour: No scalars in input data!\n",
      "Exception occurred in traits notification handler for object: <mayavi.filters.cut_plane.CutPlane object at 0x0000025F6F980D60>, trait: recorder, old value: None, new value: <apptools.scripting.recorder_with_ui.RecorderWithUI object at 0x0000025F7443FD80>\n",
      "Traceback (most recent call last):\n",
      "  File \"c:\\Users\\prajw\\miniconda3\\envs\\sph310\\lib\\site-packages\\traits-6.4.1-py3.10-win-amd64.egg\\traits\\trait_notifiers.py\", line 342, in __call__\n",
      "    self.handler(*args)\n",
      "  File \"c:\\Users\\prajw\\miniconda3\\envs\\sph310\\lib\\site-packages\\mayavi\\filters\\collection.py\", line 177, in _recorder_changed\n",
      "    super(Collection, self)._recorder_changed(old, new)\n",
      "AttributeError: 'super' object has no attribute '_recorder_changed'\n",
      "Exception occurred in traits notification handler for object: <mayavi.filters.cut_plane.CutPlane object at 0x0000025F69F23420>, trait: recorder, old value: None, new value: <apptools.scripting.recorder_with_ui.RecorderWithUI object at 0x0000025F7443FD80>\n",
      "Traceback (most recent call last):\n",
      "  File \"c:\\Users\\prajw\\miniconda3\\envs\\sph310\\lib\\site-packages\\traits-6.4.1-py3.10-win-amd64.egg\\traits\\trait_notifiers.py\", line 342, in __call__\n",
      "    self.handler(*args)\n",
      "  File \"c:\\Users\\prajw\\miniconda3\\envs\\sph310\\lib\\site-packages\\mayavi\\filters\\collection.py\", line 177, in _recorder_changed\n",
      "    super(Collection, self)._recorder_changed(old, new)\n",
      "AttributeError: 'super' object has no attribute '_recorder_changed'\n"
     ]
    },
    {
     "ename": "",
     "evalue": "",
     "output_type": "error",
     "traceback": [
      "\u001b[1;31mThe Kernel crashed while executing code in the the current cell or a previous cell. Please review the code in the cell(s) to identify a possible cause of the failure. Click <a href='https://aka.ms/vscodeJupyterKernelCrash'>here</a> for more info. View Jupyter <a href='command:jupyter.viewOutput'>log</a> for further details."
     ]
    }
   ],
   "source": [
    "mlab.flow(\n",
    "    x, y, z, u, v, w,\n",
    "    seedtype='plane',\n",
    ")"
   ]
  }
 ],
 "metadata": {
  "kernelspec": {
   "display_name": "sph310",
   "language": "python",
   "name": "python3"
  },
  "language_info": {
   "codemirror_mode": {
    "name": "ipython",
    "version": 3
   },
   "file_extension": ".py",
   "mimetype": "text/x-python",
   "name": "python",
   "nbconvert_exporter": "python",
   "pygments_lexer": "ipython3",
   "version": "3.10.6"
  },
  "orig_nbformat": 4,
  "vscode": {
   "interpreter": {
    "hash": "cbc6d616c8c8359fb696f76c2d8eb9269f6336b6c00dfc48517def07f94218b9"
   }
  }
 },
 "nbformat": 4,
 "nbformat_minor": 2
}
