{
 "cells": [
  {
   "cell_type": "markdown",
   "metadata": {},
   "source": [
    "### Load Files"
   ]
  },
  {
   "cell_type": "code",
   "execution_count": 1,
   "metadata": {},
   "outputs": [],
   "source": [
    "from pysph.tools.sph_evaluator import SPHEvaluator\n",
    "from pysph.base.kernels import WendlandQuinticC4\n",
    "from pysph.solver.utils import load"
   ]
  },
  {
   "cell_type": "code",
   "execution_count": 18,
   "metadata": {},
   "outputs": [],
   "source": [
    "data1 = load(\"outputs\\\\tgv_re_100_nx_50\\\\taylor_green_00000.npz\")\n",
    "data2 = load(\"outputs\\\\tgv_re_100_nx_50\\\\taylor_green_00100.npz\")"
   ]
  },
  {
   "cell_type": "code",
   "execution_count": 21,
   "metadata": {},
   "outputs": [
    {
     "data": {
      "text/plain": [
       "array([0.01166809, 0.0328813 , 0.05000046, ..., 0.95227256, 0.97137368,\n",
       "       0.99140247])"
      ]
     },
     "execution_count": 21,
     "metadata": {},
     "output_type": "execute_result"
    }
   ],
   "source": [
    "data1['arrays']['fluid'].get('x')"
   ]
  },
  {
   "cell_type": "code",
   "execution_count": 22,
   "metadata": {},
   "outputs": [
    {
     "data": {
      "text/plain": [
       "array([0.01166809, 0.0328813 , 0.05000046, ..., 0.95227256, 0.97137368,\n",
       "       0.99140247])"
      ]
     },
     "execution_count": 22,
     "metadata": {},
     "output_type": "execute_result"
    }
   ],
   "source": [
    "data1['arrays']['fluid'].get('x')"
   ]
  }
 ],
 "metadata": {
  "kernelspec": {
   "display_name": "Python 3.10.6 ('sph310')",
   "language": "python",
   "name": "python3"
  },
  "language_info": {
   "codemirror_mode": {
    "name": "ipython",
    "version": 3
   },
   "file_extension": ".py",
   "mimetype": "text/x-python",
   "name": "python",
   "nbconvert_exporter": "python",
   "pygments_lexer": "ipython3",
   "version": "3.10.6"
  },
  "orig_nbformat": 4,
  "vscode": {
   "interpreter": {
    "hash": "cbc6d616c8c8359fb696f76c2d8eb9269f6336b6c00dfc48517def07f94218b9"
   }
  }
 },
 "nbformat": 4,
 "nbformat_minor": 2
}
