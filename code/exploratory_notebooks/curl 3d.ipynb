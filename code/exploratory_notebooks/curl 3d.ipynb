{
 "cells": [
  {
   "cell_type": "code",
   "execution_count": 46,
   "metadata": {},
   "outputs": [],
   "source": [
    "import numpy as np\n",
    "import sympy as sp\n",
    "# sp.init_printing()"
   ]
  },
  {
   "attachments": {},
   "cell_type": "markdown",
   "metadata": {},
   "source": [
    "## Sympy"
   ]
  },
  {
   "cell_type": "code",
   "execution_count": 47,
   "metadata": {},
   "outputs": [],
   "source": [
    "def curl_sym(Fx, Fy, Fz, x, y, z):\n",
    "    curl_x = sp.diff(Fz, y) - sp.diff(Fy, z)\n",
    "    curl_y = sp.diff(Fx, z) - sp.diff(Fz, x)\n",
    "    curl_z = sp.diff(Fy, x) - sp.diff(Fx, y)\n",
    "    return curl_x, curl_y, curl_z"
   ]
  },
  {
   "cell_type": "code",
   "execution_count": 48,
   "metadata": {},
   "outputs": [
    {
     "name": "stdout",
     "output_type": "stream",
     "text": [
      "Vel: u = 3*y*z, v = x*z, w = 2*x*y\n",
      "Curl: omega = (x, y, -2*z)\n"
     ]
    }
   ],
   "source": [
    "x_sym, y_sym, z_sym = sp.symbols('x y z')\n",
    "\n",
    "# Define 3D velocity field\n",
    "u_sym = 3*y_sym*z_sym\n",
    "v_sym = x_sym*z_sym\n",
    "w_sym = 2*x_sym*y_sym\n",
    "\n",
    "omega_sym = curl_sym(u_sym, v_sym, w_sym, x_sym, y_sym, z_sym)\n",
    "\n",
    "print(f\"Vel: u = {u_sym}, v = {v_sym}, w = {w_sym}\")\n",
    "print(f\"Curl: omega = {omega_sym}\")"
   ]
  },
  {
   "attachments": {},
   "cell_type": "markdown",
   "metadata": {},
   "source": [
    "## Numpy"
   ]
  },
  {
   "cell_type": "code",
   "execution_count": 49,
   "metadata": {},
   "outputs": [],
   "source": [
    "def curl_numerical(u, v, w, dx):\n",
    "    \"\"\"\n",
    "    Returns the numerical curl of a vector field.\n",
    "    \"\"\"\n",
    "    def _dim(u):\n",
    "        return len(np.shape(u))\n",
    "    if _dim(u) != _dim(v):\n",
    "        raise ValueError('u and v must have the same dimensionality')\n",
    "    if _dim(u) == 2:\n",
    "        du_dy, du_dx = np.gradient(u, dx, edge_order=2)\n",
    "        dv_dy, dv_dx = np.gradient(v, dx, edge_order=2)\n",
    "        curl_z = dv_dx - du_dy\n",
    "        return curl_z\n",
    "    elif _dim(u) == 3:\n",
    "        du_dy, du_dx, du_dz = np.gradient(u, dx, edge_order=2)\n",
    "        dv_dy, dv_dx, dv_dz = np.gradient(v, dx, edge_order=2)\n",
    "        dw_dy, dw_dx, dw_dz = np.gradient(w, dx, edge_order=2)\n",
    "        curl_x = dw_dy - dv_dz\n",
    "        curl_y = du_dz - dw_dx\n",
    "        curl_z = dv_dx - du_dy\n",
    "        return curl_x, curl_y, curl_z\n",
    "    else:\n",
    "        raise ValueError('Invalid dimensionality')"
   ]
  },
  {
   "cell_type": "code",
   "execution_count": 50,
   "metadata": {},
   "outputs": [],
   "source": [
    "# Define 3D velocity field\n",
    "_x = np.linspace(0, 1, 5)\n",
    "dx = _x[1] - _x[0]\n",
    "x, y, z = np.meshgrid(_x, _x, _x)\n",
    "u_func = sp.lambdify((x_sym, y_sym, z_sym), u_sym)\n",
    "v_func = sp.lambdify((x_sym, y_sym, z_sym), v_sym)\n",
    "w_func = sp.lambdify((x_sym, y_sym, z_sym), w_sym)\n",
    "u = u_func(x, y, z)\n",
    "v = v_func(x, y, z)\n",
    "w = w_func(x, y, z)\n",
    "# w = np.zeros_like(u)\n",
    "vmag = np.sqrt(u**2 + v**2 + w**2)"
   ]
  },
  {
   "cell_type": "code",
   "execution_count": 51,
   "metadata": {},
   "outputs": [],
   "source": [
    "omega_x, omega_y, omega_z = curl_numerical(u, v, w, dx)\n",
    "\n",
    "omega_x_exact_func = sp.lambdify((x_sym, y_sym, z_sym), sp.diff(w_sym, y_sym) - sp.diff(v_sym, z_sym))\n",
    "omega_y_exact_func = sp.lambdify((x_sym, y_sym, z_sym), sp.diff(u_sym, z_sym) - sp.diff(w_sym, x_sym))\n",
    "omega_z_exact_func = sp.lambdify((x_sym, y_sym, z_sym), sp.diff(v_sym, x_sym) - sp.diff(u_sym, y_sym))\n",
    "omega_x_exact = omega_x_exact_func(x, y, z)\n",
    "omega_y_exact = omega_y_exact_func(x, y, z)\n",
    "omega_z_exact = omega_z_exact_func(x, y, z)\n",
    "\n",
    "err_x = np.abs(omega_x - omega_x_exact).max()\n",
    "err_y = np.abs(omega_y - omega_y_exact).max()\n",
    "err_z = np.abs(omega_z - omega_z_exact).max()"
   ]
  },
  {
   "cell_type": "code",
   "execution_count": 52,
   "metadata": {},
   "outputs": [
    {
     "data": {
      "text/plain": [
       "(0.0, 0.0, 0.0)"
      ]
     },
     "execution_count": 52,
     "metadata": {},
     "output_type": "execute_result"
    }
   ],
   "source": [
    "err_x, err_y, err_z"
   ]
  }
 ],
 "metadata": {
  "kernelspec": {
   "display_name": "dev311",
   "language": "python",
   "name": "python3"
  },
  "language_info": {
   "codemirror_mode": {
    "name": "ipython",
    "version": 3
   },
   "file_extension": ".py",
   "mimetype": "text/x-python",
   "name": "python",
   "nbconvert_exporter": "python",
   "pygments_lexer": "ipython3",
   "version": "3.11.0"
  },
  "orig_nbformat": 4,
  "vscode": {
   "interpreter": {
    "hash": "5e702f8c738ceea1011d8503810665f82818a8f7ad9832b0679e1b8c7acafaef"
   }
  }
 },
 "nbformat": 4,
 "nbformat_minor": 2
}
