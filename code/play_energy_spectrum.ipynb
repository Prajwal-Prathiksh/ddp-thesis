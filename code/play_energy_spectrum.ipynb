{
 "cells": [
  {
   "cell_type": "code",
   "execution_count": null,
   "metadata": {},
   "outputs": [],
   "source": [
    "import numpy as np\n",
    "import matplotlib.pyplot as plt\n",
    "from energy_spectrum import compute_scalar_energy_spectrum, compute_energy_spectrum, compute_scalar_energy_spectrum_numba # type: ignore"
   ]
  },
  {
   "cell_type": "markdown",
   "metadata": {},
   "source": [
    "### 1D"
   ]
  },
  {
   "cell_type": "code",
   "execution_count": null,
   "metadata": {},
   "outputs": [],
   "source": [
    "N = 20\n",
    "ek_u = [1] * N\n",
    "ek_u = np.array(ek_u[::-1] + [0] + ek_u)\n",
    "plt.stem(ek_u)\n",
    "\n",
    "k, ek = compute_scalar_energy_spectrum(\n",
    "    ek_u=ek_u, debug=False\n",
    ")\n",
    "plt.figure()\n",
    "plt.stem(ek)\n",
    "plt.plot(ek_u[(len(ek_u)-1)//2:], 'k')"
   ]
  },
  {
   "cell_type": "code",
   "execution_count": null,
   "metadata": {},
   "outputs": [],
   "source": [
    "N = 10\n",
    "ek_u = list(np.arange(N)+1)\n",
    "ek_u = ek_u[::-1] + [0] + ek_u\n",
    "ek_u = np.array(ek_u)\n",
    "print(len(ek_u))\n",
    "plt.stem(ek_u)\n",
    "\n",
    "k, ek = compute_scalar_energy_spectrum(ek_u)\n",
    "plt.figure()\n",
    "plt.stem(ek)\n",
    "plt.plot(ek_u[(len(ek_u)-1)//2:], 'k')"
   ]
  },
  {
   "cell_type": "markdown",
   "metadata": {},
   "source": [
    "### 2D"
   ]
  },
  {
   "cell_type": "code",
   "execution_count": null,
   "metadata": {},
   "outputs": [],
   "source": [
    "sr = 30\n",
    "x = y = np.arange(0, 1., 1. / sr)\n",
    "X, Y = np.meshgrid(x, y)\n",
    "u = np.sin(2 * np.pi * X) + np.sin(2 * np.pi * 2 * Y)\n",
    "U0 = 1.\n",
    "\n",
    "# When\n",
    "ek_u, ek_v, ek_w, u_spectrum, v_spectrum, w_spectrum =\\\n",
    "    compute_energy_spectrum(\n",
    "        u=u, v=u, w=None, U0=U0, debug=True\n",
    "    )\n",
    "plt.imshow(ek_u)\n",
    "plt.colorbar()\n",
    "plt.axis('equal')"
   ]
  },
  {
   "cell_type": "code",
   "execution_count": null,
   "metadata": {},
   "outputs": [],
   "source": [
    "tol = 1e-12\n",
    "ind = np.where(np.abs(u_spectrum - 0.5) < tol)\n",
    "ind, np.max(u_spectrum)"
   ]
  },
  {
   "cell_type": "code",
   "execution_count": null,
   "metadata": {},
   "outputs": [],
   "source": [
    "k, ek = compute_scalar_energy_spectrum(ek_u, ek_v)\n",
    "plt.stem(ek)\n",
    "plt.grid()"
   ]
  },
  {
   "cell_type": "code",
   "execution_count": null,
   "metadata": {},
   "outputs": [],
   "source": [
    "def mirror_data(q1):\n",
    "    q2 = np.fliplr(q1)\n",
    "    q3 = np.flipud(q1)\n",
    "    q4 = np.flipud(q2)\n",
    "    Q = np.vstack((np.hstack((q1, q2)), np.hstack((q3, q4))))\n",
    "    return Q"
   ]
  },
  {
   "cell_type": "code",
   "execution_count": null,
   "metadata": {},
   "outputs": [],
   "source": [
    "# Create data for first quadrant\n",
    "ek_u = np.array([\n",
    "    [1, 1, 1],\n",
    "    [1, 0, 1],\n",
    "    [1, 1, 1]\n",
    "])\n",
    "plt.imshow(ek_u)\n",
    "plt.colorbar()\n",
    "plt.axis('equal')"
   ]
  },
  {
   "cell_type": "code",
   "execution_count": null,
   "metadata": {},
   "outputs": [],
   "source": [
    "k, ek, ek_u_sphere, ek_v_sphere, ek_w_sphere =\\\n",
    "    compute_scalar_energy_spectrum(ek_u, ek_u, debug=True)\n",
    "print(len(k))"
   ]
  },
  {
   "cell_type": "code",
   "execution_count": null,
   "metadata": {},
   "outputs": [],
   "source": [
    "plt.plot(k, ek)\n",
    "plt.stem(ek_u_sphere)"
   ]
  },
  {
   "cell_type": "code",
   "execution_count": null,
   "metadata": {},
   "outputs": [],
   "source": [
    "# Create meshgrid of 10X10 points\n",
    "x = y = np.arange(-1, 1., 1. / 50)\n",
    "X, Y = np.meshgrid(x, y)\n",
    "\n",
    "# Create a circle\n",
    "r = 0.5\n",
    "u = np.sqrt((X)**2 + (Y )**2) < r\n",
    "plt.imshow(u)"
   ]
  },
  {
   "cell_type": "code",
   "execution_count": null,
   "metadata": {},
   "outputs": [],
   "source": [
    "k, ek, ek_u_sphere, ek_v_sphere, ek_w_sphere =\\\n",
    "    compute_scalar_energy_spectrum(u, u, debug=True)"
   ]
  },
  {
   "cell_type": "code",
   "execution_count": null,
   "metadata": {},
   "outputs": [],
   "source": [
    "plt.plot(k, ek)\n",
    "plt.stem(ek_u_sphere)"
   ]
  },
  {
   "cell_type": "markdown",
   "metadata": {},
   "source": [
    "### 3D"
   ]
  },
  {
   "cell_type": "code",
   "execution_count": null,
   "metadata": {},
   "outputs": [],
   "source": [
    "sr = 30\n",
    "x = y = z = np.arange(0, 1., 1. / sr)\n",
    "X, Y, Z = np.meshgrid(x, y, z)\n",
    "u = np.sin(2 * np.pi * X) + np.sin(2 * np.pi * 2 * Y) +\\\n",
    "    np.sin(2 * np.pi * 3 * Z)\n",
    "U0 = 0.5\n",
    "ek_u, ek_v, ek_w, u_spectrum, v_spectrum, w_spectrum =\\\n",
    "    compute_energy_spectrum(\n",
    "        u=u, v=u, w=u, U0=U0, debug=True\n",
    "    )"
   ]
  },
  {
   "cell_type": "code",
   "execution_count": null,
   "metadata": {},
   "outputs": [],
   "source": [
    "tol = 1e-10\n",
    "ind = np.where(np.abs(u_spectrum - 1.) < tol)\n",
    "ind, np.max(ek_u)"
   ]
  },
  {
   "cell_type": "code",
   "execution_count": null,
   "metadata": {},
   "outputs": [],
   "source": [
    "ek_u = np.array([\n",
    "    [\n",
    "        [0, 1, 0],\n",
    "        [1, 1, 1],\n",
    "        [0, 1, 0]\n",
    "    ],\n",
    "    [\n",
    "        [1, 1, 1],\n",
    "        [1, 1, 1],\n",
    "        [1, 1, 1]\n",
    "    ],\n",
    "    [\n",
    "        [1, 0, 1],\n",
    "        [0, 1, 0],\n",
    "        [1, 0, 1]\n",
    "    ]\n",
    "])\n",
    "k, ek, ek_u_sphere, ek_v_sphere, ek_w_sphere =\\\n",
    "    compute_scalar_energy_spectrum(ek_u, ek_u, ek_u, debug=True)\n",
    "print(len(k))"
   ]
  },
  {
   "cell_type": "code",
   "execution_count": null,
   "metadata": {},
   "outputs": [],
   "source": [
    "plt.plot(ek_u_sphere)\n",
    "plt.stem(ek_u_sphere)\n",
    "plt.grid()\n",
    "np.round(ek_u_sphere)"
   ]
  },
  {
   "cell_type": "markdown",
   "metadata": {},
   "source": [
    "### Scipy vs Numpy FFTm"
   ]
  },
  {
   "cell_type": "code",
   "execution_count": null,
   "metadata": {},
   "outputs": [],
   "source": [
    "from numpy.fft import fftn as fftn_numpy\n",
    "from scipy.fft import fftn as fftn_scipy\n",
    "import numpy as np\n",
    "import matplotlib.pyplot as plt\n",
    "import time"
   ]
  },
  {
   "cell_type": "code",
   "execution_count": null,
   "metadata": {},
   "outputs": [],
   "source": [
    "# Sampling rate\n",
    "sr = 5000\n",
    "\n",
    "# Time vector\n",
    "t = np.arange(0, 1., 1. / sr)\n",
    "\n",
    "# Signal\n",
    "f = [1, 2, 3, 4, 5, 6, 7, 8, 9, 10]\n",
    "a = [1, 1, 1, 1, 1, 1, 1, 1, 1, 1]\n",
    "x = np.zeros(len(t))\n",
    "for i in range(len(f)):\n",
    "    x += a[i] * np.sin(2 * np.pi * f[i] * t)\n",
    "\n",
    "# FFT - Numpy\n",
    "X_numpy = fftn_numpy(x)\n",
    "X_numpy = np.abs(X_numpy)\n",
    "\n",
    "# FFT - Scipy\n",
    "X_scipy = fftn_scipy(x)\n",
    "X_scipy = np.abs(X_scipy)"
   ]
  },
  {
   "cell_type": "code",
   "execution_count": null,
   "metadata": {},
   "outputs": [],
   "source": [
    "# Plot\n",
    "plt.figure(figsize=(10, 6))\n",
    "plt.subplot(131)\n",
    "plt.plot(t, x)\n",
    "plt.xlabel('Time (s)')\n",
    "plt.ylabel('Amplitude')\n",
    "plt.title('Signal')\n",
    "plt.subplot(132)\n",
    "plt.loglog(X_numpy, 'r', label='Numpy')\n",
    "plt.loglog(X_scipy, 'b', label='Scipy')\n",
    "plt.xlabel('Frequency (Hz)')\n",
    "plt.ylabel('Amplitude')\n",
    "plt.title('FFT')\n",
    "plt.legend()\n",
    "plt.subplot(133)\n",
    "# Plot error\n",
    "plt.loglog(np.abs(X_numpy - X_scipy), 'k')\n",
    "plt.xlabel('Frequency (Hz)')\n",
    "plt.ylabel('Amplitude')\n",
    "plt.title('Error')\n",
    "\n",
    "plt.tight_layout()\n",
    "plt.axis('equal')"
   ]
  },
  {
   "cell_type": "code",
   "execution_count": null,
   "metadata": {},
   "outputs": [],
   "source": [
    "# Plot Computation Time of numpy and scipy fftn\n",
    "N_run = 10\n",
    "t_numpy = []\n",
    "t_scipy = []\n",
    "N_array = np.arange(10, 15) #np.arange(10, 25)\n",
    "N_array = 2**N_array\n",
    "for n, N in enumerate(N_array):\n",
    "    if n % 5 == 0:\n",
    "        print(n)\n",
    "    x0 = np.random.rand(N)\n",
    "    t0 = time.time()\n",
    "    for i in range(N_run):\n",
    "        X_numpy = fftn_numpy(x0)\n",
    "    t1 = time.time()\n",
    "    t_numpy.append((t1 - t0) / 10)\n",
    "\n",
    "    t0 = time.time()\n",
    "    for i in range(N_run):\n",
    "        X_scipy = fftn_scipy(x0, workers=64)\n",
    "    t1 = time.time()\n",
    "    t_scipy.append((t1 - t0) / 10)"
   ]
  },
  {
   "cell_type": "code",
   "execution_count": null,
   "metadata": {},
   "outputs": [],
   "source": [
    "# Plot log-log plots\n",
    "fig, ax = plt.subplots()\n",
    "ax.semilogx(N_array, t_scipy, 'bo--', label='Scipy')\n",
    "ax.semilogx(N_array, t_numpy, 'ro--', label='Numpy')\n",
    "ax.set_xlabel('N')\n",
    "ax.set_ylabel('Time (s)')\n",
    "ax.set_title('Computation Time')\n",
    "ax.legend()\n",
    "plt.tight_layout()\n",
    "\n",
    "# Plot speedup in secondary y-axis\n",
    "speedup = np.array(t_scipy) / np.array(t_numpy)\n",
    "speedup = np.abs(speedup)\n",
    "ax2 = ax.twinx()\n",
    "ax2.plot(N_array, speedup, 'k')\n",
    "ax2.set_ylabel('Speedup (Scipy / Numpy)')\n",
    "ax2.hlines(1, N_array[0], N_array[-1], 'k', '--')\n",
    "plt.tight_layout()"
   ]
  },
  {
   "cell_type": "code",
   "execution_count": null,
   "metadata": {},
   "outputs": [],
   "source": [
    "# %timeit fftn_scipy(x, workers=None)"
   ]
  },
  {
   "cell_type": "code",
   "execution_count": null,
   "metadata": {},
   "outputs": [],
   "source": [
    "# %timeit fftn_scipy(x, workers=-1)"
   ]
  },
  {
   "cell_type": "code",
   "execution_count": null,
   "metadata": {},
   "outputs": [],
   "source": [
    "# %timeit fftn_scipy(x, workers=1)"
   ]
  },
  {
   "cell_type": "code",
   "execution_count": null,
   "metadata": {},
   "outputs": [],
   "source": [
    "# %timeit fftn_scipy(x, workers=64)"
   ]
  },
  {
   "cell_type": "markdown",
   "metadata": {},
   "source": [
    "### Benchmark Problem"
   ]
  },
  {
   "cell_type": "code",
   "execution_count": null,
   "metadata": {},
   "outputs": [],
   "source": [
    "import numpy as np\n",
    "import matplotlib.pyplot as plt\n",
    "from energy_spectrum import compute_energy_spectrum, compute_scalar_energy_spectrum # type: ignore"
   ]
  },
  {
   "cell_type": "code",
   "execution_count": null,
   "metadata": {},
   "outputs": [],
   "source": [
    "# Create meshgrid\n",
    "N = 50\n",
    "x = y = np.arange(0, 1., 1. / N)\n",
    "X, Y = np.meshgrid(x, y)\n",
    "\n",
    "# Sine wave\n",
    "twopi = 2 * np.pi\n",
    "u = - np.cos(twopi * X) * np.sin(twopi * Y)\n",
    "v = np.sin(twopi * X) * np.cos(twopi * Y)\n",
    "\n",
    "ek_u, ek_v, ek_w = compute_energy_spectrum(u, v, debug=False)\n",
    "k, ek, = compute_scalar_energy_spectrum(ek_u, ek_v, ek_w=None, debug=False)"
   ]
  },
  {
   "cell_type": "code",
   "execution_count": null,
   "metadata": {},
   "outputs": [],
   "source": [
    "plt.subplot(121)\n",
    "plt.imshow(u)\n",
    "plt.title('u')\n",
    "plt.subplot(122)\n",
    "plt.imshow(v)\n",
    "plt.title('v')"
   ]
  },
  {
   "cell_type": "code",
   "execution_count": null,
   "metadata": {},
   "outputs": [],
   "source": [
    "plt.figure(figsize=(12, 4))\n",
    "plt.subplot(121)\n",
    "plt.imshow(ek_u)\n",
    "plt.colorbar()\n",
    "plt.title('ek_u')\n",
    "plt.subplot(122)\n",
    "plt.plot(k, ek, 'k')\n",
    "plt.stem(k, ek)\n",
    "plt.grid()\n",
    "plt.title('ek')"
   ]
  },
  {
   "cell_type": "code",
   "execution_count": null,
   "metadata": {},
   "outputs": [],
   "source": [
    "def test(perturb=False):\n",
    "    if not perturb:\n",
    "        data = np.load('outputs\\\\tgv_re_100_nx_50_uniform\\\\energy_spectrum.npz')\n",
    "    else:\n",
    "        data = np.load('outputs\\\\tgv_re_100_nx_50\\\\energy_spectrum.npz')\n",
    "\n",
    "    # Kernel radius\n",
    "    h = data['h']\n",
    "    k_h = 1. / h\n",
    "\n",
    "    # Create meshgrid\n",
    "    N = data[\"Ni\"]\n",
    "    x = y = np.arange(0, 1., 1. / N)\n",
    "    X, Y = np.meshgrid(x, y)\n",
    "\n",
    "    # Initial Sine wave\n",
    "    twopi = 2 * np.pi\n",
    "    u = - np.cos(twopi * X) * np.sin(twopi * Y)\n",
    "    v = np.sin(twopi * X) * np.cos(twopi * Y)\n",
    "    ek_u, ek_v, ek_w = compute_energy_spectrum(u, v, debug=False)\n",
    "    k, ek, = compute_scalar_energy_spectrum(ek_u, ek_v, ek_w=None, debug=False)\n",
    "\n",
    "    plt.figure(figsize=(12, 4))\n",
    "    plt.subplot(121)\n",
    "    plt.loglog(k, ek, 'k-', label='expected')\n",
    "    plt.loglog(data['k0'], data['ek0'], 'b-', label='TGV0')\n",
    "    plt.vlines(k_h, 1e-46, 1e-1, 'g', '--', label='h')\n",
    "    plt.legend()\n",
    "    plt.xlabel('k')\n",
    "    plt.ylabel('ek')\n",
    "    plt.title(f'N = {N}, Perturb = {perturb}')\n",
    "    plt.grid()\n",
    "\n",
    "    # Final Sine wave\n",
    "    b = -2.*twopi/100.\n",
    "    fac = np.exp(b*data[\"tf\"])\n",
    "    u = - np.cos(twopi * X) * np.sin(twopi * Y) * fac\n",
    "    v = np.sin(twopi * X) * np.cos(twopi * Y) * fac\n",
    "    ek_u, ek_v, ek_w = compute_energy_spectrum(u, v, debug=False)\n",
    "    k, ek, = compute_scalar_energy_spectrum(ek_u, ek_v, ek_w=None, debug=False)\n",
    "\n",
    "    plt.subplot(122)\n",
    "    plt.loglog(k, ek, 'k-', label='expected')\n",
    "    plt.loglog(data['kf'], data['ekf'], 'b-', label='TGVf')\n",
    "    plt.vlines(k_h, 1e-46, 1e-1, 'g', '--', label='h')\n",
    "    plt.legend()\n",
    "    plt.xlabel('k')\n",
    "    plt.ylabel('ek')\n",
    "    plt.title(f'N = {N}, Perturb = {perturb}')\n",
    "    plt.grid()"
   ]
  },
  {
   "cell_type": "code",
   "execution_count": null,
   "metadata": {},
   "outputs": [],
   "source": [
    "# test(perturb=True)"
   ]
  },
  {
   "cell_type": "markdown",
   "metadata": {},
   "source": [
    "### Test OOP Implementation"
   ]
  },
  {
   "cell_type": "code",
   "execution_count": null,
   "metadata": {},
   "outputs": [],
   "source": [
    "from energy_spectrum import EnergySpectrum # type: ignore\n",
    "import matplotlib.pyplot as plt\n",
    "import numpy as np"
   ]
  },
  {
   "cell_type": "code",
   "execution_count": null,
   "metadata": {},
   "outputs": [],
   "source": [
    "# eval_u = \"sin(twopi*x) + sin(twopi*x)\"\n",
    "eval_u = \"sin(twopi*x) + sin(2*twopi*y)\"\n",
    "eval_v = \"sin(2*twopi*x) + cos(3*twopi*y)\"\n",
    "cf = [eval_u, eval_v]\n",
    "# cf = None\n",
    "dim = 2\n",
    "nx = 7\n",
    "es = EnergySpectrum.from_example(dim=dim, nx=nx, custom_formula=cf)\n",
    "# es.plot_scalar_ek(show=1, plot_type=\"stem\")\n",
    "es.plot_vector_ek(show=1, shift_fft=0)"
   ]
  },
  {
   "cell_type": "code",
   "execution_count": null,
   "metadata": {},
   "outputs": [],
   "source": [
    "es.plot_scalar_ek(show=1, plot_type=\"stem\")\n",
    "# es.plot_EK(show=1, shift_fft=0)\n"
   ]
  },
  {
   "cell_type": "code",
   "execution_count": null,
   "metadata": {},
   "outputs": [],
   "source": [
    "# fname = \"sin_velocity_profile_output/sin_velocity_profile_00000.hdf5\"\n",
    "# esfile = EnergySpectrum.from_pysph_file(fname=fname, dim=2, L=1, nx_i=50)"
   ]
  },
  {
   "cell_type": "code",
   "execution_count": null,
   "metadata": {},
   "outputs": [],
   "source": [
    "# esfile.plot_scalar_ek(show=1, plot_type=\"stem\")"
   ]
  },
  {
   "cell_type": "markdown",
   "metadata": {},
   "source": [
    "## Numba/Compyle Implementation Speedup Comparison"
   ]
  },
  {
   "cell_type": "code",
   "execution_count": null,
   "metadata": {},
   "outputs": [],
   "source": [
    "import timeit\n",
    "from energy_spectrum import EnergySpectrum # type: ignore\n",
    "import matplotlib.pyplot as plt\n",
    "import numpy as np"
   ]
  },
  {
   "cell_type": "markdown",
   "metadata": {},
   "source": [
    "### 1D"
   ]
  },
  {
   "cell_type": "code",
   "execution_count": null,
   "metadata": {},
   "outputs": [],
   "source": [
    "es_ob = EnergySpectrum.from_example(dim=1, nx=50, custom_formula=None)"
   ]
  },
  {
   "cell_type": "code",
   "execution_count": null,
   "metadata": {},
   "outputs": [],
   "source": [
    "%timeit es_ob.compute(func_config='python')"
   ]
  },
  {
   "cell_type": "code",
   "execution_count": null,
   "metadata": {},
   "outputs": [],
   "source": [
    "%timeit es_ob.compute(func_config='numba')"
   ]
  },
  {
   "cell_type": "markdown",
   "metadata": {},
   "source": [
    "### Speedup"
   ]
  },
  {
   "cell_type": "code",
   "execution_count": null,
   "metadata": {},
   "outputs": [],
   "source": [
    "def plot_speedup():\n",
    "    plt.figure()\n",
    "    EPS = 1e-50\n",
    "    for dim in [1, 2, 3]:\n",
    "        print(f\"dim = {dim}\")\n",
    "        time_python, time_numba = [], []\n",
    "        N_list = np.logspace(1, 6, 7)\n",
    "        nx_list = np.power(N_list, 1./dim).astype(int)\n",
    "        for idx, nx in enumerate(nx_list):\n",
    "            if N_list[idx] > 1e4:\n",
    "                N_iter = 1\n",
    "            else:\n",
    "                N_iter = 3\n",
    "            es_ob = EnergySpectrum.from_example(\n",
    "                dim=dim, nx=nx, custom_formula=None\n",
    "            )\n",
    "            time_python.append(\n",
    "                timeit.timeit(\n",
    "                    lambda: es_ob.compute(func_config='python'), number=N_iter\n",
    "                ) / N_iter\n",
    "            )\n",
    "            time_numba.append(\n",
    "                timeit.timeit(\n",
    "                    lambda: es_ob.compute(func_config='numba'), number=N_iter\n",
    "                ) / N_iter\n",
    "            )\n",
    "            \n",
    "            # Print % completion\n",
    "            print(f\"{idx+1}/{len(nx_list)} | nx = {nx} \", end='\\r')\n",
    "        \n",
    "        time_python = np.array(time_python) + EPS\n",
    "        time_numba = np.array(time_numba) + EPS\n",
    "        print(f\"time_python = {time_python}\")\n",
    "        print(f\"time_numba = {time_numba}\")\n",
    "        speedup_numba = time_python / time_numba\n",
    "        plt.semilogx(\n",
    "            nx_list**dim, speedup_numba, label=f'dim = {dim}, numba',\n",
    "            marker='o'\n",
    "        )\n",
    "    plt.legend()\n",
    "    plt.xlabel('N')\n",
    "    plt.ylabel('Speedup');\n",
    "    plt.grid()\n",
    "\n",
    "# plot_speedup()"
   ]
  },
  {
   "cell_type": "markdown",
   "metadata": {},
   "source": [
    "## Compyle Implementation"
   ]
  },
  {
   "cell_type": "code",
   "execution_count": 1,
   "metadata": {},
   "outputs": [],
   "source": [
    "from compyle.api import Elementwise, annotate, wrap, get_config, declare\n",
    "import numpy as np\n",
    "import matplotlib.pyplot as plt\n",
    "from energy_spectrum import EnergySpectrum # type: ignore\n",
    "from compyle.low_level import cast\n",
    "from compyle.parallel import elementwise\n",
    "from compyle.config import use_config\n",
    "from math import sqrt, ceil, floor"
   ]
  },
  {
   "cell_type": "markdown",
   "metadata": {},
   "source": [
    "### Bug Demo"
   ]
  },
  {
   "cell_type": "code",
   "execution_count": 2,
   "metadata": {},
   "outputs": [],
   "source": [
    "@elementwise\n",
    "@annotate\n",
    "def compyle_1d_helper_inf_norm(i, x, y, center_x):\n",
    "    j = cast(abs(i - center_x), \"int\")\n",
    "    y[j] += x[i]\n",
    "\n",
    "@elementwise\n",
    "@annotate(int='i, center_x', doublep='x, y')\n",
    "def compyle_1d_helper_inf_norm_explicit_annotate(i, x, y, center_x):\n",
    "    j = cast(abs(i - center_x), \"int\")\n",
    "    y[j] += x[i]\n",
    "\n",
    "@elementwise\n",
    "@annotate\n",
    "def compyle_1d_helper_2_norm(i, x, y, center_x):\n",
    "    tmp = sqrt((i-center_x)**2)\n",
    "    frac_tmp = tmp - floor(tmp)\n",
    "    if frac_tmp < 0.5:\n",
    "        j = cast(floor(tmp), \"int\")\n",
    "    else:\n",
    "        j = cast(ceil(tmp), \"int\")\n",
    "    # j = cast(round(tmp), \"int\") #DOESN'T WORK\n",
    "    y[j] += x[i]\n",
    "\n",
    "@elementwise\n",
    "@annotate(int='i, center_x', doublep='x, y')\n",
    "def compyle_1d_helper_2_norm_explicit_annotate(i, x, y, center_x):\n",
    "    tmp = sqrt((i-center_x)**2)\n",
    "    frac_tmp = tmp - floor(tmp)\n",
    "    if frac_tmp < 0.5:\n",
    "        j = cast(floor(tmp), \"int\")\n",
    "    else:\n",
    "        j = cast(ceil(tmp), \"int\")\n",
    "    # j = cast(round(tmp), \"int\") #DOESN'T WORK\n",
    "    y[j] += x[i]"
   ]
  },
  {
   "cell_type": "code",
   "execution_count": 3,
   "metadata": {},
   "outputs": [
    {
     "name": "stderr",
     "output_type": "stream",
     "text": [
      "d:\\iit bombay - miscellaneous\\winter project\\compyle\\compyle\\jit.py:199: UserWarning: \n",
      "In code in line 7:\n",
      "\n",
      "    tmp = sqrt((i-center_x)**2)\n",
      "          ^\n",
      "\n",
      "\n",
      "Function called is not marked by the annotate decorator. Argument\n",
      "type defaulting to 'double'. If the type is not 'double', store\n",
      "the value in a variable of appropriate type and use the variable\n",
      "\n",
      "  warnings.warn(msg)\n",
      "d:\\iit bombay - miscellaneous\\winter project\\compyle\\compyle\\jit.py:199: UserWarning: \n",
      "In code in line 9:\n",
      "\n",
      "    frac_tmp = tmp - floor(tmp)\n",
      "                     ^\n",
      "\n",
      "\n",
      "Function called is not marked by the annotate decorator. Argument\n",
      "type defaulting to 'double'. If the type is not 'double', store\n",
      "the value in a variable of appropriate type and use the variable\n",
      "\n",
      "  warnings.warn(msg)\n"
     ]
    },
    {
     "name": "stdout",
     "output_type": "stream",
     "text": [
      "call_args = ['floor(tmp)', ' \"int\"']\n",
      "j = <int> (floor(tmp))\n",
      "call_args = ['ceil(tmp)', ' \"int\"']\n",
      "j = <int> (ceil(tmp))\n"
     ]
    },
    {
     "data": {
      "image/png": "[encoded data removed]",
      "text/plain": [
       "<Figure size 640x480 with 1 Axes>"
      ]
     },
     "metadata": {},
     "output_type": "display_data"
    }
   ],
   "source": [
    "def make_data():\n",
    "    EPS = 1e-50\n",
    "    x = np.zeros(10)\n",
    "    x[4] = x[6] = 0.125\n",
    "\n",
    "    tmp = len(x)\n",
    "    box_radius = int(1 + np.ceil(tmp / 2))\n",
    "    center_x = int(len(x)/2)\n",
    "    y = np.zeros(box_radius) + EPS\n",
    "\n",
    "    y_expected = np.zeros(box_radius) + EPS\n",
    "    y_expected[1] += 0.125\n",
    "    \n",
    "    return x, center_x, y, y_expected\n",
    "\n",
    "x, center_x, y, y_expected = make_data()\n",
    "plt.plot(x, 'k--',label='x')\n",
    "\n",
    "with use_config(use_openmp=True):\n",
    "    x, y = wrap(x, y)\n",
    "    # compyle_1d_helper_inf_norm(x, y, center_x) #WORKS\n",
    "    # compyle_1d_helper_inf_norm_explicit_annotate(x, y, center_x) #DOESN'T WORK\n",
    "    compyle_1d_helper_2_norm(x, y, center_x) #WORKS\n",
    "    # compyle_1d_helper_2_norm_explicit_annotate(x, y, center_x) #DOESN'T WORK\n",
    "    y.pull()\n",
    "\n",
    "y_actual = y.data/2\n",
    "\n",
    "plt.stem(y_actual, label='y')\n",
    "plt.plot(np.abs(y_expected - y_actual), 'g-', label='error')\n",
    "plt.legend()\n",
    "plt.grid()"
   ]
  },
  {
   "cell_type": "code",
   "execution_count": 5,
   "metadata": {},
   "outputs": [
    {
     "name": "stdout",
     "output_type": "stream",
     "text": [
      "\n",
      "# cython: language_level=3\n",
      "from libc.stdio cimport printf\n",
      "from libc.math cimport *\n",
      "from libc.math cimport fabs as abs\n",
      "from cython.parallel import parallel, prange\n",
      "\n",
      "cimport openmp\n",
      "\n",
      "cdef openmp.omp_lock_t cy_lock\n",
      "openmp.omp_init_lock(&cy_lock)\n",
      "\n",
      "cdef inline void compyle_1d_helper_2_norm(int i, double* x, double* y, int center_x) nogil:\n",
      "    cdef double tmp\n",
      "    cdef double frac_tmp\n",
      "    cdef int j\n",
      "    tmp = sqrt((i-center_x)**2)\n",
      "    frac_tmp = tmp - floor(tmp)\n",
      "    if frac_tmp < 0.5:\n",
      "        j = <int> (floor(tmp))\n",
      "    else:\n",
      "        j = <int> (ceil(tmp))\n",
      "    # j = cast(round(tmp), \"int\") #DOESN'T WORK\n",
      "    y[j] += x[i]\n",
      "\n"
     ]
    }
   ],
   "source": [
    "print(compyle_1d_helper_2_norm.source)"
   ]
  },
  {
   "cell_type": "markdown",
   "metadata": {},
   "source": [
    "### Energy Spectrum"
   ]
  },
  {
   "cell_type": "code",
   "execution_count": 7,
   "metadata": {},
   "outputs": [],
   "source": [
    "def make_data_test(dim):\n",
    "    es_ob = EnergySpectrum.from_example(dim=dim, nx=10, custom_formula=None)\n",
    "    es_ob.compute(order=np.inf)\n",
    "    ek_u = es_ob.ek_u\n",
    "    ek_v = es_ob.ek_v\n",
    "    ek_w = es_ob.ek_w\n",
    "    dim = len(np.shape(ek_u))\n",
    "\n",
    "    plt.plot(es_ob.ek, 'k--', label='expected')\n",
    "\n",
    "    box_side_x = np.shape(ek_u)[0]\n",
    "    box_side_y = np.shape(ek_u)[1] if dim > 1 else 0\n",
    "    box_side_z = np.shape(ek_u)[2] if dim > 2 else 0\n",
    "\n",
    "    tmp = np.array([box_side_x, box_side_y, box_side_z], dtype=np.float64)\n",
    "    box_radius = int(1 + np.ceil(np.linalg.norm(tmp) / 2))\n",
    "\n",
    "    center_x = int(box_side_x / 2)\n",
    "    center_y = int(box_side_y / 2)\n",
    "    center_z = int(box_side_z / 2)\n",
    "\n",
    "    eps = 1e-50  # To avoid division by zero\n",
    "    ek_u_sphere = np.zeros((box_radius, )) + eps\n",
    "    ek_v_sphere = np.zeros((box_radius, )) + eps\n",
    "    ek_w_sphere = np.zeros((box_radius, )) + eps\n",
    "\n",
    "    return ek_u, ek_v, ek_w, box_side_x, box_side_y, box_side_z, center_x, center_y, center_z, ek_u_sphere, ek_v_sphere, ek_w_sphere"
   ]
  },
  {
   "cell_type": "markdown",
   "metadata": {},
   "source": [
    "#### 1D"
   ]
  },
  {
   "cell_type": "code",
   "execution_count": 8,
   "metadata": {},
   "outputs": [],
   "source": [
    "@elementwise\n",
    "@annotate\n",
    "def compyle_ek_1d_helper(i, ek_u, ek_u_sphere, center_x):\n",
    "    wn = cast(abs(i - center_x), \"int\")\n",
    "    ek_u_sphere[wn] += ek_u[i]"
   ]
  },
  {
   "cell_type": "code",
   "execution_count": 9,
   "metadata": {},
   "outputs": [
    {
     "name": "stdout",
     "output_type": "stream",
     "text": [
      "call_args = ['abs(i - center_x)', ' \"int\"']\n",
      "wn = <int> (abs(i - center_x))\n"
     ]
    },
    {
     "data": {
      "image/png": "[encoded data removed]",
      "text/plain": [
       "<Figure size 640x480 with 1 Axes>"
      ]
     },
     "metadata": {},
     "output_type": "display_data"
    }
   ],
   "source": [
    "ek_u, ek_v, ek_w, box_side_x, box_side_y, box_side_z, center_x, center_y, center_z, ek_u_sphere, ek_v_sphere, ek_w_sphere =\\\n",
    "    make_data_test(dim=1)\n",
    "with use_config(use_openmp=True):\n",
    "    ek_u, ek_u_sphere = wrap(\n",
    "        ek_u.ravel(), ek_u_sphere.ravel()\n",
    "    )\n",
    "    compyle_ek_1d_helper(ek_u, ek_u_sphere, center_x)\n",
    "    ek_u_sphere.pull()\n",
    "ek_actual = ek_u_sphere.data/2\n",
    "plt.stem(ek_actual, label='actual')\n",
    "plt.legend()\n",
    "plt.grid()"
   ]
  },
  {
   "cell_type": "markdown",
   "metadata": {},
   "source": [
    "#### 2D"
   ]
  },
  {
   "cell_type": "code",
   "execution_count": 10,
   "metadata": {},
   "outputs": [],
   "source": [
    "def make_data_test(dim):\n",
    "    es_ob = EnergySpectrum.from_example(dim=dim, nx=10, custom_formula=None)\n",
    "    es_ob.compute(order=np.inf)\n",
    "    ek_u = es_ob.ek_u\n",
    "    ek_v = es_ob.ek_v\n",
    "    ek_w = es_ob.ek_w\n",
    "    dim = len(np.shape(ek_u))\n",
    "\n",
    "    plt.plot(es_ob.ek, 'k--', label='expected')\n",
    "\n",
    "    box_side_x = np.shape(ek_u)[0]\n",
    "    box_side_y = np.shape(ek_u)[1] if dim > 1 else 0\n",
    "    box_side_z = np.shape(ek_u)[2] if dim > 2 else 0\n",
    "\n",
    "    tmp = np.array([box_side_x, box_side_y, box_side_z], dtype=np.float64)\n",
    "    box_radius = int(1 + np.ceil(np.linalg.norm(tmp) / 2))\n",
    "\n",
    "    center_x = int(box_side_x / 2)\n",
    "    center_y = int(box_side_y / 2)\n",
    "    center_z = int(box_side_z / 2)\n",
    "\n",
    "    eps = 1e-50  # To avoid division by zero\n",
    "    ek_u_sphere = np.zeros((box_radius, )) + eps\n",
    "    ek_v_sphere = np.zeros((box_radius, )) + eps\n",
    "    ek_w_sphere = np.zeros((box_radius, )) + eps\n",
    "\n",
    "    return ek_u, ek_v, ek_w, box_side_x, box_side_y, box_side_z, center_x, center_y, center_z, ek_u_sphere, ek_v_sphere, ek_w_sphere"
   ]
  },
  {
   "cell_type": "code",
   "execution_count": 11,
   "metadata": {},
   "outputs": [],
   "source": [
    "@elementwise\n",
    "@annotate\n",
    "def compyle_ek_2d_helper(\n",
    "    i, ek_u, ek_v, ek_u_sphere, ek_v_sphere, box_side_y, center_x, center_y\n",
    "):\n",
    "    j = declare('int')\n",
    "    # wn_max = declare('int')\n",
    "    one_d_idx = declare('int')\n",
    "    for j in range(box_side_y):\n",
    "        wn_x = cast(abs(i - center_x), \"int\")\n",
    "        wn_y = cast(abs(j - center_y), \"int\")\n",
    "        # wn_max = max(wn_x, wn_y)\n",
    "        # wn = cast(wn_max, \"int\")\n",
    "        wn = cast(max(wn_x, wn_y), \"int\")\n",
    "        one_d_idx = i*box_side_y + j\n",
    "        ek_u_sphere[wn] += ek_u[one_d_idx]\n",
    "        ek_v_sphere[wn] += ek_v[one_d_idx]"
   ]
  },
  {
   "cell_type": "code",
   "execution_count": 12,
   "metadata": {},
   "outputs": [
    {
     "ename": "",
     "evalue": "",
     "output_type": "error",
     "traceback": [
      "\u001b[1;31mCanceled future for execute_request message before replies were done"
     ]
    },
    {
     "ename": "",
     "evalue": "",
     "output_type": "error",
     "traceback": [
      "\u001b[1;31mThe Kernel crashed while executing code in the the current cell or a previous cell. Please review the code in the cell(s) to identify a possible cause of the failure. Click <a href='https://aka.ms/vscodeJupyterKernelCrash'>here</a> for more info. View Jupyter <a href='command:jupyter.viewOutput'>log</a> for further details."
     ]
    }
   ],
   "source": [
    "ek_u, ek_v, ek_w, box_side_x, box_side_y, box_side_z, center_x, center_y, center_z, ek_u_sphere, ek_v_sphere, ek_w_sphere =\\\n",
    "    make_data_test(dim=2)\n",
    "with use_config(use_openmp=True):\n",
    "    ek_u, ek_v, ek_u_sphere, ek_v_sphere = wrap(\n",
    "        ek_u.ravel(), ek_v.ravel(), ek_u_sphere.ravel(), ek_v_sphere.ravel()\n",
    "    )\n",
    "    compyle_ek_2d_helper(ek_u, ek_v, ek_u_sphere, ek_v_sphere, box_side_y, center_x, center_y)\n",
    "    ek_u_sphere.pull()\n",
    "    ek_v_sphere.pull()\n",
    "ek_actual = (ek_u_sphere.data + ek_v_sphere.data)/2\n",
    "plt.stem(ek_actual, label='actual')\n",
    "plt.legend()\n",
    "plt.grid()"
   ]
  },
  {
   "cell_type": "code",
   "execution_count": 8,
   "metadata": {},
   "outputs": [
    {
     "name": "stdout",
     "output_type": "stream",
     "text": [
      "\n",
      "# cython: language_level=3\n",
      "from libc.stdio cimport printf\n",
      "from libc.math cimport *\n",
      "from libc.math cimport fabs as abs\n",
      "from cython.parallel import parallel, prange\n",
      "\n",
      "cimport openmp\n",
      "\n",
      "cdef openmp.omp_lock_t cy_lock\n",
      "openmp.omp_init_lock(&cy_lock)\n",
      "\n",
      "cdef inline void compyle_ek_2d_helper(int i, double* ek_u, double* ek_v, double* ek_u_sphere, double* ek_v_sphere, int box_side_y, int center_x, int center_y) nogil:\n",
      "    cdef int wn_x\n",
      "    cdef int wn_y\n",
      "    cdef int wn\n",
      "    cdef int j\n",
      "    cdef int wn_max\n",
      "    cdef int one_d_idx\n",
      "    for j in range(box_side_y):\n",
      "        wn_x = <int> (abs(i - center_x))\n",
      "        wn_y = <int> (abs(j - center_y))\n",
      "        wn_max = max(wn_x, wn_y)\n",
      "        wn = <int> (wn_max)\n",
      "        one_d_idx = i*box_side_y + j\n",
      "        ek_u_sphere[wn] += ek_u[one_d_idx]\n",
      "        ek_v_sphere[wn] += ek_v[one_d_idx]\n",
      "\n"
     ]
    }
   ],
   "source": [
    "print(compyle_ek_2d_helper.source)"
   ]
  },
  {
   "cell_type": "code",
   "execution_count": 1,
   "metadata": {},
   "outputs": [
    {
     "name": "stdout",
     "output_type": "stream",
     "text": [
      "call_args = ['abs(x)', ' \"int\"']\n",
      "test = <int> (abs(x))\n"
     ]
    },
    {
     "data": {
      "text/plain": [
       "True"
      ]
     },
     "execution_count": 1,
     "metadata": {},
     "output_type": "execute_result"
    }
   ],
   "source": [
    "def _handle_cast_statement(name, call):\n",
    "    call_args = call[5:-1].split(',')\n",
    "    #TODO: Doesn't not handle multiline function calls\n",
    "    print(f\"{call_args = }\")\n",
    "    if len(call_args) <= 2:\n",
    "        expr = call_args[0].strip()\n",
    "        ctype = call_args[-1].strip()[1:-1]\n",
    "    else:\n",
    "        expr = ','.join(call_args[0:-1]).strip()\n",
    "        ctype = call_args[-1].strip()[1:-1]\n",
    "    return '%s = <%s> (%s)' % (name, ctype, expr)\n",
    "\n",
    "name = 'test'\n",
    "call = 'cast(abs(x), \"int\")'\n",
    "res = _handle_cast_statement(name, call)\n",
    "print(res)\n",
    "res == 'test = <int> (abs(x))'"
   ]
  },
  {
   "cell_type": "code",
   "execution_count": 2,
   "metadata": {},
   "outputs": [
    {
     "name": "stdout",
     "output_type": "stream",
     "text": [
      "call_args = ['max(x', ' y)', ' \"int\"']\n",
      "test = <int> (max(x, y))\n"
     ]
    },
    {
     "data": {
      "text/plain": [
       "True"
      ]
     },
     "execution_count": 2,
     "metadata": {},
     "output_type": "execute_result"
    }
   ],
   "source": [
    "name = 'test'\n",
    "call = 'cast(max(x, y), \"int\")'\n",
    "res = _handle_cast_statement(name, call)\n",
    "print(res)\n",
    "res == 'test = <int> (max(x, y))'"
   ]
  },
  {
   "cell_type": "code",
   "execution_count": 3,
   "metadata": {},
   "outputs": [
    {
     "name": "stdout",
     "output_type": "stream",
     "text": [
      "call_args = ['max(abs(i - center_x)', ' abs(j - center_y))', ' \"int\"']\n",
      "test = <int> (max(abs(i - center_x), abs(j - center_y)))\n"
     ]
    }
   ],
   "source": [
    "name = 'test'\n",
    "call = 'cast(max(abs(i - center_x), abs(j - center_y)), \"int\")'\n",
    "res = _handle_cast_statement(name, call)\n",
    "print(res)"
   ]
  }
 ],
 "metadata": {
  "kernelspec": {
   "display_name": "Python 3.10.6 ('sph310')",
   "language": "python",
   "name": "python3"
  },
  "language_info": {
   "codemirror_mode": {
    "name": "ipython",
    "version": 3
   },
   "file_extension": ".py",
   "mimetype": "text/x-python",
   "name": "python",
   "nbconvert_exporter": "python",
   "pygments_lexer": "ipython3",
   "version": "3.10.6"
  },
  "orig_nbformat": 4,
  "vscode": {
   "interpreter": {
    "hash": "cbc6d616c8c8359fb696f76c2d8eb9269f6336b6c00dfc48517def07f94218b9"
   }
  }
 },
 "nbformat": 4,
 "nbformat_minor": 2
}
