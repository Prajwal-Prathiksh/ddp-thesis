{
 "cells": [
  {
   "cell_type": "code",
   "execution_count": null,
   "metadata": {},
   "outputs": [],
   "source": [
    "import numpy as np\n",
    "import matplotlib.pyplot as plt\n",
    "from energy_spectrum import calculate_scalar_energy_spectrum, calculate_energy_spectrum"
   ]
  },
  {
   "cell_type": "markdown",
   "metadata": {},
   "source": [
    "### 1D"
   ]
  },
  {
   "cell_type": "code",
   "execution_count": null,
   "metadata": {},
   "outputs": [],
   "source": [
    "N = 20\n",
    "EK_U = [1] * N\n",
    "EK_U = np.array(EK_U[::-1] + [0] + EK_U)\n",
    "plt.stem(EK_U)\n",
    "\n",
    "k, Ek = calculate_scalar_energy_spectrum(\n",
    "    EK_U=EK_U, debug=False\n",
    ")\n",
    "plt.figure()\n",
    "plt.stem(Ek)\n",
    "plt.plot(EK_U[(len(EK_U)-1)//2:], 'k')"
   ]
  },
  {
   "cell_type": "code",
   "execution_count": null,
   "metadata": {},
   "outputs": [],
   "source": [
    "N = 10\n",
    "EK_U = list(np.arange(N)+1)\n",
    "EK_U = EK_U[::-1] + [0] + EK_U\n",
    "EK_U = np.array(EK_U)\n",
    "print(len(EK_U))\n",
    "plt.stem(EK_U)\n",
    "\n",
    "k, Ek = calculate_scalar_energy_spectrum(EK_U)\n",
    "plt.figure()\n",
    "plt.stem(Ek)\n",
    "plt.plot(EK_U[(len(EK_U)-1)//2:], 'k')"
   ]
  },
  {
   "cell_type": "markdown",
   "metadata": {},
   "source": [
    "### 2D"
   ]
  },
  {
   "cell_type": "code",
   "execution_count": null,
   "metadata": {},
   "outputs": [],
   "source": [
    "sr = 5\n",
    "x = y = np.arange(0, 1., 1. / sr)\n",
    "X, Y = np.meshgrid(x, y)\n",
    "u = np.sin(2 * np.pi * X) + np.sin(2* np.pi * 2 * Y)\n",
    "U0 = 0.5\n",
    "\n",
    "# When\n",
    "EK_U, EK_V, EK_W, u_spectrum, v_spectrum, w_spectrum =\\\n",
    "    calculate_energy_spectrum(\n",
    "        u=u, v=u, w=None, U0=U0, debug=True\n",
    "    )\n",
    "plt.imshow(EK_U)\n",
    "plt.axis('equal')"
   ]
  },
  {
   "cell_type": "code",
   "execution_count": null,
   "metadata": {},
   "outputs": [],
   "source": [
    "k, Ek = calculate_scalar_energy_spectrum(EK_U, EK_U)\n",
    "print(len(k))"
   ]
  },
  {
   "cell_type": "code",
   "execution_count": null,
   "metadata": {},
   "outputs": [],
   "source": [
    "plt.plot(Ek)\n",
    "plt.stem(Ek)"
   ]
  },
  {
   "cell_type": "code",
   "execution_count": null,
   "metadata": {},
   "outputs": [],
   "source": [
    "def mirror_data(q1):\n",
    "    q2 = np.fliplr(q1)\n",
    "    q3 = np.flipud(q1)\n",
    "    q4 = np.flipud(q2)\n",
    "    Q = np.vstack((np.hstack((q1, q2)), np.hstack((q3, q4))))\n",
    "    return Q"
   ]
  },
  {
   "cell_type": "code",
   "execution_count": null,
   "metadata": {},
   "outputs": [],
   "source": [
    "# Create data for first quadrant\n",
    "EK_U = np.array([\n",
    "    [1, 1, 1],\n",
    "    [1, 0, 1],\n",
    "    [1, 1, 1]\n",
    "])\n",
    "plt.imshow(EK_U)\n",
    "plt.colorbar()\n",
    "plt.axis('equal')"
   ]
  },
  {
   "cell_type": "code",
   "execution_count": null,
   "metadata": {},
   "outputs": [],
   "source": [
    "k, Ek, EK_U_sphere, EK_V_sphere, EK_W_sphere =\\\n",
    "    calculate_scalar_energy_spectrum(EK_U, EK_U, debug=True)\n",
    "print(len(k))"
   ]
  },
  {
   "cell_type": "code",
   "execution_count": null,
   "metadata": {},
   "outputs": [],
   "source": [
    "plt.plot(k, Ek)\n",
    "plt.stem(EK_U_sphere)"
   ]
  },
  {
   "cell_type": "code",
   "execution_count": null,
   "metadata": {},
   "outputs": [],
   "source": [
    "# Create meshgrid of 10X10 points\n",
    "x = y = np.arange(-1, 1., 1. / 50)\n",
    "X, Y = np.meshgrid(x, y)\n",
    "\n",
    "# Create a circle\n",
    "r = 0.5\n",
    "u = np.sqrt((X)**2 + (Y )**2) < r\n",
    "plt.imshow(u)"
   ]
  },
  {
   "cell_type": "code",
   "execution_count": null,
   "metadata": {},
   "outputs": [],
   "source": [
    "k, Ek, EK_U_sphere, EK_V_sphere, EK_W_sphere =\\\n",
    "    calculate_scalar_energy_spectrum(u, u, debug=True)"
   ]
  },
  {
   "cell_type": "code",
   "execution_count": null,
   "metadata": {},
   "outputs": [],
   "source": [
    "plt.plot(k, Ek)\n",
    "plt.stem(EK_U_sphere)"
   ]
  },
  {
   "cell_type": "markdown",
   "metadata": {},
   "source": [
    "### 3D"
   ]
  },
  {
   "cell_type": "code",
   "execution_count": null,
   "metadata": {},
   "outputs": [],
   "source": [
    "EK_U = np.array([\n",
    "    [\n",
    "        [0, 1, 0],\n",
    "        [1, 1, 1],\n",
    "        [0, 1, 0]\n",
    "    ],\n",
    "    [\n",
    "        [1, 1, 1],\n",
    "        [1, 1, 1],\n",
    "        [1, 1, 1]\n",
    "    ],\n",
    "    [\n",
    "        [1, 0, 1],\n",
    "        [0, 1, 0],\n",
    "        [1, 0, 1]\n",
    "    ]\n",
    "])\n",
    "k, Ek, EK_U_sphere, EK_V_sphere, EK_W_sphere =\\\n",
    "    calculate_scalar_energy_spectrum(EK_U, EK_U, EK_U, debug=True)\n",
    "print(len(k))"
   ]
  },
  {
   "cell_type": "code",
   "execution_count": null,
   "metadata": {},
   "outputs": [],
   "source": [
    "plt.plot(EK_U_sphere)\n",
    "plt.stem(EK_U_sphere)\n",
    "plt.grid()\n",
    "np.round(EK_U_sphere)"
   ]
  },
  {
   "cell_type": "markdown",
   "metadata": {},
   "source": [
    "### Scipy vs Numpy FFTm"
   ]
  },
  {
   "cell_type": "code",
   "execution_count": null,
   "metadata": {},
   "outputs": [],
   "source": [
    "from numpy.fft import fftn as fftn_numpy\n",
    "from scipy.fft import fftn as fftn_scipy\n",
    "import numpy as np\n",
    "import matplotlib.pyplot as plt\n",
    "import time"
   ]
  },
  {
   "cell_type": "code",
   "execution_count": null,
   "metadata": {},
   "outputs": [],
   "source": [
    "# Sampling rate\n",
    "sr = 5000\n",
    "\n",
    "# Time vector\n",
    "t = np.arange(0, 1., 1. / sr)\n",
    "\n",
    "# Signal\n",
    "f = [1, 2, 3, 4, 5, 6, 7, 8, 9, 10]\n",
    "a = [1, 1, 1, 1, 1, 1, 1, 1, 1, 1]\n",
    "x = np.zeros(len(t))\n",
    "for i in range(len(f)):\n",
    "    x += a[i] * np.sin(2 * np.pi * f[i] * t)\n",
    "\n",
    "# FFT - Numpy\n",
    "X_numpy = fftn_numpy(x)\n",
    "X_numpy = np.abs(X_numpy)\n",
    "\n",
    "# FFT - Scipy\n",
    "X_scipy = fftn_scipy(x)\n",
    "X_scipy = np.abs(X_scipy)"
   ]
  },
  {
   "cell_type": "code",
   "execution_count": null,
   "metadata": {},
   "outputs": [],
   "source": [
    "# Plot\n",
    "plt.figure(figsize=(10, 6))\n",
    "plt.subplot(131)\n",
    "plt.plot(t, x)\n",
    "plt.xlabel('Time (s)')\n",
    "plt.ylabel('Amplitude')\n",
    "plt.title('Signal')\n",
    "plt.subplot(132)\n",
    "plt.loglog(X_numpy, 'r', label='Numpy')\n",
    "plt.loglog(X_scipy, 'b', label='Scipy')\n",
    "plt.xlabel('Frequency (Hz)')\n",
    "plt.ylabel('Amplitude')\n",
    "plt.title('FFT')\n",
    "plt.legend()\n",
    "plt.subplot(133)\n",
    "# Plot error\n",
    "plt.loglog(np.abs(X_numpy - X_scipy), 'k')\n",
    "plt.xlabel('Frequency (Hz)')\n",
    "plt.ylabel('Amplitude')\n",
    "plt.title('Error')\n",
    "\n",
    "plt.tight_layout()\n",
    "plt.axis('equal')"
   ]
  },
  {
   "cell_type": "code",
   "execution_count": null,
   "metadata": {},
   "outputs": [],
   "source": [
    "# Plot Computation Time of numpy and scipy fftn\n",
    "N_run = 10\n",
    "t_numpy = []\n",
    "t_scipy = []\n",
    "N_array = np.arange(10, 25)\n",
    "N_array = 2**N_array\n",
    "for n, N in enumerate(N_array):\n",
    "    if n % 5 == 0:\n",
    "        print(n)\n",
    "    x0 = np.random.rand(N)\n",
    "    t0 = time.time()\n",
    "    for i in range(N_run):\n",
    "        X_numpy = fftn_numpy(x0)\n",
    "    t1 = time.time()\n",
    "    t_numpy.append((t1 - t0) / 10)\n",
    "\n",
    "    t0 = time.time()\n",
    "    for i in range(N_run):\n",
    "        X_scipy = fftn_scipy(x0, workers=64)\n",
    "    t1 = time.time()\n",
    "    t_scipy.append((t1 - t0) / 10)"
   ]
  },
  {
   "cell_type": "code",
   "execution_count": null,
   "metadata": {},
   "outputs": [],
   "source": [
    "# Plot log-log plots\n",
    "fig, ax = plt.subplots()\n",
    "ax.semilogx(N_array, t_numpy, 'ro--', label='Numpy')\n",
    "ax.semilogx(N_array, t_scipy, 'bo--', label='Scipy')\n",
    "ax.set_xlabel('N')\n",
    "ax.set_ylabel('Time (s)')\n",
    "ax.set_title('Computation Time')\n",
    "ax.legend()\n",
    "plt.tight_layout()\n",
    "\n",
    "# Plot speedup in secondary y-axis\n",
    "speedup = np.array(t_scipy) / np.array(t_numpy)\n",
    "speedup = np.abs(speedup)\n",
    "ax2 = ax.twinx()\n",
    "ax2.plot(N_array, speedup, 'k')\n",
    "ax2.set_ylabel('Speedup (Scipy / Numpy)')\n",
    "ax2.hlines(1, N_array[0], N_array[-1], 'k', '--')\n",
    "plt.tight_layout()"
   ]
  },
  {
   "cell_type": "code",
   "execution_count": null,
   "metadata": {},
   "outputs": [],
   "source": [
    "%timeit fftn_scipy(x, workers=None)"
   ]
  },
  {
   "cell_type": "code",
   "execution_count": null,
   "metadata": {},
   "outputs": [],
   "source": [
    "%timeit fftn_scipy(x, workers=-1)"
   ]
  },
  {
   "cell_type": "code",
   "execution_count": null,
   "metadata": {},
   "outputs": [],
   "source": [
    "%timeit fftn_scipy(x, workers=1)"
   ]
  },
  {
   "cell_type": "code",
   "execution_count": null,
   "metadata": {},
   "outputs": [],
   "source": [
    "%timeit fftn_scipy(x, workers=64)"
   ]
  },
  {
   "cell_type": "markdown",
   "metadata": {},
   "source": [
    "### Benchmark Problem"
   ]
  },
  {
   "cell_type": "code",
   "execution_count": null,
   "metadata": {},
   "outputs": [],
   "source": [
    "import numpy as np\n",
    "import matplotlib.pyplot as plt\n",
    "from energy_spectrum import calculate_energy_spectrum, calculate_scalar_energy_spectrum"
   ]
  },
  {
   "cell_type": "code",
   "execution_count": null,
   "metadata": {},
   "outputs": [],
   "source": [
    "# Create meshgrid\n",
    "N = 50\n",
    "x = y = np.arange(0, 1., 1. / N)\n",
    "X, Y = np.meshgrid(x, y)\n",
    "\n",
    "# Sine wave\n",
    "twopi = 2 * np.pi\n",
    "u = - np.cos(twopi * X) * np.sin(twopi * Y)\n",
    "v = np.sin(twopi * X) * np.cos(twopi * Y)\n",
    "\n",
    "EK_U, EK_V, EK_W = calculate_energy_spectrum(u, v, debug=False)\n",
    "k, Ek, = calculate_scalar_energy_spectrum(EK_U, EK_V, EK_W=None, debug=False)"
   ]
  },
  {
   "cell_type": "code",
   "execution_count": null,
   "metadata": {},
   "outputs": [],
   "source": [
    "plt.figure(figsize=(12, 4))\n",
    "plt.subplot(121)\n",
    "plt.imshow(EK_U)\n",
    "plt.colorbar()\n",
    "plt.title('EK_U')\n",
    "plt.subplot(122)\n",
    "plt.plot(k, Ek, 'k')\n",
    "plt.stem(k, Ek)\n",
    "plt.grid()\n",
    "plt.title('Ek')"
   ]
  },
  {
   "cell_type": "code",
   "execution_count": null,
   "metadata": {},
   "outputs": [],
   "source": []
  },
  {
   "cell_type": "code",
   "execution_count": null,
   "metadata": {},
   "outputs": [],
   "source": []
  },
  {
   "cell_type": "code",
   "execution_count": null,
   "metadata": {},
   "outputs": [],
   "source": []
  },
  {
   "cell_type": "code",
   "execution_count": null,
   "metadata": {},
   "outputs": [],
   "source": [
    "def test():\n",
    "    data = np.load('outputs\\\\tgv_re_100_nx_50_uniform\\\\energy_spectrum.npz')\n",
    "\n",
    "    # Kernel radius\n",
    "    h = data['h']\n",
    "    k_h = 1. / h\n",
    "\n",
    "    # Create meshgrid\n",
    "    N = data[\"N_i\"]\n",
    "    x = y = np.arange(0, 1., 1. / N)\n",
    "    X, Y = np.meshgrid(x, y)\n",
    "\n",
    "    # Initial Sine wave\n",
    "    twopi = 2 * np.pi\n",
    "    u = - np.cos(twopi * X) * np.sin(twopi * Y)\n",
    "    v = np.sin(twopi * X) * np.cos(twopi * Y)\n",
    "    EK_U, EK_V, EK_W = calculate_energy_spectrum(u, v, debug=False)\n",
    "    k, Ek, = calculate_scalar_energy_spectrum(EK_U, EK_V, EK_W=None, debug=False)\n",
    "\n",
    "    plt.figure(figsize=(12, 4))\n",
    "    plt.subplot(121)\n",
    "    plt.loglog(k, Ek, 'k-', label='expected')\n",
    "    plt.loglog(data['k0'], data['Ek0'], 'b-', label='TGV0')\n",
    "    plt.vlines(k_h, 1e-46, 1e-1, 'g', '--', label='h')\n",
    "    plt.legend()\n",
    "    plt.xlabel('k')\n",
    "    plt.ylabel('Ek')\n",
    "    plt.title(f'N = {N}')\n",
    "    plt.grid()\n",
    "\n",
    "    # Final Sine wave\n",
    "    b = -2.*twopi/100.\n",
    "    fac = np.exp(b*data[\"tf\"])\n",
    "    u = - np.cos(twopi * X) * np.sin(twopi * Y) * fac\n",
    "    v = np.sin(twopi * X) * np.cos(twopi * Y) * fac\n",
    "    EK_U, EK_V, EK_W = calculate_energy_spectrum(u, v, debug=False)\n",
    "    k, Ek, = calculate_scalar_energy_spectrum(EK_U, EK_V, EK_W=None, debug=False)\n",
    "\n",
    "    plt.subplot(122)\n",
    "    plt.loglog(k, Ek, 'k-', label='expected')\n",
    "    plt.loglog(data['kf'], data['Ekf'], 'b-', label='TGVf')\n",
    "    plt.vlines(k_h, 1e-46, 1e-1, 'g', '--', label='h')\n",
    "    plt.legend()\n",
    "    plt.xlabel('k')\n",
    "    plt.ylabel('Ek')\n",
    "    plt.title(f'N = {N}')\n",
    "    plt.grid()"
   ]
  },
  {
   "cell_type": "code",
   "execution_count": null,
   "metadata": {},
   "outputs": [],
   "source": [
    "test()"
   ]
  },
  {
   "cell_type": "code",
   "execution_count": null,
   "metadata": {},
   "outputs": [],
   "source": [
    "test()"
   ]
  },
  {
   "cell_type": "code",
   "execution_count": null,
   "metadata": {},
   "outputs": [],
   "source": [
    "test()"
   ]
  },
  {
   "cell_type": "code",
   "execution_count": null,
   "metadata": {},
   "outputs": [],
   "source": [
    "test()"
   ]
  },
  {
   "cell_type": "code",
   "execution_count": null,
   "metadata": {},
   "outputs": [],
   "source": [
    "test()"
   ]
  },
  {
   "cell_type": "markdown",
   "metadata": {},
   "source": [
    "### Read output files"
   ]
  },
  {
   "cell_type": "code",
   "execution_count": 1,
   "metadata": {},
   "outputs": [],
   "source": [
    "from pysph.solver.utils import load"
   ]
  },
  {
   "cell_type": "code",
   "execution_count": 3,
   "metadata": {},
   "outputs": [],
   "source": [
    "data = load(\"outputs\\\\tgv_re_100_nx_50\\\\taylor_green_00100.npz\")"
   ]
  },
  {
   "cell_type": "code",
   "execution_count": 19,
   "metadata": {},
   "outputs": [
    {
     "name": "stdout",
     "output_type": "stream",
     "text": [
      "fluid\n"
     ]
    }
   ],
   "source": [
    "for i in data['arrays'].values():\n",
    "    print(i.name)"
   ]
  },
  {
   "cell_type": "code",
   "execution_count": 25,
   "metadata": {},
   "outputs": [
    {
     "data": {
      "text/plain": [
       "dict_keys(['tag', 'pid', 'gid', 'x', 'y', 'm', 'h', 'u', 'v', 'rho', 'p', 'au', 'w', 'z', 'aw', 'av', 'x0', 'w0', 'v0', 'p0', 'nnbr', 'ap', 'avhat', 'z0', 'y0', 'V', 'uhat', 'pavg', 'auhat', 'what', 'vhat', 'awhat', 'u0'])"
      ]
     },
     "execution_count": 25,
     "metadata": {},
     "output_type": "execute_result"
    }
   ],
   "source": [
    "data['arrays']['fluid'].properties.keys()"
   ]
  }
 ],
 "metadata": {
  "kernelspec": {
   "display_name": "Python 3.10.6 ('sph310')",
   "language": "python",
   "name": "python3"
  },
  "language_info": {
   "codemirror_mode": {
    "name": "ipython",
    "version": 3
   },
   "file_extension": ".py",
   "mimetype": "text/x-python",
   "name": "python",
   "nbconvert_exporter": "python",
   "pygments_lexer": "ipython3",
   "version": "3.10.6"
  },
  "orig_nbformat": 4,
  "vscode": {
   "interpreter": {
    "hash": "cbc6d616c8c8359fb696f76c2d8eb9269f6336b6c00dfc48517def07f94218b9"
   }
  }
 },
 "nbformat": 4,
 "nbformat_minor": 2
}
