{
 "cells": [
  {
   "cell_type": "code",
   "execution_count": null,
   "metadata": {},
   "outputs": [],
   "source": [
    "import numpy as np\n",
    "import matplotlib.pyplot as plt\n",
    "from energy_spectrum import compute_scalar_energy_spectrum, compute_energy_spectrum, compute_scalar_energy_spectrum_numba # type: ignore"
   ]
  },
  {
   "cell_type": "markdown",
   "metadata": {},
   "source": [
    "### 1D"
   ]
  },
  {
   "cell_type": "code",
   "execution_count": null,
   "metadata": {},
   "outputs": [],
   "source": [
    "N = 20\n",
    "ek_u = [1] * N\n",
    "ek_u = np.array(ek_u[::-1] + [0] + ek_u)\n",
    "plt.stem(ek_u)\n",
    "\n",
    "k, ek = compute_scalar_energy_spectrum(\n",
    "    ek_u=ek_u, debug=False\n",
    ")\n",
    "plt.figure()\n",
    "plt.stem(ek)\n",
    "plt.plot(ek_u[(len(ek_u)-1)//2:], 'k')"
   ]
  },
  {
   "cell_type": "code",
   "execution_count": null,
   "metadata": {},
   "outputs": [],
   "source": [
    "N = 10\n",
    "ek_u = list(np.arange(N)+1)\n",
    "ek_u = ek_u[::-1] + [0] + ek_u\n",
    "ek_u = np.array(ek_u)\n",
    "print(len(ek_u))\n",
    "plt.stem(ek_u)\n",
    "\n",
    "k, ek = compute_scalar_energy_spectrum(ek_u)\n",
    "plt.figure()\n",
    "plt.stem(ek)\n",
    "plt.plot(ek_u[(len(ek_u)-1)//2:], 'k')"
   ]
  },
  {
   "cell_type": "markdown",
   "metadata": {},
   "source": [
    "### 2D"
   ]
  },
  {
   "cell_type": "code",
   "execution_count": null,
   "metadata": {},
   "outputs": [],
   "source": [
    "sr = 30\n",
    "x = y = np.arange(0, 1., 1. / sr)\n",
    "X, Y = np.meshgrid(x, y)\n",
    "u = np.sin(2 * np.pi * X) + np.sin(2 * np.pi * 2 * Y)\n",
    "U0 = 1.\n",
    "\n",
    "# When\n",
    "ek_u, ek_v, ek_w, u_spectrum, v_spectrum, w_spectrum =\\\n",
    "    compute_energy_spectrum(\n",
    "        u=u, v=u, w=None, U0=U0, debug=True\n",
    "    )\n",
    "plt.imshow(ek_u)\n",
    "plt.colorbar()\n",
    "plt.axis('equal')"
   ]
  },
  {
   "cell_type": "code",
   "execution_count": null,
   "metadata": {},
   "outputs": [],
   "source": [
    "tol = 1e-12\n",
    "ind = np.where(np.abs(u_spectrum - 0.5) < tol)\n",
    "ind, np.max(u_spectrum)"
   ]
  },
  {
   "cell_type": "code",
   "execution_count": null,
   "metadata": {},
   "outputs": [],
   "source": [
    "k, ek = compute_scalar_energy_spectrum(ek_u, ek_v)\n",
    "plt.stem(ek)\n",
    "plt.grid()"
   ]
  },
  {
   "cell_type": "code",
   "execution_count": null,
   "metadata": {},
   "outputs": [],
   "source": [
    "def mirror_data(q1):\n",
    "    q2 = np.fliplr(q1)\n",
    "    q3 = np.flipud(q1)\n",
    "    q4 = np.flipud(q2)\n",
    "    Q = np.vstack((np.hstack((q1, q2)), np.hstack((q3, q4))))\n",
    "    return Q"
   ]
  },
  {
   "cell_type": "code",
   "execution_count": null,
   "metadata": {},
   "outputs": [],
   "source": [
    "# Create data for first quadrant\n",
    "ek_u = np.array([\n",
    "    [1, 1, 1],\n",
    "    [1, 0, 1],\n",
    "    [1, 1, 1]\n",
    "])\n",
    "plt.imshow(ek_u)\n",
    "plt.colorbar()\n",
    "plt.axis('equal')"
   ]
  },
  {
   "cell_type": "code",
   "execution_count": null,
   "metadata": {},
   "outputs": [],
   "source": [
    "k, ek, ek_u_sphere, ek_v_sphere, ek_w_sphere =\\\n",
    "    compute_scalar_energy_spectrum(ek_u, ek_u, debug=True)\n",
    "print(len(k))"
   ]
  },
  {
   "cell_type": "code",
   "execution_count": null,
   "metadata": {},
   "outputs": [],
   "source": [
    "plt.plot(k, ek)\n",
    "plt.stem(ek_u_sphere)"
   ]
  },
  {
   "cell_type": "code",
   "execution_count": null,
   "metadata": {},
   "outputs": [],
   "source": [
    "# Create meshgrid of 10X10 points\n",
    "x = y = np.arange(-1, 1., 1. / 50)\n",
    "X, Y = np.meshgrid(x, y)\n",
    "\n",
    "# Create a circle\n",
    "r = 0.5\n",
    "u = np.sqrt((X)**2 + (Y )**2) < r\n",
    "plt.imshow(u)"
   ]
  },
  {
   "cell_type": "code",
   "execution_count": null,
   "metadata": {},
   "outputs": [],
   "source": [
    "k, ek, ek_u_sphere, ek_v_sphere, ek_w_sphere =\\\n",
    "    compute_scalar_energy_spectrum(u, u, debug=True)"
   ]
  },
  {
   "cell_type": "code",
   "execution_count": null,
   "metadata": {},
   "outputs": [],
   "source": [
    "plt.plot(k, ek)\n",
    "plt.stem(ek_u_sphere)"
   ]
  },
  {
   "cell_type": "markdown",
   "metadata": {},
   "source": [
    "### 3D"
   ]
  },
  {
   "cell_type": "code",
   "execution_count": null,
   "metadata": {},
   "outputs": [],
   "source": [
    "sr = 30\n",
    "x = y = z = np.arange(0, 1., 1. / sr)\n",
    "X, Y, Z = np.meshgrid(x, y, z)\n",
    "u = np.sin(2 * np.pi * X) + np.sin(2 * np.pi * 2 * Y) +\\\n",
    "    np.sin(2 * np.pi * 3 * Z)\n",
    "U0 = 0.5\n",
    "ek_u, ek_v, ek_w, u_spectrum, v_spectrum, w_spectrum =\\\n",
    "    compute_energy_spectrum(\n",
    "        u=u, v=u, w=u, U0=U0, debug=True\n",
    "    )"
   ]
  },
  {
   "cell_type": "code",
   "execution_count": null,
   "metadata": {},
   "outputs": [],
   "source": [
    "tol = 1e-10\n",
    "ind = np.where(np.abs(u_spectrum - 1.) < tol)\n",
    "ind, np.max(ek_u)"
   ]
  },
  {
   "cell_type": "code",
   "execution_count": null,
   "metadata": {},
   "outputs": [],
   "source": [
    "ek_u = np.array([\n",
    "    [\n",
    "        [0, 1, 0],\n",
    "        [1, 1, 1],\n",
    "        [0, 1, 0]\n",
    "    ],\n",
    "    [\n",
    "        [1, 1, 1],\n",
    "        [1, 1, 1],\n",
    "        [1, 1, 1]\n",
    "    ],\n",
    "    [\n",
    "        [1, 0, 1],\n",
    "        [0, 1, 0],\n",
    "        [1, 0, 1]\n",
    "    ]\n",
    "])\n",
    "k, ek, ek_u_sphere, ek_v_sphere, ek_w_sphere =\\\n",
    "    compute_scalar_energy_spectrum(ek_u, ek_u, ek_u, debug=True)\n",
    "print(len(k))"
   ]
  },
  {
   "cell_type": "code",
   "execution_count": null,
   "metadata": {},
   "outputs": [],
   "source": [
    "plt.plot(ek_u_sphere)\n",
    "plt.stem(ek_u_sphere)\n",
    "plt.grid()\n",
    "np.round(ek_u_sphere)"
   ]
  },
  {
   "cell_type": "markdown",
   "metadata": {},
   "source": [
    "### Scipy vs Numpy FFTm"
   ]
  },
  {
   "cell_type": "code",
   "execution_count": null,
   "metadata": {},
   "outputs": [],
   "source": [
    "from numpy.fft import fftn as fftn_numpy\n",
    "from scipy.fft import fftn as fftn_scipy\n",
    "import numpy as np\n",
    "import matplotlib.pyplot as plt\n",
    "import time"
   ]
  },
  {
   "cell_type": "code",
   "execution_count": null,
   "metadata": {},
   "outputs": [],
   "source": [
    "# Sampling rate\n",
    "sr = 5000\n",
    "\n",
    "# Time vector\n",
    "t = np.arange(0, 1., 1. / sr)\n",
    "\n",
    "# Signal\n",
    "f = [1, 2, 3, 4, 5, 6, 7, 8, 9, 10]\n",
    "a = [1, 1, 1, 1, 1, 1, 1, 1, 1, 1]\n",
    "x = np.zeros(len(t))\n",
    "for i in range(len(f)):\n",
    "    x += a[i] * np.sin(2 * np.pi * f[i] * t)\n",
    "\n",
    "# FFT - Numpy\n",
    "X_numpy = fftn_numpy(x)\n",
    "X_numpy = np.abs(X_numpy)\n",
    "\n",
    "# FFT - Scipy\n",
    "X_scipy = fftn_scipy(x)\n",
    "X_scipy = np.abs(X_scipy)"
   ]
  },
  {
   "cell_type": "code",
   "execution_count": null,
   "metadata": {},
   "outputs": [],
   "source": [
    "# Plot\n",
    "plt.figure(figsize=(10, 6))\n",
    "plt.subplot(131)\n",
    "plt.plot(t, x)\n",
    "plt.xlabel('Time (s)')\n",
    "plt.ylabel('Amplitude')\n",
    "plt.title('Signal')\n",
    "plt.subplot(132)\n",
    "plt.loglog(X_numpy, 'r', label='Numpy')\n",
    "plt.loglog(X_scipy, 'b', label='Scipy')\n",
    "plt.xlabel('Frequency (Hz)')\n",
    "plt.ylabel('Amplitude')\n",
    "plt.title('FFT')\n",
    "plt.legend()\n",
    "plt.subplot(133)\n",
    "# Plot error\n",
    "plt.loglog(np.abs(X_numpy - X_scipy), 'k')\n",
    "plt.xlabel('Frequency (Hz)')\n",
    "plt.ylabel('Amplitude')\n",
    "plt.title('Error')\n",
    "\n",
    "plt.tight_layout()\n",
    "plt.axis('equal')"
   ]
  },
  {
   "cell_type": "code",
   "execution_count": null,
   "metadata": {},
   "outputs": [],
   "source": [
    "# Plot Computation Time of numpy and scipy fftn\n",
    "N_run = 10\n",
    "t_numpy = []\n",
    "t_scipy = []\n",
    "N_array = np.arange(10, 15) #np.arange(10, 25)\n",
    "N_array = 2**N_array\n",
    "for n, N in enumerate(N_array):\n",
    "    if n % 5 == 0:\n",
    "        print(n)\n",
    "    x0 = np.random.rand(N)\n",
    "    t0 = time.time()\n",
    "    for i in range(N_run):\n",
    "        X_numpy = fftn_numpy(x0)\n",
    "    t1 = time.time()\n",
    "    t_numpy.append((t1 - t0) / 10)\n",
    "\n",
    "    t0 = time.time()\n",
    "    for i in range(N_run):\n",
    "        X_scipy = fftn_scipy(x0, workers=64)\n",
    "    t1 = time.time()\n",
    "    t_scipy.append((t1 - t0) / 10)"
   ]
  },
  {
   "cell_type": "code",
   "execution_count": null,
   "metadata": {},
   "outputs": [],
   "source": [
    "# Plot log-log plots\n",
    "fig, ax = plt.subplots()\n",
    "ax.semilogx(N_array, t_scipy, 'bo--', label='Scipy')\n",
    "ax.semilogx(N_array, t_numpy, 'ro--', label='Numpy')\n",
    "ax.set_xlabel('N')\n",
    "ax.set_ylabel('Time (s)')\n",
    "ax.set_title('Computation Time')\n",
    "ax.legend()\n",
    "plt.tight_layout()\n",
    "\n",
    "# Plot speedup in secondary y-axis\n",
    "speedup = np.array(t_scipy) / np.array(t_numpy)\n",
    "speedup = np.abs(speedup)\n",
    "ax2 = ax.twinx()\n",
    "ax2.plot(N_array, speedup, 'k')\n",
    "ax2.set_ylabel('Speedup (Scipy / Numpy)')\n",
    "ax2.hlines(1, N_array[0], N_array[-1], 'k', '--')\n",
    "plt.tight_layout()"
   ]
  },
  {
   "cell_type": "code",
   "execution_count": null,
   "metadata": {},
   "outputs": [],
   "source": [
    "# %timeit fftn_scipy(x, workers=None)"
   ]
  },
  {
   "cell_type": "code",
   "execution_count": null,
   "metadata": {},
   "outputs": [],
   "source": [
    "# %timeit fftn_scipy(x, workers=-1)"
   ]
  },
  {
   "cell_type": "code",
   "execution_count": null,
   "metadata": {},
   "outputs": [],
   "source": [
    "# %timeit fftn_scipy(x, workers=1)"
   ]
  },
  {
   "cell_type": "code",
   "execution_count": null,
   "metadata": {},
   "outputs": [],
   "source": [
    "# %timeit fftn_scipy(x, workers=64)"
   ]
  },
  {
   "cell_type": "markdown",
   "metadata": {},
   "source": [
    "### Benchmark Problem"
   ]
  },
  {
   "cell_type": "code",
   "execution_count": null,
   "metadata": {},
   "outputs": [],
   "source": [
    "import numpy as np\n",
    "import matplotlib.pyplot as plt\n",
    "from energy_spectrum import compute_energy_spectrum, compute_scalar_energy_spectrum # type: ignore"
   ]
  },
  {
   "cell_type": "code",
   "execution_count": null,
   "metadata": {},
   "outputs": [],
   "source": [
    "# Create meshgrid\n",
    "N = 50\n",
    "x = y = np.arange(0, 1., 1. / N)\n",
    "X, Y = np.meshgrid(x, y)\n",
    "\n",
    "# Sine wave\n",
    "twopi = 2 * np.pi\n",
    "u = - np.cos(twopi * X) * np.sin(twopi * Y)\n",
    "v = np.sin(twopi * X) * np.cos(twopi * Y)\n",
    "\n",
    "ek_u, ek_v, ek_w = compute_energy_spectrum(u, v, debug=False)\n",
    "k, ek, = compute_scalar_energy_spectrum(ek_u, ek_v, ek_w=None, debug=False)"
   ]
  },
  {
   "cell_type": "code",
   "execution_count": null,
   "metadata": {},
   "outputs": [],
   "source": [
    "plt.subplot(121)\n",
    "plt.imshow(u)\n",
    "plt.title('u')\n",
    "plt.subplot(122)\n",
    "plt.imshow(v)\n",
    "plt.title('v')"
   ]
  },
  {
   "cell_type": "code",
   "execution_count": null,
   "metadata": {},
   "outputs": [],
   "source": [
    "plt.figure(figsize=(12, 4))\n",
    "plt.subplot(121)\n",
    "plt.imshow(ek_u)\n",
    "plt.colorbar()\n",
    "plt.title('ek_u')\n",
    "plt.subplot(122)\n",
    "plt.plot(k, ek, 'k')\n",
    "plt.stem(k, ek)\n",
    "plt.grid()\n",
    "plt.title('ek')"
   ]
  },
  {
   "cell_type": "code",
   "execution_count": null,
   "metadata": {},
   "outputs": [],
   "source": [
    "def test(perturb=False):\n",
    "    if not perturb:\n",
    "        data = np.load('outputs\\\\tgv_re_100_nx_50_uniform\\\\energy_spectrum.npz')\n",
    "    else:\n",
    "        data = np.load('outputs\\\\tgv_re_100_nx_50\\\\energy_spectrum.npz')\n",
    "\n",
    "    # Kernel radius\n",
    "    h = data['h']\n",
    "    k_h = 1. / h\n",
    "\n",
    "    # Create meshgrid\n",
    "    N = data[\"Ni\"]\n",
    "    x = y = np.arange(0, 1., 1. / N)\n",
    "    X, Y = np.meshgrid(x, y)\n",
    "\n",
    "    # Initial Sine wave\n",
    "    twopi = 2 * np.pi\n",
    "    u = - np.cos(twopi * X) * np.sin(twopi * Y)\n",
    "    v = np.sin(twopi * X) * np.cos(twopi * Y)\n",
    "    ek_u, ek_v, ek_w = compute_energy_spectrum(u, v, debug=False)\n",
    "    k, ek, = compute_scalar_energy_spectrum(ek_u, ek_v, ek_w=None, debug=False)\n",
    "\n",
    "    plt.figure(figsize=(12, 4))\n",
    "    plt.subplot(121)\n",
    "    plt.loglog(k, ek, 'k-', label='expected')\n",
    "    plt.loglog(data['k0'], data['ek0'], 'b-', label='TGV0')\n",
    "    plt.vlines(k_h, 1e-46, 1e-1, 'g', '--', label='h')\n",
    "    plt.legend()\n",
    "    plt.xlabel('k')\n",
    "    plt.ylabel('ek')\n",
    "    plt.title(f'N = {N}, Perturb = {perturb}')\n",
    "    plt.grid()\n",
    "\n",
    "    # Final Sine wave\n",
    "    b = -2.*twopi/100.\n",
    "    fac = np.exp(b*data[\"tf\"])\n",
    "    u = - np.cos(twopi * X) * np.sin(twopi * Y) * fac\n",
    "    v = np.sin(twopi * X) * np.cos(twopi * Y) * fac\n",
    "    ek_u, ek_v, ek_w = compute_energy_spectrum(u, v, debug=False)\n",
    "    k, ek, = compute_scalar_energy_spectrum(ek_u, ek_v, ek_w=None, debug=False)\n",
    "\n",
    "    plt.subplot(122)\n",
    "    plt.loglog(k, ek, 'k-', label='expected')\n",
    "    plt.loglog(data['kf'], data['ekf'], 'b-', label='TGVf')\n",
    "    plt.vlines(k_h, 1e-46, 1e-1, 'g', '--', label='h')\n",
    "    plt.legend()\n",
    "    plt.xlabel('k')\n",
    "    plt.ylabel('ek')\n",
    "    plt.title(f'N = {N}, Perturb = {perturb}')\n",
    "    plt.grid()"
   ]
  },
  {
   "cell_type": "code",
   "execution_count": null,
   "metadata": {},
   "outputs": [],
   "source": [
    "# test(perturb=True)"
   ]
  },
  {
   "cell_type": "markdown",
   "metadata": {},
   "source": [
    "### Test OOP Implementation"
   ]
  },
  {
   "cell_type": "code",
   "execution_count": null,
   "metadata": {},
   "outputs": [],
   "source": [
    "from energy_spectrum import EnergySpectrum # type: ignore\n",
    "import matplotlib.pyplot as plt\n",
    "import numpy as np"
   ]
  },
  {
   "cell_type": "code",
   "execution_count": null,
   "metadata": {},
   "outputs": [],
   "source": [
    "# eval_u = \"sin(twopi*x) + sin(twopi*x)\"\n",
    "eval_u = \"sin(twopi*x) + sin(2*twopi*y)\"\n",
    "eval_v = \"sin(2*twopi*x) + cos(3*twopi*y)\"\n",
    "cf = [eval_u, eval_v]\n",
    "# cf = None\n",
    "dim = 2\n",
    "nx = 7\n",
    "es = EnergySpectrum.from_example(dim=dim, nx=nx, custom_formula=cf)\n",
    "# es.plot_scalar_ek(show=1, plot_type=\"stem\")\n",
    "es.plot_vector_ek(show=1, shift_fft=0)"
   ]
  },
  {
   "cell_type": "code",
   "execution_count": null,
   "metadata": {},
   "outputs": [],
   "source": [
    "es.plot_scalar_ek(show=1, plot_type=\"stem\")\n",
    "# es.plot_EK(show=1, shift_fft=0)\n"
   ]
  },
  {
   "cell_type": "code",
   "execution_count": null,
   "metadata": {},
   "outputs": [],
   "source": [
    "# fname = \"sin_velocity_profile_output/sin_velocity_profile_00000.hdf5\"\n",
    "# esfile = EnergySpectrum.from_pysph_file(fname=fname, dim=2, L=1, nx_i=50)"
   ]
  },
  {
   "cell_type": "code",
   "execution_count": null,
   "metadata": {},
   "outputs": [],
   "source": [
    "# esfile.plot_scalar_ek(show=1, plot_type=\"stem\")"
   ]
  },
  {
   "cell_type": "markdown",
   "metadata": {},
   "source": [
    "## Numba/Compyle Implementation Speedup Comparison"
   ]
  },
  {
   "cell_type": "code",
   "execution_count": null,
   "metadata": {},
   "outputs": [],
   "source": [
    "import timeit\n",
    "from energy_spectrum import EnergySpectrum # type: ignore\n",
    "import matplotlib.pyplot as plt\n",
    "import numpy as np"
   ]
  },
  {
   "cell_type": "markdown",
   "metadata": {},
   "source": [
    "### 1D"
   ]
  },
  {
   "cell_type": "code",
   "execution_count": null,
   "metadata": {},
   "outputs": [],
   "source": [
    "es_ob = EnergySpectrum.from_example(dim=1, nx=50, custom_formula=None)"
   ]
  },
  {
   "cell_type": "code",
   "execution_count": null,
   "metadata": {},
   "outputs": [],
   "source": [
    "%timeit es_ob.compute(func_config='python')"
   ]
  },
  {
   "cell_type": "code",
   "execution_count": null,
   "metadata": {},
   "outputs": [],
   "source": [
    "%timeit es_ob.compute(func_config='numba')"
   ]
  },
  {
   "cell_type": "markdown",
   "metadata": {},
   "source": [
    "### Speedup"
   ]
  },
  {
   "cell_type": "code",
   "execution_count": null,
   "metadata": {},
   "outputs": [],
   "source": [
    "def plot_speedup():\n",
    "    plt.figure()\n",
    "    EPS = 1e-50\n",
    "    for dim in [1, 2, 3]:\n",
    "        print(f\"dim = {dim}\")\n",
    "        time_python, time_numba = [], []\n",
    "        N_list = np.logspace(1, 6, 7)\n",
    "        nx_list = np.power(N_list, 1./dim).astype(int)\n",
    "        for idx, nx in enumerate(nx_list):\n",
    "            if N_list[idx] > 1e4:\n",
    "                N_iter = 1\n",
    "            else:\n",
    "                N_iter = 3\n",
    "            es_ob = EnergySpectrum.from_example(\n",
    "                dim=dim, nx=nx, custom_formula=None\n",
    "            )\n",
    "            time_python.append(\n",
    "                timeit.timeit(\n",
    "                    lambda: es_ob.compute(func_config='python'), number=N_iter\n",
    "                ) / N_iter\n",
    "            )\n",
    "            time_numba.append(\n",
    "                timeit.timeit(\n",
    "                    lambda: es_ob.compute(func_config='numba'), number=N_iter\n",
    "                ) / N_iter\n",
    "            )\n",
    "            \n",
    "            # Print % completion\n",
    "            print(f\"{idx+1}/{len(nx_list)} | nx = {nx} \", end='\\r')\n",
    "        \n",
    "        time_python = np.array(time_python) + EPS\n",
    "        time_numba = np.array(time_numba) + EPS\n",
    "        print(f\"time_python = {time_python}\")\n",
    "        print(f\"time_numba = {time_numba}\")\n",
    "        speedup_numba = time_python / time_numba\n",
    "        plt.semilogx(\n",
    "            nx_list**dim, speedup_numba, label=f'dim = {dim}, numba',\n",
    "            marker='o'\n",
    "        )\n",
    "    plt.legend()\n",
    "    plt.xlabel('N')\n",
    "    plt.ylabel('Speedup');\n",
    "    plt.grid()\n",
    "\n",
    "# plot_speedup()"
   ]
  },
  {
   "cell_type": "markdown",
   "metadata": {},
   "source": [
    "## Compyle Implementation"
   ]
  },
  {
   "cell_type": "code",
   "execution_count": 3,
   "metadata": {},
   "outputs": [],
   "source": [
    "from compyle.api import Elementwise, annotate, wrap, get_config, declare\n",
    "import numpy as np\n",
    "import matplotlib.pyplot as plt\n",
    "from energy_spectrum import EnergySpectrum # type: ignore\n",
    "from compyle.low_level import cast"
   ]
  },
  {
   "cell_type": "code",
   "execution_count": 12,
   "metadata": {},
   "outputs": [],
   "source": [
    "@annotate(int='x, y', return_='int')\n",
    "def custom_int_abs(x, y):\n",
    "    if x < 0:\n",
    "        y = -x\n",
    "    else:\n",
    "        y = x\n",
    "\n",
    "@annotate(i='int', doublep='ek_u, ek_u_sphere', center_x='int')\n",
    "def compyle_1d_helper(i, ek_u, ek_u_sphere, center_x):\n",
    "    # wn = declare('int')\n",
    "    tmp = abs(i - center_x)\n",
    "    wn = cast(tmp, \"int\")\n",
    "    ek_u_sphere[wn] += ek_u[i]"
   ]
  },
  {
   "cell_type": "code",
   "execution_count": 10,
   "metadata": {},
   "outputs": [],
   "source": [
    "es_ob = EnergySpectrum.from_example(dim=1, nx=10, custom_formula=None)\n",
    "es_ob.compute()\n",
    "# es_ob.plot_scalar_ek(plot_type='stem')"
   ]
  },
  {
   "cell_type": "code",
   "execution_count": 13,
   "metadata": {},
   "outputs": [
    {
     "name": "stdout",
     "output_type": "stream",
     "text": [
      "********************************************************************************\n",
      "ERROR\n",
      "No `name` configuration, performing automatic discovery\n",
      "running build_ext\n",
      "cythoning C:\\Users\\prajw\\.compyle\\source\\py3.1-win-amd64\\m_d3ae96f50333d68d0d551e4cb3b862e3.pyx to C:\\Users\\prajw\\.compyle\\source\\py3.1-win-amd64\\m_d3ae96f50333d68d0d551e4cb3b862e3.cpp\n",
      "building 'm_d3ae96f50333d68d0d551e4cb3b862e3' extension\n",
      "\"C:\\Program Files\\Microsoft Visual Studio\\2022\\Community\\VC\\Tools\\MSVC\\14.34.31933\\bin\\HostX86\\x64\\cl.exe\" /c /nologo /O2 /W3 /GL /DNDEBUG /MD -Ic:\\Users\\prajw\\miniconda3\\envs\\sph310\\lib\\site-packages\\numpy\\core\\include -Ic:\\Users\\prajw\\miniconda3\\envs\\sph310\\include -Ic:\\Users\\prajw\\miniconda3\\envs\\sph310\\Include \"-IC:\\Program Files\\Microsoft Visual Studio\\2022\\Community\\VC\\Tools\\MSVC\\14.34.31933\\include\" \"-IC:\\Program Files\\Microsoft Visual Studio\\2022\\Community\\VC\\Auxiliary\\VS\\include\" \"-IC:\\Program Files (x86)\\Windows Kits\\10\\include\\10.0.22000.0\\ucrt\" \"-IC:\\Program Files (x86)\\Windows Kits\\10\\\\include\\10.0.22000.0\\\\um\" \"-IC:\\Program Files (x86)\\Windows Kits\\10\\\\include\\10.0.22000.0\\\\shared\" \"-IC:\\Program Files (x86)\\Windows Kits\\10\\\\include\\10.0.22000.0\\\\winrt\" \"-IC:\\Program Files (x86)\\Windows Kits\\10\\\\include\\10.0.22000.0\\\\cppwinrt\" /EHsc /TpC:\\Users\\prajw\\.compyle\\source\\py3.1-win-amd64\\m_d3ae96f50333d68d0d551e4cb3b862e3.cpp /FoC:\\Users\\prajw\\.compyle\\source\\py3.1-win-amd64\\build\\temp.win-amd64-cpython-310\\Release\\Users\\prajw\\.compyle\\source\\py3.1-win-amd64\\m_d3ae96f50333d68d0d551e4cb3b862e3.obj\n",
      "\n",
      "\n",
      "Error compiling Cython file:\n",
      "------------------------------------------------------------\n",
      "...\n",
      "    cdef double tmp\n",
      "    cdef double wn\n",
      "    # wn = declare('int')\n",
      "    tmp = abs(i - center_x)\n",
      "    wn = <int> (tmp)\n",
      "    ek_u_sphere[wn] += ek_u[i]\n",
      "              ^\n",
      "------------------------------------------------------------\n",
      "\n",
      "C:\\Users\\prajw\\.compyle\\source\\py3.1-win-amd64\\m_d3ae96f50333d68d0d551e4cb3b862e3.pyx:14:15: Invalid index type 'double'\n",
      "\n",
      "Error compiling Cython file:\n",
      "------------------------------------------------------------\n",
      "...\n",
      "    cdef double tmp\n",
      "    cdef double wn\n",
      "    # wn = declare('int')\n",
      "    tmp = abs(i - center_x)\n",
      "    wn = <int> (tmp)\n",
      "    ek_u_sphere[wn] += ek_u[i]\n",
      "              ^\n",
      "------------------------------------------------------------\n",
      "\n",
      "C:\\Users\\prajw\\.compyle\\source\\py3.1-win-amd64\\m_d3ae96f50333d68d0d551e4cb3b862e3.pyx:14:15: Invalid index type 'double'\n",
      "\n",
      "Error compiling Cython file:\n",
      "------------------------------------------------------------\n",
      "...\n",
      "    cdef double tmp\n",
      "    cdef double wn\n",
      "    # wn = declare('int')\n",
      "    tmp = abs(i - center_x)\n",
      "    wn = <int> (tmp)\n",
      "    ek_u_sphere[wn] += ek_u[i]\n",
      "              ^\n",
      "------------------------------------------------------------\n",
      "\n",
      "C:\\Users\\prajw\\.compyle\\source\\py3.1-win-amd64\\m_d3ae96f50333d68d0d551e4cb3b862e3.pyx:14:15: Invalid index type 'double'\n",
      "\n",
      "********************************************************************************\n",
      "Compilation of code failed, please check error messages above.\n"
     ]
    },
    {
     "ename": "AssertionError",
     "evalue": "",
     "output_type": "error",
     "traceback": [
      "\u001b[1;31m---------------------------------------------------------------------------\u001b[0m",
      "\u001b[1;31mDistutilsExecError\u001b[0m                        Traceback (most recent call last)",
      "File \u001b[1;32mc:\\Users\\prajw\\miniconda3\\envs\\sph310\\lib\\site-packages\\setuptools\\_distutils\\_msvccompiler.py:428\u001b[0m, in \u001b[0;36mMSVCCompiler.compile\u001b[1;34m(self, sources, output_dir, macros, include_dirs, debug, extra_preargs, extra_postargs, depends)\u001b[0m\n\u001b[0;32m    427\u001b[0m \u001b[39mtry\u001b[39;00m:\n\u001b[1;32m--> 428\u001b[0m     \u001b[39mself\u001b[39;49m\u001b[39m.\u001b[39;49mspawn(args)\n\u001b[0;32m    429\u001b[0m \u001b[39mexcept\u001b[39;00m DistutilsExecError \u001b[39mas\u001b[39;00m msg:\n",
      "File \u001b[1;32mc:\\Users\\prajw\\miniconda3\\envs\\sph310\\lib\\site-packages\\setuptools\\_distutils\\_msvccompiler.py:528\u001b[0m, in \u001b[0;36mMSVCCompiler.spawn\u001b[1;34m(self, cmd)\u001b[0m\n\u001b[0;32m    527\u001b[0m \u001b[39mwith\u001b[39;00m \u001b[39mself\u001b[39m\u001b[39m.\u001b[39m_fallback_spawn(cmd, env) \u001b[39mas\u001b[39;00m fallback:\n\u001b[1;32m--> 528\u001b[0m     \u001b[39mreturn\u001b[39;00m \u001b[39msuper\u001b[39;49m()\u001b[39m.\u001b[39;49mspawn(cmd, env\u001b[39m=\u001b[39;49menv)\n\u001b[0;32m    529\u001b[0m \u001b[39mreturn\u001b[39;00m fallback\u001b[39m.\u001b[39mvalue\n",
      "File \u001b[1;32mc:\\Users\\prajw\\miniconda3\\envs\\sph310\\lib\\site-packages\\setuptools\\_distutils\\ccompiler.py:1007\u001b[0m, in \u001b[0;36mCCompiler.spawn\u001b[1;34m(self, cmd, **kwargs)\u001b[0m\n\u001b[0;32m   1006\u001b[0m \u001b[39mdef\u001b[39;00m \u001b[39mspawn\u001b[39m(\u001b[39mself\u001b[39m, cmd, \u001b[39m*\u001b[39m\u001b[39m*\u001b[39mkwargs):\n\u001b[1;32m-> 1007\u001b[0m     spawn(cmd, dry_run\u001b[39m=\u001b[39m\u001b[39mself\u001b[39m\u001b[39m.\u001b[39mdry_run, \u001b[39m*\u001b[39m\u001b[39m*\u001b[39mkwargs)\n",
      "File \u001b[1;32mc:\\Users\\prajw\\miniconda3\\envs\\sph310\\lib\\site-packages\\setuptools\\_distutils\\spawn.py:70\u001b[0m, in \u001b[0;36mspawn\u001b[1;34m(cmd, search_path, verbose, dry_run, env)\u001b[0m\n\u001b[0;32m     69\u001b[0m     cmd \u001b[39m=\u001b[39m cmd[\u001b[39m0\u001b[39m]\n\u001b[1;32m---> 70\u001b[0m \u001b[39mraise\u001b[39;00m DistutilsExecError(\n\u001b[0;32m     71\u001b[0m     \u001b[39m\"\u001b[39m\u001b[39mcommand \u001b[39m\u001b[39m{!r}\u001b[39;00m\u001b[39m failed with exit code \u001b[39m\u001b[39m{}\u001b[39;00m\u001b[39m\"\u001b[39m\u001b[39m.\u001b[39mformat(cmd, exitcode)\n\u001b[0;32m     72\u001b[0m )\n",
      "\u001b[1;31mDistutilsExecError\u001b[0m: command 'C:\\\\Program Files\\\\Microsoft Visual Studio\\\\2022\\\\Community\\\\VC\\\\Tools\\\\MSVC\\\\14.34.31933\\\\bin\\\\HostX86\\\\x64\\\\cl.exe' failed with exit code 2",
      "\nDuring handling of the above exception, another exception occurred:\n",
      "\u001b[1;31mCompileError\u001b[0m                              Traceback (most recent call last)",
      "File \u001b[1;32md:\\iit bombay - miscellaneous\\winter project\\compyle\\compyle\\ext_module.py:264\u001b[0m, in \u001b[0;36mExtModule.build\u001b[1;34m(self, force)\u001b[0m\n\u001b[0;32m    263\u001b[0m     \u001b[39mwith\u001b[39;00m CaptureMultipleStreams() \u001b[39mas\u001b[39;00m stream:\n\u001b[1;32m--> 264\u001b[0m         mod \u001b[39m=\u001b[39m pyxbuild\u001b[39m.\u001b[39;49mpyx_to_dll(\n\u001b[0;32m    265\u001b[0m             \u001b[39mself\u001b[39;49m\u001b[39m.\u001b[39;49msrc_path, extension,\n\u001b[0;32m    266\u001b[0m             pyxbuild_dir\u001b[39m=\u001b[39;49m\u001b[39mself\u001b[39;49m\u001b[39m.\u001b[39;49mbuild_dir,\n\u001b[0;32m    267\u001b[0m             force_rebuild\u001b[39m=\u001b[39;49m\u001b[39mTrue\u001b[39;49;00m,\n\u001b[0;32m    268\u001b[0m             setup_args\u001b[39m=\u001b[39;49m{\u001b[39m'\u001b[39;49m\u001b[39mscript_args\u001b[39;49m\u001b[39m'\u001b[39;49m: script_args}\n\u001b[0;32m    269\u001b[0m         )\n\u001b[0;32m    270\u001b[0m \u001b[39mexcept\u001b[39;00m (CompileError, LinkError):\n",
      "File \u001b[1;32mc:\\Users\\prajw\\miniconda3\\envs\\sph310\\lib\\site-packages\\pyximport\\pyxbuild.py:102\u001b[0m, in \u001b[0;36mpyx_to_dll\u001b[1;34m(filename, ext, force_rebuild, build_in_temp, pyxbuild_dir, setup_args, reload_support, inplace)\u001b[0m\n\u001b[0;32m    101\u001b[0m obj_build_ext \u001b[39m=\u001b[39m dist\u001b[39m.\u001b[39mget_command_obj(\u001b[39m\"\u001b[39m\u001b[39mbuild_ext\u001b[39m\u001b[39m\"\u001b[39m)\n\u001b[1;32m--> 102\u001b[0m dist\u001b[39m.\u001b[39;49mrun_commands()\n\u001b[0;32m    103\u001b[0m so_path \u001b[39m=\u001b[39m obj_build_ext\u001b[39m.\u001b[39mget_outputs()[\u001b[39m0\u001b[39m]\n",
      "File \u001b[1;32mc:\\Users\\prajw\\miniconda3\\envs\\sph310\\lib\\site-packages\\setuptools\\_distutils\\dist.py:968\u001b[0m, in \u001b[0;36mDistribution.run_commands\u001b[1;34m(self)\u001b[0m\n\u001b[0;32m    967\u001b[0m \u001b[39mfor\u001b[39;00m cmd \u001b[39min\u001b[39;00m \u001b[39mself\u001b[39m\u001b[39m.\u001b[39mcommands:\n\u001b[1;32m--> 968\u001b[0m     \u001b[39mself\u001b[39;49m\u001b[39m.\u001b[39;49mrun_command(cmd)\n",
      "File \u001b[1;32mc:\\Users\\prajw\\miniconda3\\envs\\sph310\\lib\\site-packages\\setuptools\\dist.py:1217\u001b[0m, in \u001b[0;36mDistribution.run_command\u001b[1;34m(self, command)\u001b[0m\n\u001b[0;32m   1214\u001b[0m \u001b[39m# Postpone defaults until all explicit configuration is considered\u001b[39;00m\n\u001b[0;32m   1215\u001b[0m \u001b[39m# (setup() args, config files, command line and plugins)\u001b[39;00m\n\u001b[1;32m-> 1217\u001b[0m \u001b[39msuper\u001b[39;49m()\u001b[39m.\u001b[39;49mrun_command(command)\n",
      "File \u001b[1;32mc:\\Users\\prajw\\miniconda3\\envs\\sph310\\lib\\site-packages\\setuptools\\_distutils\\dist.py:987\u001b[0m, in \u001b[0;36mDistribution.run_command\u001b[1;34m(self, command)\u001b[0m\n\u001b[0;32m    986\u001b[0m cmd_obj\u001b[39m.\u001b[39mensure_finalized()\n\u001b[1;32m--> 987\u001b[0m cmd_obj\u001b[39m.\u001b[39;49mrun()\n\u001b[0;32m    988\u001b[0m \u001b[39mself\u001b[39m\u001b[39m.\u001b[39mhave_run[command] \u001b[39m=\u001b[39m \u001b[39m1\u001b[39m\n",
      "File \u001b[1;32mc:\\Users\\prajw\\miniconda3\\envs\\sph310\\lib\\site-packages\\Cython\\Distutils\\old_build_ext.py:186\u001b[0m, in \u001b[0;36mold_build_ext.run\u001b[1;34m(self)\u001b[0m\n\u001b[0;32m    184\u001b[0m     optimization\u001b[39m.\u001b[39mdisable_optimization()\n\u001b[1;32m--> 186\u001b[0m _build_ext\u001b[39m.\u001b[39;49mbuild_ext\u001b[39m.\u001b[39;49mrun(\u001b[39mself\u001b[39;49m)\n",
      "File \u001b[1;32mc:\\Users\\prajw\\miniconda3\\envs\\sph310\\lib\\site-packages\\setuptools\\_distutils\\command\\build_ext.py:346\u001b[0m, in \u001b[0;36mbuild_ext.run\u001b[1;34m(self)\u001b[0m\n\u001b[0;32m    345\u001b[0m \u001b[39m# Now actually compile and link everything.\u001b[39;00m\n\u001b[1;32m--> 346\u001b[0m \u001b[39mself\u001b[39;49m\u001b[39m.\u001b[39;49mbuild_extensions()\n",
      "File \u001b[1;32mc:\\Users\\prajw\\miniconda3\\envs\\sph310\\lib\\site-packages\\Cython\\Distutils\\old_build_ext.py:195\u001b[0m, in \u001b[0;36mold_build_ext.build_extensions\u001b[1;34m(self)\u001b[0m\n\u001b[0;32m    194\u001b[0m \u001b[39m# Call original build_extensions\u001b[39;00m\n\u001b[1;32m--> 195\u001b[0m _build_ext\u001b[39m.\u001b[39;49mbuild_ext\u001b[39m.\u001b[39;49mbuild_extensions(\u001b[39mself\u001b[39;49m)\n",
      "File \u001b[1;32mc:\\Users\\prajw\\miniconda3\\envs\\sph310\\lib\\site-packages\\setuptools\\_distutils\\command\\build_ext.py:466\u001b[0m, in \u001b[0;36mbuild_ext.build_extensions\u001b[1;34m(self)\u001b[0m\n\u001b[0;32m    465\u001b[0m \u001b[39melse\u001b[39;00m:\n\u001b[1;32m--> 466\u001b[0m     \u001b[39mself\u001b[39;49m\u001b[39m.\u001b[39;49m_build_extensions_serial()\n",
      "File \u001b[1;32mc:\\Users\\prajw\\miniconda3\\envs\\sph310\\lib\\site-packages\\setuptools\\_distutils\\command\\build_ext.py:492\u001b[0m, in \u001b[0;36mbuild_ext._build_extensions_serial\u001b[1;34m(self)\u001b[0m\n\u001b[0;32m    491\u001b[0m \u001b[39mwith\u001b[39;00m \u001b[39mself\u001b[39m\u001b[39m.\u001b[39m_filter_build_errors(ext):\n\u001b[1;32m--> 492\u001b[0m     \u001b[39mself\u001b[39;49m\u001b[39m.\u001b[39;49mbuild_extension(ext)\n",
      "File \u001b[1;32mc:\\Users\\prajw\\miniconda3\\envs\\sph310\\lib\\site-packages\\setuptools\\_distutils\\command\\build_ext.py:547\u001b[0m, in \u001b[0;36mbuild_ext.build_extension\u001b[1;34m(self, ext)\u001b[0m\n\u001b[0;32m    545\u001b[0m     macros\u001b[39m.\u001b[39mappend((undef,))\n\u001b[1;32m--> 547\u001b[0m objects \u001b[39m=\u001b[39m \u001b[39mself\u001b[39;49m\u001b[39m.\u001b[39;49mcompiler\u001b[39m.\u001b[39;49mcompile(\n\u001b[0;32m    548\u001b[0m     sources,\n\u001b[0;32m    549\u001b[0m     output_dir\u001b[39m=\u001b[39;49m\u001b[39mself\u001b[39;49m\u001b[39m.\u001b[39;49mbuild_temp,\n\u001b[0;32m    550\u001b[0m     macros\u001b[39m=\u001b[39;49mmacros,\n\u001b[0;32m    551\u001b[0m     include_dirs\u001b[39m=\u001b[39;49mext\u001b[39m.\u001b[39;49minclude_dirs,\n\u001b[0;32m    552\u001b[0m     debug\u001b[39m=\u001b[39;49m\u001b[39mself\u001b[39;49m\u001b[39m.\u001b[39;49mdebug,\n\u001b[0;32m    553\u001b[0m     extra_postargs\u001b[39m=\u001b[39;49mextra_args,\n\u001b[0;32m    554\u001b[0m     depends\u001b[39m=\u001b[39;49mext\u001b[39m.\u001b[39;49mdepends,\n\u001b[0;32m    555\u001b[0m )\n\u001b[0;32m    557\u001b[0m \u001b[39m# XXX outdated variable, kept here in case third-part code\u001b[39;00m\n\u001b[0;32m    558\u001b[0m \u001b[39m# needs it.\u001b[39;00m\n",
      "File \u001b[1;32mc:\\Users\\prajw\\miniconda3\\envs\\sph310\\lib\\site-packages\\setuptools\\_distutils\\_msvccompiler.py:430\u001b[0m, in \u001b[0;36mMSVCCompiler.compile\u001b[1;34m(self, sources, output_dir, macros, include_dirs, debug, extra_preargs, extra_postargs, depends)\u001b[0m\n\u001b[0;32m    429\u001b[0m     \u001b[39mexcept\u001b[39;00m DistutilsExecError \u001b[39mas\u001b[39;00m msg:\n\u001b[1;32m--> 430\u001b[0m         \u001b[39mraise\u001b[39;00m CompileError(msg)\n\u001b[0;32m    432\u001b[0m \u001b[39mreturn\u001b[39;00m objects\n",
      "\u001b[1;31mCompileError\u001b[0m: command 'C:\\\\Program Files\\\\Microsoft Visual Studio\\\\2022\\\\Community\\\\VC\\\\Tools\\\\MSVC\\\\14.34.31933\\\\bin\\\\HostX86\\\\x64\\\\cl.exe' failed with exit code 2",
      "\nDuring handling of the above exception, another exception occurred:\n",
      "\u001b[1;31mSystemExit\u001b[0m                                Traceback (most recent call last)",
      "    \u001b[1;31m[... skipping hidden 1 frame]\u001b[0m\n",
      "Cell \u001b[1;32mIn [13], line 28\u001b[0m\n\u001b[0;32m     27\u001b[0m e \u001b[39m=\u001b[39m Elementwise(compyle_1d_helper, backend\u001b[39m=\u001b[39mbackend)\n\u001b[1;32m---> 28\u001b[0m e(ek_u, ek_u_sphere, center_x)\n",
      "File \u001b[1;32md:\\iit bombay - miscellaneous\\winter project\\compyle\\compyle\\parallel.py:582\u001b[0m, in \u001b[0;36mElementwise.__call__\u001b[1;34m(self, *args, **kwargs)\u001b[0m\n\u001b[0;32m    581\u001b[0m     \u001b[39mself\u001b[39m\u001b[39m.\u001b[39m_setup()\n\u001b[1;32m--> 582\u001b[0m \u001b[39mself\u001b[39m\u001b[39m.\u001b[39melementwise(\u001b[39m*\u001b[39margs, \u001b[39m*\u001b[39m\u001b[39m*\u001b[39mkwargs)\n",
      "File \u001b[1;32md:\\iit bombay - miscellaneous\\winter project\\compyle\\compyle\\profile.py:72\u001b[0m, in \u001b[0;36mprofile.<locals>.make_wrapper.<locals>.wrapper\u001b[1;34m(*args, **kwargs)\u001b[0m\n\u001b[0;32m     71\u001b[0m \u001b[39mwith\u001b[39;00m profile_ctx(p_name):\n\u001b[1;32m---> 72\u001b[0m     \u001b[39mreturn\u001b[39;00m method(\u001b[39m*\u001b[39margs, \u001b[39m*\u001b[39m\u001b[39m*\u001b[39mkwargs)\n",
      "File \u001b[1;32md:\\iit bombay - miscellaneous\\winter project\\compyle\\compyle\\jit.py:356\u001b[0m, in \u001b[0;36mElementwiseJIT.__call__\u001b[1;34m(self, *args, **kw)\u001b[0m\n\u001b[0;32m    354\u001b[0m \u001b[39m@profile\u001b[39m\n\u001b[0;32m    355\u001b[0m \u001b[39mdef\u001b[39;00m \u001b[39m__call__\u001b[39m(\u001b[39mself\u001b[39m, \u001b[39m*\u001b[39margs, \u001b[39m*\u001b[39m\u001b[39m*\u001b[39mkw):\n\u001b[1;32m--> 356\u001b[0m     c_func \u001b[39m=\u001b[39m \u001b[39mself\u001b[39;49m\u001b[39m.\u001b[39;49m_generate_kernel(\u001b[39m*\u001b[39;49margs)\n\u001b[0;32m    357\u001b[0m     c_args \u001b[39m=\u001b[39m [\u001b[39mself\u001b[39m\u001b[39m.\u001b[39m_massage_arg(x) \u001b[39mfor\u001b[39;00m x \u001b[39min\u001b[39;00m args]\n",
      "File \u001b[1;32md:\\iit bombay - miscellaneous\\winter project\\compyle\\compyle\\jit.py:29\u001b[0m, in \u001b[0;36mmemoize_kernel.<locals>.memoize_deco.<locals>.wrapper\u001b[1;34m(*args)\u001b[0m\n\u001b[0;32m     28\u001b[0m \u001b[39mif\u001b[39;00m \u001b[39mnot\u001b[39;00m \u001b[39mhasattr\u001b[39m(f, \u001b[39m'\u001b[39m\u001b[39mcached_kernel\u001b[39m\u001b[39m'\u001b[39m):\n\u001b[1;32m---> 29\u001b[0m     \u001b[39msetattr\u001b[39m(f, \u001b[39m'\u001b[39m\u001b[39mcached_kernel\u001b[39m\u001b[39m'\u001b[39m, {key_val: method(\u001b[39m*\u001b[39;49margs)})\n\u001b[0;32m     30\u001b[0m \u001b[39melif\u001b[39;00m key_val \u001b[39mnot\u001b[39;00m \u001b[39min\u001b[39;00m f\u001b[39m.\u001b[39mcached_kernel:\n",
      "File \u001b[1;32md:\\iit bombay - miscellaneous\\winter project\\compyle\\compyle\\jit.py:344\u001b[0m, in \u001b[0;36mElementwiseJIT._generate_kernel\u001b[1;34m(self, *args)\u001b[0m\n\u001b[0;32m    343\u001b[0m     \u001b[39mself\u001b[39m\u001b[39m.\u001b[39mfunc \u001b[39m=\u001b[39m helper\u001b[39m.\u001b[39mfunc\n\u001b[1;32m--> 344\u001b[0m \u001b[39mreturn\u001b[39;00m \u001b[39mself\u001b[39;49m\u001b[39m.\u001b[39;49m_generate(declarations\u001b[39m=\u001b[39;49mdeclarations)\n",
      "File \u001b[1;32md:\\iit bombay - miscellaneous\\winter project\\compyle\\compyle\\parallel.py:442\u001b[0m, in \u001b[0;36mElementwiseBase._generate\u001b[1;34m(self, declarations)\u001b[0m\n\u001b[0;32m    441\u001b[0m \u001b[39mself\u001b[39m\u001b[39m.\u001b[39mtp\u001b[39m.\u001b[39madd_code(src)\n\u001b[1;32m--> 442\u001b[0m \u001b[39mself\u001b[39;49m\u001b[39m.\u001b[39;49mtp\u001b[39m.\u001b[39;49mcompile()\n\u001b[0;32m    443\u001b[0m \u001b[39m# All the source code for the elementwise\u001b[39;00m\n",
      "File \u001b[1;32md:\\iit bombay - miscellaneous\\winter project\\compyle\\compyle\\transpiler.py:297\u001b[0m, in \u001b[0;36mTranspiler.compile\u001b[1;34m(self)\u001b[0m\n\u001b[0;32m    296\u001b[0m     mod \u001b[39m=\u001b[39m ExtModule(\u001b[39mself\u001b[39m\u001b[39m.\u001b[39msource)\n\u001b[1;32m--> 297\u001b[0m     \u001b[39mself\u001b[39m\u001b[39m.\u001b[39mmod \u001b[39m=\u001b[39m mod\u001b[39m.\u001b[39;49mload()\n\u001b[0;32m    298\u001b[0m \u001b[39melif\u001b[39;00m \u001b[39mself\u001b[39m\u001b[39m.\u001b[39mbackend \u001b[39m==\u001b[39m \u001b[39m'\u001b[39m\u001b[39mopencl\u001b[39m\u001b[39m'\u001b[39m:\n",
      "File \u001b[1;32md:\\iit bombay - miscellaneous\\winter project\\compyle\\compyle\\ext_module.py:304\u001b[0m, in \u001b[0;36mExtModule.load\u001b[1;34m(self)\u001b[0m\n\u001b[0;32m    300\u001b[0m \u001b[39m\"\"\"Load the built extension module.\u001b[39;00m\n\u001b[0;32m    301\u001b[0m \n\u001b[0;32m    302\u001b[0m \u001b[39mReturns\u001b[39;00m\n\u001b[0;32m    303\u001b[0m \u001b[39m\"\"\"\u001b[39;00m\n\u001b[1;32m--> 304\u001b[0m \u001b[39mself\u001b[39;49m\u001b[39m.\u001b[39;49mwrite_and_build()\n\u001b[0;32m    305\u001b[0m spec \u001b[39m=\u001b[39m importlib\u001b[39m.\u001b[39mutil\u001b[39m.\u001b[39mspec_from_file_location(\u001b[39mself\u001b[39m\u001b[39m.\u001b[39mname, \u001b[39mself\u001b[39m\u001b[39m.\u001b[39mext_path)\n",
      "File \u001b[1;32md:\\iit bombay - miscellaneous\\winter project\\compyle\\compyle\\ext_module.py:295\u001b[0m, in \u001b[0;36mExtModule.write_and_build\u001b[1;34m(self)\u001b[0m\n\u001b[0;32m    294\u001b[0m         \u001b[39mself\u001b[39m\u001b[39m.\u001b[39m_write_source(\u001b[39mself\u001b[39m\u001b[39m.\u001b[39msrc_path)\n\u001b[1;32m--> 295\u001b[0m         \u001b[39mself\u001b[39;49m\u001b[39m.\u001b[39;49mbuild()\n\u001b[0;32m    296\u001b[0m \u001b[39melse\u001b[39;00m:\n",
      "File \u001b[1;32md:\\iit bombay - miscellaneous\\winter project\\compyle\\compyle\\ext_module.py:279\u001b[0m, in \u001b[0;36mExtModule.build\u001b[1;34m(self, force)\u001b[0m\n\u001b[0;32m    278\u001b[0m     \u001b[39mprint\u001b[39m(hline \u001b[39m+\u001b[39m \u001b[39m\"\u001b[39m\u001b[39m\\n\u001b[39;00m\u001b[39m\"\u001b[39m \u001b[39m+\u001b[39m msg)\n\u001b[1;32m--> 279\u001b[0m     sys\u001b[39m.\u001b[39;49mexit(\u001b[39m1\u001b[39;49m)\n\u001b[0;32m    280\u001b[0m shutil\u001b[39m.\u001b[39mcopy(mod, \u001b[39mself\u001b[39m\u001b[39m.\u001b[39mext_path)\n",
      "\u001b[1;31mSystemExit\u001b[0m: 1",
      "\nDuring handling of the above exception, another exception occurred:\n",
      "\u001b[1;31mAssertionError\u001b[0m                            Traceback (most recent call last)",
      "    \u001b[1;31m[... skipping hidden 1 frame]\u001b[0m\n",
      "File \u001b[1;32mc:\\Users\\prajw\\miniconda3\\envs\\sph310\\lib\\site-packages\\IPython\\core\\interactiveshell.py:2042\u001b[0m, in \u001b[0;36mInteractiveShell.showtraceback\u001b[1;34m(self, exc_tuple, filename, tb_offset, exception_only, running_compiled_code)\u001b[0m\n\u001b[0;32m   2039\u001b[0m \u001b[39mif\u001b[39;00m exception_only:\n\u001b[0;32m   2040\u001b[0m     stb \u001b[39m=\u001b[39m [\u001b[39m'\u001b[39m\u001b[39mAn exception has occurred, use \u001b[39m\u001b[39m%\u001b[39m\u001b[39mtb to see \u001b[39m\u001b[39m'\u001b[39m\n\u001b[0;32m   2041\u001b[0m            \u001b[39m'\u001b[39m\u001b[39mthe full traceback.\u001b[39m\u001b[39m\\n\u001b[39;00m\u001b[39m'\u001b[39m]\n\u001b[1;32m-> 2042\u001b[0m     stb\u001b[39m.\u001b[39mextend(\u001b[39mself\u001b[39;49m\u001b[39m.\u001b[39;49mInteractiveTB\u001b[39m.\u001b[39;49mget_exception_only(etype,\n\u001b[0;32m   2043\u001b[0m                                                      value))\n\u001b[0;32m   2044\u001b[0m \u001b[39melse\u001b[39;00m:\n\u001b[0;32m   2045\u001b[0m     \u001b[39mtry\u001b[39;00m:\n\u001b[0;32m   2046\u001b[0m         \u001b[39m# Exception classes can customise their traceback - we\u001b[39;00m\n\u001b[0;32m   2047\u001b[0m         \u001b[39m# use this in IPython.parallel for exceptions occurring\u001b[39;00m\n\u001b[0;32m   2048\u001b[0m         \u001b[39m# in the engines. This should return a list of strings.\u001b[39;00m\n",
      "File \u001b[1;32mc:\\Users\\prajw\\miniconda3\\envs\\sph310\\lib\\site-packages\\IPython\\core\\ultratb.py:579\u001b[0m, in \u001b[0;36mListTB.get_exception_only\u001b[1;34m(self, etype, value)\u001b[0m\n\u001b[0;32m    571\u001b[0m \u001b[39mdef\u001b[39;00m \u001b[39mget_exception_only\u001b[39m(\u001b[39mself\u001b[39m, etype, value):\n\u001b[0;32m    572\u001b[0m     \u001b[39m\"\"\"Only print the exception type and message, without a traceback.\u001b[39;00m\n\u001b[0;32m    573\u001b[0m \n\u001b[0;32m    574\u001b[0m \u001b[39m    Parameters\u001b[39;00m\n\u001b[1;32m   (...)\u001b[0m\n\u001b[0;32m    577\u001b[0m \u001b[39m    value : exception value\u001b[39;00m\n\u001b[0;32m    578\u001b[0m \u001b[39m    \"\"\"\u001b[39;00m\n\u001b[1;32m--> 579\u001b[0m     \u001b[39mreturn\u001b[39;00m ListTB\u001b[39m.\u001b[39;49mstructured_traceback(\u001b[39mself\u001b[39;49m, etype, value)\n",
      "File \u001b[1;32mc:\\Users\\prajw\\miniconda3\\envs\\sph310\\lib\\site-packages\\IPython\\core\\ultratb.py:446\u001b[0m, in \u001b[0;36mListTB.structured_traceback\u001b[1;34m(self, etype, evalue, etb, tb_offset, context)\u001b[0m\n\u001b[0;32m    443\u001b[0m     chained_exc_ids\u001b[39m.\u001b[39madd(\u001b[39mid\u001b[39m(exception[\u001b[39m1\u001b[39m]))\n\u001b[0;32m    444\u001b[0m     chained_exceptions_tb_offset \u001b[39m=\u001b[39m \u001b[39m0\u001b[39m\n\u001b[0;32m    445\u001b[0m     out_list \u001b[39m=\u001b[39m (\n\u001b[1;32m--> 446\u001b[0m         \u001b[39mself\u001b[39;49m\u001b[39m.\u001b[39;49mstructured_traceback(\n\u001b[0;32m    447\u001b[0m             etype, evalue, (etb, chained_exc_ids),\n\u001b[0;32m    448\u001b[0m             chained_exceptions_tb_offset, context)\n\u001b[0;32m    449\u001b[0m         \u001b[39m+\u001b[39m chained_exception_message\n\u001b[0;32m    450\u001b[0m         \u001b[39m+\u001b[39m out_list)\n\u001b[0;32m    452\u001b[0m \u001b[39mreturn\u001b[39;00m out_list\n",
      "File \u001b[1;32mc:\\Users\\prajw\\miniconda3\\envs\\sph310\\lib\\site-packages\\IPython\\core\\ultratb.py:1112\u001b[0m, in \u001b[0;36mAutoFormattedTB.structured_traceback\u001b[1;34m(self, etype, value, tb, tb_offset, number_of_lines_of_context)\u001b[0m\n\u001b[0;32m   1110\u001b[0m \u001b[39melse\u001b[39;00m:\n\u001b[0;32m   1111\u001b[0m     \u001b[39mself\u001b[39m\u001b[39m.\u001b[39mtb \u001b[39m=\u001b[39m tb\n\u001b[1;32m-> 1112\u001b[0m \u001b[39mreturn\u001b[39;00m FormattedTB\u001b[39m.\u001b[39;49mstructured_traceback(\n\u001b[0;32m   1113\u001b[0m     \u001b[39mself\u001b[39;49m, etype, value, tb, tb_offset, number_of_lines_of_context)\n",
      "File \u001b[1;32mc:\\Users\\prajw\\miniconda3\\envs\\sph310\\lib\\site-packages\\IPython\\core\\ultratb.py:1006\u001b[0m, in \u001b[0;36mFormattedTB.structured_traceback\u001b[1;34m(self, etype, value, tb, tb_offset, number_of_lines_of_context)\u001b[0m\n\u001b[0;32m   1003\u001b[0m mode \u001b[39m=\u001b[39m \u001b[39mself\u001b[39m\u001b[39m.\u001b[39mmode\n\u001b[0;32m   1004\u001b[0m \u001b[39mif\u001b[39;00m mode \u001b[39min\u001b[39;00m \u001b[39mself\u001b[39m\u001b[39m.\u001b[39mverbose_modes:\n\u001b[0;32m   1005\u001b[0m     \u001b[39m# Verbose modes need a full traceback\u001b[39;00m\n\u001b[1;32m-> 1006\u001b[0m     \u001b[39mreturn\u001b[39;00m VerboseTB\u001b[39m.\u001b[39;49mstructured_traceback(\n\u001b[0;32m   1007\u001b[0m         \u001b[39mself\u001b[39;49m, etype, value, tb, tb_offset, number_of_lines_of_context\n\u001b[0;32m   1008\u001b[0m     )\n\u001b[0;32m   1009\u001b[0m \u001b[39melif\u001b[39;00m mode \u001b[39m==\u001b[39m \u001b[39m'\u001b[39m\u001b[39mMinimal\u001b[39m\u001b[39m'\u001b[39m:\n\u001b[0;32m   1010\u001b[0m     \u001b[39mreturn\u001b[39;00m ListTB\u001b[39m.\u001b[39mget_exception_only(\u001b[39mself\u001b[39m, etype, value)\n",
      "File \u001b[1;32mc:\\Users\\prajw\\miniconda3\\envs\\sph310\\lib\\site-packages\\IPython\\core\\ultratb.py:859\u001b[0m, in \u001b[0;36mVerboseTB.structured_traceback\u001b[1;34m(self, etype, evalue, etb, tb_offset, number_of_lines_of_context)\u001b[0m\n\u001b[0;32m    850\u001b[0m \u001b[39mdef\u001b[39;00m \u001b[39mstructured_traceback\u001b[39m(\n\u001b[0;32m    851\u001b[0m     \u001b[39mself\u001b[39m,\n\u001b[0;32m    852\u001b[0m     etype: \u001b[39mtype\u001b[39m,\n\u001b[1;32m   (...)\u001b[0m\n\u001b[0;32m    856\u001b[0m     number_of_lines_of_context: \u001b[39mint\u001b[39m \u001b[39m=\u001b[39m \u001b[39m5\u001b[39m,\n\u001b[0;32m    857\u001b[0m ):\n\u001b[0;32m    858\u001b[0m     \u001b[39m\"\"\"Return a nice text document describing the traceback.\"\"\"\u001b[39;00m\n\u001b[1;32m--> 859\u001b[0m     formatted_exception \u001b[39m=\u001b[39m \u001b[39mself\u001b[39;49m\u001b[39m.\u001b[39;49mformat_exception_as_a_whole(etype, evalue, etb, number_of_lines_of_context,\n\u001b[0;32m    860\u001b[0m                                                            tb_offset)\n\u001b[0;32m    862\u001b[0m     colors \u001b[39m=\u001b[39m \u001b[39mself\u001b[39m\u001b[39m.\u001b[39mColors  \u001b[39m# just a shorthand + quicker name lookup\u001b[39;00m\n\u001b[0;32m    863\u001b[0m     colorsnormal \u001b[39m=\u001b[39m colors\u001b[39m.\u001b[39mNormal  \u001b[39m# used a lot\u001b[39;00m\n",
      "File \u001b[1;32mc:\\Users\\prajw\\miniconda3\\envs\\sph310\\lib\\site-packages\\IPython\\core\\ultratb.py:793\u001b[0m, in \u001b[0;36mVerboseTB.format_exception_as_a_whole\u001b[1;34m(self, etype, evalue, etb, number_of_lines_of_context, tb_offset)\u001b[0m\n\u001b[0;32m    790\u001b[0m \u001b[39massert\u001b[39;00m \u001b[39misinstance\u001b[39m(tb_offset, \u001b[39mint\u001b[39m)\n\u001b[0;32m    791\u001b[0m head \u001b[39m=\u001b[39m \u001b[39mself\u001b[39m\u001b[39m.\u001b[39mprepare_header(etype, \u001b[39mself\u001b[39m\u001b[39m.\u001b[39mlong_header)\n\u001b[0;32m    792\u001b[0m records \u001b[39m=\u001b[39m (\n\u001b[1;32m--> 793\u001b[0m     \u001b[39mself\u001b[39;49m\u001b[39m.\u001b[39;49mget_records(etb, number_of_lines_of_context, tb_offset) \u001b[39mif\u001b[39;00m etb \u001b[39melse\u001b[39;00m []\n\u001b[0;32m    794\u001b[0m )\n\u001b[0;32m    796\u001b[0m frames \u001b[39m=\u001b[39m []\n\u001b[0;32m    797\u001b[0m skipped \u001b[39m=\u001b[39m \u001b[39m0\u001b[39m\n",
      "File \u001b[1;32mc:\\Users\\prajw\\miniconda3\\envs\\sph310\\lib\\site-packages\\IPython\\core\\ultratb.py:848\u001b[0m, in \u001b[0;36mVerboseTB.get_records\u001b[1;34m(self, etb, number_of_lines_of_context, tb_offset)\u001b[0m\n\u001b[0;32m    842\u001b[0m     formatter \u001b[39m=\u001b[39m \u001b[39mNone\u001b[39;00m\n\u001b[0;32m    843\u001b[0m options \u001b[39m=\u001b[39m stack_data\u001b[39m.\u001b[39mOptions(\n\u001b[0;32m    844\u001b[0m     before\u001b[39m=\u001b[39mbefore,\n\u001b[0;32m    845\u001b[0m     after\u001b[39m=\u001b[39mafter,\n\u001b[0;32m    846\u001b[0m     pygments_formatter\u001b[39m=\u001b[39mformatter,\n\u001b[0;32m    847\u001b[0m )\n\u001b[1;32m--> 848\u001b[0m \u001b[39mreturn\u001b[39;00m \u001b[39mlist\u001b[39;49m(stack_data\u001b[39m.\u001b[39;49mFrameInfo\u001b[39m.\u001b[39;49mstack_data(etb, options\u001b[39m=\u001b[39;49moptions))[tb_offset:]\n",
      "File \u001b[1;32mc:\\Users\\prajw\\miniconda3\\envs\\sph310\\lib\\site-packages\\stack_data\\core.py:564\u001b[0m, in \u001b[0;36mFrameInfo.stack_data\u001b[1;34m(cls, frame_or_tb, options, collapse_repeated_frames)\u001b[0m\n\u001b[0;32m    548\u001b[0m \u001b[39m@classmethod\u001b[39m\n\u001b[0;32m    549\u001b[0m \u001b[39mdef\u001b[39;00m \u001b[39mstack_data\u001b[39m(\n\u001b[0;32m    550\u001b[0m         \u001b[39mcls\u001b[39m,\n\u001b[1;32m   (...)\u001b[0m\n\u001b[0;32m    554\u001b[0m         collapse_repeated_frames: \u001b[39mbool\u001b[39m \u001b[39m=\u001b[39m \u001b[39mTrue\u001b[39;00m\n\u001b[0;32m    555\u001b[0m ) \u001b[39m-\u001b[39m\u001b[39m>\u001b[39m Iterator[Union[\u001b[39m'\u001b[39m\u001b[39mFrameInfo\u001b[39m\u001b[39m'\u001b[39m, RepeatedFrames]]:\n\u001b[0;32m    556\u001b[0m     \u001b[39m\"\"\"\u001b[39;00m\n\u001b[0;32m    557\u001b[0m \u001b[39m    An iterator of FrameInfo and RepeatedFrames objects representing\u001b[39;00m\n\u001b[0;32m    558\u001b[0m \u001b[39m    a full traceback or stack. Similar consecutive frames are collapsed into RepeatedFrames\u001b[39;00m\n\u001b[1;32m   (...)\u001b[0m\n\u001b[0;32m    562\u001b[0m \u001b[39m    and optionally an Options object to configure.\u001b[39;00m\n\u001b[0;32m    563\u001b[0m \u001b[39m    \"\"\"\u001b[39;00m\n\u001b[1;32m--> 564\u001b[0m     stack \u001b[39m=\u001b[39m \u001b[39mlist\u001b[39;49m(iter_stack(frame_or_tb))\n\u001b[0;32m    566\u001b[0m     \u001b[39m# Reverse the stack from a frame so that it's in the same order\u001b[39;00m\n\u001b[0;32m    567\u001b[0m     \u001b[39m# as the order from a traceback, which is the order of a printed\u001b[39;00m\n\u001b[0;32m    568\u001b[0m     \u001b[39m# traceback when read top to bottom (most recent call last)\u001b[39;00m\n\u001b[0;32m    569\u001b[0m     \u001b[39mif\u001b[39;00m is_frame(frame_or_tb):\n",
      "File \u001b[1;32mc:\\Users\\prajw\\miniconda3\\envs\\sph310\\lib\\site-packages\\stack_data\\utils.py:97\u001b[0m, in \u001b[0;36miter_stack\u001b[1;34m(frame_or_tb)\u001b[0m\n\u001b[0;32m     95\u001b[0m \u001b[39mwhile\u001b[39;00m frame_or_tb:\n\u001b[0;32m     96\u001b[0m     \u001b[39myield\u001b[39;00m frame_or_tb\n\u001b[1;32m---> 97\u001b[0m     \u001b[39mif\u001b[39;00m is_frame(frame_or_tb):\n\u001b[0;32m     98\u001b[0m         frame_or_tb \u001b[39m=\u001b[39m frame_or_tb\u001b[39m.\u001b[39mf_back\n\u001b[0;32m     99\u001b[0m     \u001b[39melse\u001b[39;00m:\n",
      "File \u001b[1;32mc:\\Users\\prajw\\miniconda3\\envs\\sph310\\lib\\site-packages\\stack_data\\utils.py:90\u001b[0m, in \u001b[0;36mis_frame\u001b[1;34m(frame_or_tb)\u001b[0m\n\u001b[0;32m     89\u001b[0m \u001b[39mdef\u001b[39;00m \u001b[39mis_frame\u001b[39m(frame_or_tb: Union[FrameType, TracebackType]) \u001b[39m-\u001b[39m\u001b[39m>\u001b[39m \u001b[39mbool\u001b[39m:\n\u001b[1;32m---> 90\u001b[0m     assert_(\u001b[39misinstance\u001b[39;49m(frame_or_tb, (types\u001b[39m.\u001b[39;49mFrameType, types\u001b[39m.\u001b[39;49mTracebackType)))\n\u001b[0;32m     91\u001b[0m     \u001b[39mreturn\u001b[39;00m \u001b[39misinstance\u001b[39m(frame_or_tb, (types\u001b[39m.\u001b[39mFrameType,))\n",
      "File \u001b[1;32mc:\\Users\\prajw\\miniconda3\\envs\\sph310\\lib\\site-packages\\stack_data\\utils.py:171\u001b[0m, in \u001b[0;36massert_\u001b[1;34m(condition, error)\u001b[0m\n\u001b[0;32m    169\u001b[0m \u001b[39mif\u001b[39;00m \u001b[39misinstance\u001b[39m(error, \u001b[39mstr\u001b[39m):\n\u001b[0;32m    170\u001b[0m     error \u001b[39m=\u001b[39m \u001b[39mAssertionError\u001b[39;00m(error)\n\u001b[1;32m--> 171\u001b[0m \u001b[39mraise\u001b[39;00m error\n",
      "\u001b[1;31mAssertionError\u001b[0m: "
     ]
    }
   ],
   "source": [
    "ek_u = es_ob.ek_u\n",
    "dim = len(np.shape(ek_u))\n",
    "\n",
    "box_side_x = np.shape(ek_u)[0]\n",
    "box_side_y = np.shape(ek_u)[1] if dim > 1 else 0\n",
    "box_side_z = np.shape(ek_u)[2] if dim > 2 else 0\n",
    "\n",
    "tmp = np.array([box_side_x, box_side_y, box_side_z], dtype=np.float64)\n",
    "box_radius = int(1 + np.ceil(np.linalg.norm(tmp) / 2))\n",
    "\n",
    "center_x = int(box_side_x / 2)\n",
    "center_y = int(box_side_y / 2)\n",
    "center_z = int(box_side_z / 2)\n",
    "\n",
    "eps = 1e-50  # To avoid division by zero\n",
    "ek_u_sphere = np.zeros((box_radius, )) + eps\n",
    "ek_v_sphere = np.zeros((box_radius, )) + eps\n",
    "ek_w_sphere = np.zeros((box_radius, )) + eps\n",
    "\n",
    "backend = 'cython'\n",
    "get_config().use_openmp = False\n",
    "\n",
    "if dim == 1:\n",
    "    ek_u, ek_u_sphere = wrap(\n",
    "        ek_u.ravel(), ek_u_sphere.ravel(), backend=backend\n",
    "    )\n",
    "    e = Elementwise(compyle_1d_helper, backend=backend)\n",
    "    e(ek_u, ek_u_sphere, center_x)"
   ]
  },
  {
   "cell_type": "code",
   "execution_count": null,
   "metadata": {},
   "outputs": [],
   "source": [
    "# plt.stem(ek_u_sphere.data)"
   ]
  }
 ],
 "metadata": {
  "kernelspec": {
   "display_name": "Python 3.10.6 ('sph310')",
   "language": "python",
   "name": "python3"
  },
  "language_info": {
   "codemirror_mode": {
    "name": "ipython",
    "version": 3
   },
   "file_extension": ".py",
   "mimetype": "text/x-python",
   "name": "python",
   "nbconvert_exporter": "python",
   "pygments_lexer": "ipython3",
   "version": "3.10.6"
  },
  "orig_nbformat": 4,
  "vscode": {
   "interpreter": {
    "hash": "cbc6d616c8c8359fb696f76c2d8eb9269f6336b6c00dfc48517def07f94218b9"
   }
  }
 },
 "nbformat": 4,
 "nbformat_minor": 2
}
