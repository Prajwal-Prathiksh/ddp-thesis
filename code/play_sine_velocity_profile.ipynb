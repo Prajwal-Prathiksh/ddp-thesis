{
 "cells": [
  {
   "cell_type": "code",
   "execution_count": null,
   "metadata": {},
   "outputs": [],
   "source": [
    "from pysph.solver.utils import load\n",
    "from pysph.solver.utils import iter_output\n",
    "import h5py"
   ]
  },
  {
   "cell_type": "code",
   "execution_count": null,
   "metadata": {},
   "outputs": [],
   "source": [
    "path = \"sine_velocity_profile_output/sine_velocity_profile_00000.hdf5\"\n",
    "# data = load(path)"
   ]
  },
  {
   "cell_type": "code",
   "execution_count": null,
   "metadata": {},
   "outputs": [],
   "source": [
    "# data = h5py.File(path, 'r')"
   ]
  },
  {
   "cell_type": "markdown",
   "metadata": {},
   "source": [
    "## Energy Spectrum"
   ]
  },
  {
   "cell_type": "code",
   "execution_count": null,
   "metadata": {},
   "outputs": [],
   "source": [
    "import numpy as np\n",
    "import matplotlib.pyplot as plt\n",
    "from scipy.stats import linregress\n",
    "from energy_spectrum import compute_scalar_energy_spectrum, compute_energy_spectrum # type: ignore"
   ]
  },
  {
   "cell_type": "code",
   "execution_count": null,
   "metadata": {},
   "outputs": [],
   "source": [
    "twopi = 2 * np.pi\n",
    "sin, cos = np.sin, np.cos"
   ]
  },
  {
   "cell_type": "markdown",
   "metadata": {},
   "source": [
    "### Single Frequency"
   ]
  },
  {
   "cell_type": "markdown",
   "metadata": {},
   "source": [
    "#### 1D"
   ]
  },
  {
   "cell_type": "code",
   "execution_count": null,
   "metadata": {},
   "outputs": [],
   "source": [
    "sr = 51\n",
    "_x = np.arange(1/(2*sr), 1., 1. / sr)\n",
    "x = _x\n",
    "u = - cos(twopi * x)\n",
    "U0 = 1.\n",
    "\n",
    "# When\n",
    "EK_U, EK_V, EK_W, u_spectrum, v_spectrum, w_spectrum =\\\n",
    "    compute_energy_spectrum(\n",
    "        u=u, v=None, w=None, U0=U0, debug=True\n",
    "    )\n",
    "plt.stem(EK_U);\n",
    "plt.show()\n",
    "\n",
    "k, Ek = compute_scalar_energy_spectrum(EK_U)\n",
    "plt.stem(Ek)\n",
    "plt.grid()\n",
    "print(f\"Max (us, vs, ws) = {np.max(u_spectrum)}, {np.max(v_spectrum)}, {np.max(w_spectrum)}\")\n",
    "max_idx = np.argmax(EK_U)\n",
    "max_idx = np.unravel_index(max_idx, EK_U.shape)\n",
    "print(f\"Max (Eu, Ev, Ew) = {np.max(EK_U)}, {np.max(EK_V)}, {np.max(EK_W)} at [{max_idx}] || (0.5^2)/2\")\n",
    "print(f\"Max Ek: {np.max(Ek)} at [{np.argmax(Ek)}] || (0.125*2)/2 because 2 peaks\")\n"
   ]
  },
  {
   "cell_type": "markdown",
   "metadata": {},
   "source": [
    "#### 2D"
   ]
  },
  {
   "cell_type": "code",
   "execution_count": null,
   "metadata": {},
   "outputs": [],
   "source": [
    "sr = 19\n",
    "_x = np.arange(1/(2*sr), 1., 1. / sr)\n",
    "x, y = np.meshgrid(_x, _x)\n",
    "# u = sin(twopi * x) + sin(2 * twopi * y)\n",
    "# v = u\n",
    "u = - cos(twopi * x) * sin(twopi * y)\n",
    "v = sin(twopi * x) * cos(twopi * y)\n",
    "U0 = 1.\n",
    "\n",
    "# When\n",
    "EK_U, EK_V, EK_W, u_spectrum, v_spectrum, w_spectrum =\\\n",
    "    compute_energy_spectrum(\n",
    "        u=u, v=v, w=None, U0=U0, debug=True\n",
    "    )\n",
    "plt.imshow(EK_U)\n",
    "plt.colorbar()\n",
    "plt.axis('equal')\n",
    "plt.gca().invert_yaxis()\n",
    "plt.title(\"EK_U\")\n",
    "plt.show()\n",
    "\n",
    "k, Ek = compute_scalar_energy_spectrum(EK_U, EK_V, ord=np.inf)\n",
    "plt.stem(Ek)\n",
    "plt.grid()\n",
    "plt.title(\"Ek\")\n",
    "max_idx = np.argmax(EK_U)\n",
    "max_idx = np.unravel_index(max_idx, EK_U.shape)\n",
    "print(f\"Max (us, vs, ws) = {np.max(u_spectrum)}, {np.max(v_spectrum)}, {np.max(w_spectrum)}\")\n",
    "print(f\"Max (Eu, Ev, Ew) = {np.max(EK_U)}, {np.max(EK_V)}, {np.max(EK_W)} at [{max_idx}] || (0.25^2)/2\")\n",
    "print(f\"Max Ek: {np.max(Ek)} at [{np.argmax(Ek)}] || (0.03125*8)/2 beacuse 8 peaks\")"
   ]
  },
  {
   "cell_type": "markdown",
   "metadata": {},
   "source": [
    "#### 3D"
   ]
  },
  {
   "cell_type": "code",
   "execution_count": null,
   "metadata": {},
   "outputs": [],
   "source": [
    "x, y, z = np.meshgrid(_x, _x, _x)\n",
    "u = - cos(twopi * x) * sin(twopi * y) * sin(twopi * z)\n",
    "v = sin(twopi * x) * cos(twopi * y) * sin(twopi * z)\n",
    "w = sin(twopi * x) * sin(twopi * y) * cos(twopi * z)\n",
    "\n",
    "EK_U, EK_V, EK_W, u_spectrum, v_spectrum, w_spectrum =\\\n",
    "    compute_energy_spectrum(\n",
    "        u=u, v=v, w=w, U0=U0, debug=True\n",
    "    )\n",
    "\n",
    "k, Ek = compute_scalar_energy_spectrum(EK_U, EK_V, EK_W, ord=2)\n",
    "plt.stem(Ek)\n",
    "plt.grid()\n",
    "max_idx = np.argmax(EK_U)\n",
    "max_idx = np.unravel_index(max_idx, EK_U.shape)\n",
    "print(f\"Max (us, vs, ws) = {round(np.max(u_spectrum), 8)}, {round(np.max(v_spectrum), 8)}, {round(np.max(w_spectrum), 8)}\")\n",
    "print(f\"Max (Eu, Ev, Ew) = {round(np.max(EK_U), 8)}, {round(np.max(EK_V), 8)}, {round(np.max(EK_W), 8)} at [{max_idx}] || (0.125^2)/2\")\n",
    "print(f\"Max Ek: {np.max(Ek)} at [{np.argmax(Ek)}] || (0.0078125*24)/2 because 24 peaks\")"
   ]
  },
  {
   "cell_type": "markdown",
   "metadata": {},
   "source": [
    "### Summary\n",
    "\n",
    "```\n",
    "1D\n",
    "* Max (us, vs, ws) = 0.5, 0.0, 0.0 || Max(u)/2^1\n",
    "* Max (Eu, Ev, Ew) = 0.125, 0.0, 0.0 at [(14,)] || (0.5^2)/2\n",
    "* Max Ek: 0.125 at [1] || (0.125*2)/2 because 2 peaks\n",
    "\n",
    "2D\n",
    "* Max (us, vs, ws) = 0.25, 0.25, 0.0 || Max(u)/2^2\n",
    "* Max (Eu, Ev, Ew) = 0.03125, 0.03125, 0.0 at [(14, 14)] || (0.25^2)/2\n",
    "* Max Ek: 0.125 || (0.03125*8)/2 beacuse 8 peaks\n",
    "\n",
    "3D\n",
    "* Max (us, vs, ws) = 0.125, 0.125, 0.125 || Max(u)/2^3\n",
    "* Max (Eu, Ev, Ew) = 0.0078125, 0.0078125, 0.0078125 at [(17, 17, 17)] || (0.125^2)/2\n",
    "* Max Ek: 0.09375 || (0.0078125*24)/2 because 24 peaks \n",
    "    at [1] if ord=np.inf, at [2] if ord=2\n",
    "\n",
    "* Max (us, vs, ws) = 0.125, 0.625, 0.125 || Max(u)/2^3\n",
    "* Max (Eu, Ev, Ew) = 0.0078125, 0.1953125, 0.0078125 at [(14, 14, 14)] || (0.125^2)/2\n",
    "* Max Ek: 0.84375 || (0.0078125*24)/2 because 24 peaks\n",
    "```"
   ]
  },
  {
   "cell_type": "markdown",
   "metadata": {},
   "source": [
    "## Multiple Frequencies\n",
    "\n",
    "Velocity is squared to get the energy spectrum.\n",
    "Therefore, the slope of the energy spectrum will be 2 times the slope of the velocity spectrum."
   ]
  },
  {
   "cell_type": "code",
   "execution_count": null,
   "metadata": {},
   "outputs": [],
   "source": [
    "# Machine precision\n",
    "EPS = np.finfo(float).eps\n"
   ]
  },
  {
   "cell_type": "markdown",
   "metadata": {},
   "source": [
    "### 1D"
   ]
  },
  {
   "cell_type": "code",
   "execution_count": null,
   "metadata": {},
   "outputs": [],
   "source": [
    "sr = 51\n",
    "_x = np.arange(1/(2*sr), 1., 1. / sr)\n",
    "x = _x\n",
    "num_freqs = 17\n",
    "u = np.zeros_like(x)\n",
    "slope_vel = -2\n",
    "for i in range(1, num_freqs + 1):\n",
    "    u += -cos(i * twopi * x) * i**(slope_vel)\n",
    "U0 = 1.\n",
    "\n",
    "# When\n",
    "EK_U, EK_V, EK_W, u_spectrum, v_spectrum, w_spectrum =\\\n",
    "    compute_energy_spectrum(\n",
    "        u=u, v=None, w=None, U0=U0, debug=True\n",
    "    )\n",
    "\n",
    "k, Ek = compute_scalar_energy_spectrum(EK_U)\n",
    "\n",
    "plt.figure(figsize=(16, 5))\n",
    "plt.subplot(1, 3, 1)\n",
    "plt.stem(EK_U);\n",
    "plt.title(\"EK_U\")\n",
    "\n",
    "plt.subplot(1, 3, 2)\n",
    "plt.stem(Ek)\n",
    "plt.grid()\n",
    "plt.title(\"E(k)\")\n",
    "\n",
    "# Get all datapoints of E(k) greater than 1e-8\n",
    "tol = 1e-8\n",
    "k_cacl = k[Ek > tol]\n",
    "Ek_cacl = Ek[Ek > tol]\n",
    "\n",
    "k_calc_log = np.log10(k_cacl)\n",
    "Ek_calc_log = np.log10(Ek_cacl)\n",
    "slope, intercept, r_value, p_value, std_err = linregress(k_calc_log, Ek_calc_log)\n",
    "\n",
    "# Calculate fit\n",
    "k_fit = k_cacl\n",
    "Ek_fit = 10**(slope * np.log10(k_fit) + intercept)\n",
    "\n",
    "plt.subplot(1, 3, 3)\n",
    "plt.loglog(k, Ek, 'ko', label=r'$E(k)$')\n",
    "plt.loglog(k, 1e-3 * (EPS+k)**(-5/3), 'r--', label=r'$k^{-5/3}$')\n",
    "plt.loglog(k_fit, Ek_fit, 'b-', label=f\"Fit: $E(k) = k^{{{slope:.2f}}}$\")\n",
    "# plt.ylim(1e-8, 1e0)\n",
    "plt.legend()\n",
    "plt.grid()\n",
    "plt.title(\"Log-log plot of E(k)\")\n",
    "\n",
    "\n",
    "print(f\"Slope of velocity spectrum: {slope_vel}\")\n",
    "print(f\"slope = {slope}, intercept = {intercept}, r_value = {r_value}, p_value = {p_value}, std_err = {std_err}\")"
   ]
  },
  {
   "cell_type": "code",
   "execution_count": null,
   "metadata": {},
   "outputs": [],
   "source": [
    "# print all values of Ek upto 4 decimal places without using round()\n",
    "np.set_printoptions(formatter={'float': lambda x: \"{0:0.6f}\".format(x)})\n",
    "print(f\"Ek = {Ek}\")"
   ]
  },
  {
   "cell_type": "code",
   "execution_count": null,
   "metadata": {},
   "outputs": [],
   "source": [
    "a = np.arange(1, num_freqs + 1, dtype=float)\n",
    "a = a**(2*slope_vel)/8\n",
    "b = np.insert(a, 0, 0)\n",
    "b = np.append(b, np.zeros(len(k) - len(b)))\n",
    "print(b)\n",
    "plt.plot(k, np.abs(Ek - b), 'k--')"
   ]
  },
  {
   "cell_type": "markdown",
   "metadata": {},
   "source": [
    "### 2D"
   ]
  },
  {
   "cell_type": "code",
   "execution_count": null,
   "metadata": {},
   "outputs": [],
   "source": [
    "sr = 33\n",
    "_x = np.arange(1/(2*sr), 1., 1. / sr)\n",
    "x, y = np.meshgrid(_x, _x)\n",
    "num_freqs = 13\n",
    "u = np.zeros_like(x)\n",
    "v = np.zeros_like(y)\n",
    "slope_vel = -1\n",
    "for i in range(1, num_freqs + 1):\n",
    "    u += -cos(i * twopi * x) * sin(i * twopi * y) * i**(slope_vel)\n",
    "    v += sin(i * twopi * x) * cos(i * twopi * y) * i**(slope_vel)\n",
    "U0 = 1.\n",
    "\n",
    "# When\n",
    "EK_U, EK_V, EK_W, u_spectrum, v_spectrum, w_spectrum =\\\n",
    "    compute_energy_spectrum(\n",
    "        u=u, v=v, w=None, U0=U0, debug=True\n",
    "    )\n",
    "\n",
    "k, Ek = compute_scalar_energy_spectrum(EK_U, EK_V, ord=np.inf)\n",
    "\n",
    "plt.figure(figsize=(16, 5))\n",
    "plt.subplot(1, 3, 1)\n",
    "plt.imshow(EK_U)\n",
    "plt.colorbar()\n",
    "plt.axis('equal')\n",
    "plt.gca().invert_yaxis()\n",
    "plt.title(\"EK_U\")\n",
    "\n",
    "plt.subplot(1, 3, 2)\n",
    "plt.stem(Ek)\n",
    "plt.grid()\n",
    "plt.title(\"Ek\")\n",
    "\n",
    "# Get all datapoints of E(k) greater than 1e-8 and k between 0 and len(k)/2\n",
    "tol = 1e-8\n",
    "cond_len = k < len(k)/2 - 1\n",
    "cond_tol = Ek > tol\n",
    "cond = cond_len & cond_tol\n",
    "k_cacl = k[cond]\n",
    "Ek_cacl = Ek[cond]\n",
    "\n",
    "k_calc_log = np.log10(k_cacl)\n",
    "Ek_calc_log = np.log10(Ek_cacl)\n",
    "slope, intercept, r_value, p_value, std_err = linregress(k_calc_log, Ek_calc_log)\n",
    "\n",
    "# Calculate fit\n",
    "k_fit = k_cacl\n",
    "Ek_fit = 10**(slope * np.log10(k_fit) + intercept)\n",
    "\n",
    "plt.subplot(1, 3, 3)\n",
    "plt.loglog(k, Ek, 'k.', label=r'$E(k)$')\n",
    "plt.loglog(k, 1e-3 * (EPS+k)**(-5/3), 'r--', label=r'$k^{-5/3}$')\n",
    "plt.loglog(k_fit, Ek_fit, 'b-', label=f\"Fit: $E(k) = k^{{{slope:.2f}}}$\")\n",
    "plt.ylim(1e-8, 1e0)\n",
    "plt.legend()\n",
    "plt.grid()\n",
    "plt.title(\"Log-log plot of E(k)\")\n",
    "\n",
    "\n",
    "print(f\"Slope of velocity spectrum: {slope_vel}\")\n",
    "print(f\"Slope = {slope}, intercept = {intercept}, r_value = {r_value}, p_value = {p_value}, std_err = {std_err}\")"
   ]
  },
  {
   "cell_type": "code",
   "execution_count": null,
   "metadata": {},
   "outputs": [],
   "source": [
    "print(f\"{Ek = }\")"
   ]
  },
  {
   "cell_type": "code",
   "execution_count": null,
   "metadata": {},
   "outputs": [],
   "source": [
    "a = np.arange(1, num_freqs + 1, dtype=float)\n",
    "a = a**(2*slope_vel)/8\n",
    "b = np.insert(a, 0, 0)\n",
    "b = np.append(b, np.zeros(len(k) - len(b)))\n",
    "print(f\"{b = }\")\n",
    "plt.plot(k, np.abs(Ek - b), 'k--')"
   ]
  },
  {
   "cell_type": "markdown",
   "metadata": {},
   "source": [
    "### 3D"
   ]
  },
  {
   "cell_type": "code",
   "execution_count": null,
   "metadata": {},
   "outputs": [],
   "source": [
    "sr = 33\n",
    "_x = np.arange(1/(2*sr), 1., 1. / sr)\n",
    "x, y, z = np.meshgrid(_x, _x, _x)\n",
    "num_freqs = 15\n",
    "u, v, w = np.zeros_like(x), np.zeros_like(y), np.zeros_like(z)\n",
    "slope_vel = -1\n",
    "for i in range(1, num_freqs + 1):\n",
    "    u += -cos(i * twopi * x) * sin(i * twopi * y) * sin(i * twopi * z) * i**(slope_vel)\n",
    "    v += sin(i * twopi * x) * cos(i * twopi * y) * sin(i * twopi * z) * i**(slope_vel)\n",
    "    w += - sin(i * twopi * x) * sin(i * twopi * y) * cos(i * twopi * z) * i**(slope_vel)\n",
    "\n",
    "EK_U, EK_V, EK_W, u_spectrum, v_spectrum, w_spectrum =\\\n",
    "    compute_energy_spectrum(\n",
    "        u=u, v=v, w=w, U0=U0, debug=True\n",
    "    )\n",
    "\n",
    "k, Ek = compute_scalar_energy_spectrum(EK_U, EK_V, EK_W, ord=np.inf)\n",
    "\n",
    "plt.figure(figsize=(16, 5))\n",
    "plt.subplot(1, 2, 1)\n",
    "plt.stem(Ek)\n",
    "plt.grid()\n",
    "plt.title(\"Ek\")\n",
    "\n",
    "\n",
    "# Get all datapoints of E(k) greater than 1e-8 and k between 0 and len(k)/2\n",
    "tol = 1e-8\n",
    "cond_len = k < len(k)/2 - 1\n",
    "cond_tol = Ek > tol\n",
    "cond = cond_len & cond_tol\n",
    "k_cacl = k[cond]\n",
    "Ek_cacl = Ek[cond]\n",
    "\n",
    "k_calc_log = np.log10(k_cacl)\n",
    "Ek_calc_log = np.log10(Ek_cacl)\n",
    "slope, intercept, r_value, p_value, std_err = linregress(k_calc_log, Ek_calc_log)\n",
    "\n",
    "# Calculate fit\n",
    "k_fit = k_cacl\n",
    "Ek_fit = 10**(slope * np.log10(k_fit) + intercept)\n",
    "\n",
    "plt.subplot(1, 2, 2)\n",
    "plt.loglog(k, Ek, 'k.', label=r'$E(k)$')\n",
    "plt.loglog(k, 1e-3 * (EPS+k)**(-5/3), 'r--', label=r'$k^{-5/3}$')\n",
    "plt.loglog(k_fit, Ek_fit, 'b-', label=f\"Fit: $E(k) = k^{{{slope:.2f}}}$\")\n",
    "plt.ylim(1e-8, 1e0)\n",
    "plt.legend()\n",
    "plt.grid()\n",
    "plt.title(\"Log-log plot of E(k)\")\n",
    "\n",
    "\n",
    "print(f\"Slope of velocity spectrum: {slope_vel}\")\n",
    "print(f\"Slope = {slope}, intercept = {intercept}, r_value = {r_value}, p_value = {p_value}, std_err = {std_err}\")"
   ]
  },
  {
   "cell_type": "code",
   "execution_count": null,
   "metadata": {},
   "outputs": [],
   "source": [
    "print(f\"{Ek = }\")"
   ]
  },
  {
   "cell_type": "code",
   "execution_count": null,
   "metadata": {},
   "outputs": [],
   "source": [
    "a = np.arange(1, num_freqs + 1, dtype=float)\n",
    "a = 3*a**(2*slope_vel)/32\n",
    "b = np.insert(a, 0, 0)\n",
    "b = np.append(b, np.zeros(len(k) - len(b)))\n",
    "print(f\"{b = }\")\n",
    "plt.plot(k, np.abs(Ek - b), 'k--')"
   ]
  },
  {
   "attachments": {},
   "cell_type": "markdown",
   "metadata": {},
   "source": [
    "## Effect of sampling frequency and number of samples on Fourier transform"
   ]
  },
  {
   "cell_type": "code",
   "execution_count": 1,
   "metadata": {},
   "outputs": [],
   "source": [
    "import numpy as np\n",
    "import matplotlib.pyplot as plt\n",
    "from ipywidgets import interact, interactive, fixed, interact_manual"
   ]
  },
  {
   "attachments": {},
   "cell_type": "markdown",
   "metadata": {},
   "source": [
    "### Aliasing"
   ]
  },
  {
   "cell_type": "code",
   "execution_count": 2,
   "metadata": {},
   "outputs": [
    {
     "data": {
      "text/plain": [
       "(5.0, 4.0)"
      ]
     },
     "execution_count": 2,
     "metadata": {},
     "output_type": "execute_result"
    }
   ],
   "source": [
    "def calc_perceived_freq(sig_freq, sample_freq):\n",
    "    nyquist_freq = sample_freq / 2\n",
    "    perceived_freq = np.abs(\n",
    "        sig_freq - sample_freq*np.round(sig_freq / sample_freq)\n",
    "    )\n",
    "    return nyquist_freq, perceived_freq\n",
    "calc_perceived_freq(sig_freq=4, sample_freq=10)"
   ]
  },
  {
   "cell_type": "code",
   "execution_count": 57,
   "metadata": {},
   "outputs": [],
   "source": [
    "def study_fft_relationship_aliasing(L=1., sig_freq=2, sample_freq=11,):\n",
    "    twopi = 2 * np.pi\n",
    "    sin, cos = np.sin, np.cos\n",
    "\n",
    "    # Create the time array\n",
    "    t = np.linspace(0, L, 1000)\n",
    "    t_sample = np.arange(1/(2*sample_freq), L, L / sample_freq)\n",
    "    \n",
    "    y_exact = np.zeros_like(t)\n",
    "    y_sample = np.zeros_like(t_sample)\n",
    "    \n",
    "    y_exact += cos(sig_freq * twopi * t)\n",
    "    y_sample += cos(sig_freq * twopi * t_sample)\n",
    "\n",
    "    # Compute the FFT\n",
    "    Y = np.fft.fft(y_sample)/(sample_freq*0.5)\n",
    "    Y = np.abs(Y)\n",
    "\n",
    "    # Reconstruct the signal from the frequencies present in the FFT\n",
    "    y_recon = np.zeros_like(t)\n",
    "    for i in range(len(Y)//2 + 1):\n",
    "        y_recon += Y[i] * cos(i * twopi * t)\n",
    "    \n",
    "    # Calculate the perceived frequency\n",
    "    nyquist_freq, perceived_freq = calc_perceived_freq(sig_freq, sample_freq)\n",
    "\n",
    "    if sig_freq >= nyquist_freq:\n",
    "        title = \"Aliased Reconstruction\"\n",
    "    elif np.abs(np.round(sig_freq) - sig_freq) < 1e-5:\n",
    "        title = \"Perfect Reconstruction\"\n",
    "    else:\n",
    "        title = \"No Aliasing\"\n",
    "    if sig_freq == sample_freq:\n",
    "        title = 'DC Signal'\n",
    "        \n",
    "    plt.figure(figsize=(18, 5))\n",
    "    plt.subplot(1, 2, 1)\n",
    "    plt.plot(t, y_exact, label=f\"exact, $f_{{sig}} = {sig_freq}$\")\n",
    "    plt.plot(t_sample, y_sample, 'k.', markersize=10, label=\"sampled\")\n",
    "    plt.plot(\n",
    "        t, y_recon,\n",
    "        label=f\"reconstructed, $f_{{recon}} = {perceived_freq:.2f}$\"\n",
    "    )\n",
    "    plt.xlabel(\"t\")\n",
    "    plt.ylabel(\"y\")\n",
    "    plt.grid()\n",
    "    plt.legend()\n",
    "    plt.title(title)\n",
    "\n",
    "    plt.subplot(1, 2, 2)\n",
    "    plt.stem(Y)\n",
    "    plt.xlim(0, sample_freq//2 + 1)\n",
    "    plt.xlabel(\"frequency\")\n",
    "    plt.ylabel(\"Amplitude\")\n",
    "    plt.grid();\n",
    "    # plt.show()"
   ]
  },
  {
   "cell_type": "code",
   "execution_count": 58,
   "metadata": {},
   "outputs": [],
   "source": [
    "# study_fft_relationship_aliasing(L=1., sample_freq=51, sig_freq=2)"
   ]
  },
  {
   "cell_type": "code",
   "execution_count": 60,
   "metadata": {},
   "outputs": [
    {
     "data": {
      "application/vnd.jupyter.widget-view+json": {
       "model_id": "7a50bf582584467180325c0f9f92dc05",
       "version_major": 2,
       "version_minor": 0
      },
      "text/plain": [
       "interactive(children=(FloatSlider(value=1.0, description='L', max=5.0, min=0.1), FloatSlider(value=2.0, descri…"
      ]
     },
     "metadata": {},
     "output_type": "display_data"
    },
    {
     "data": {
      "text/plain": [
       "<function __main__.study_fft_relationship_aliasing(L=1.0, sig_freq=2, sample_freq=11)>"
      ]
     },
     "execution_count": 60,
     "metadata": {},
     "output_type": "execute_result"
    }
   ],
   "source": [
    "interact(\n",
    "    study_fft_relationship_aliasing, L=(0.1, 5., 0.1),\n",
    "    sample_freq=(10, 501, 1), sig_freq=(1, 20, 0.01))"
   ]
  },
  {
   "attachments": {},
   "cell_type": "markdown",
   "metadata": {},
   "source": [
    "### Aliasing with Interpolation"
   ]
  },
  {
   "cell_type": "code",
   "execution_count": 63,
   "metadata": {},
   "outputs": [],
   "source": [
    "def interpolator(y_exact, t_exact, t_sample, kind='linear', interp_sample=None):\n",
    "    \"\"\"\n",
    "        Interpolate the signal y_exact(t_exact) at the times t_sample, using\n",
    "        the interpolation method `kind` with `interp_sample` points.\n",
    "    \"\"\"\n",
    "    y_sample = np.interp(t_sample, t_exact, y_exact)\n",
    "    return y_sample\n"
   ]
  },
  {
   "cell_type": "code",
   "execution_count": 91,
   "metadata": {},
   "outputs": [],
   "source": [
    "def study_fft_relationship_interp(L=1., sig_freq=2, sample_freq=11,):\n",
    "    twopi = 2 * np.pi\n",
    "    sin, cos = np.sin, np.cos\n",
    "\n",
    "    # Create the time array\n",
    "    t = np.linspace(0, L, 100)\n",
    "    t_sample = np.arange(1/(2*sample_freq), L, L / sample_freq)\n",
    "    \n",
    "    y_exact = cos(sig_freq * twopi * t)\n",
    "    y_interp = interpolator(y_exact=y_exact, t_exact=t, t_sample=t_sample)\n",
    "    y_sample = cos(sig_freq * twopi * t_sample)\n",
    "\n",
    "    y_interp_error = np.abs(y_interp - y_sample)\n",
    "\n",
    "    # Compute the FFT\n",
    "    Y_interp = np.fft.fft(y_interp)/(sample_freq*0.5)\n",
    "    Y_interp = np.abs(Y_interp)\n",
    "    Y_sample = np.fft.fft(y_sample)/(sample_freq*0.5)\n",
    "    Y_sample = np.abs(Y_sample)\n",
    "\n",
    "    Y_interp_error = np.abs(Y_interp - Y_sample)\n",
    "\n",
    "    # Reconstruct the signal from the frequencies present in the FFT\n",
    "    y_recon_interp = np.zeros_like(t)\n",
    "    for i in range(len(Y_interp)//2 + 1):\n",
    "        y_recon_interp += Y_interp[i] * cos(i * twopi * t)\n",
    "    \n",
    "    # Calculate the perceived frequency\n",
    "    nyquist_freq, perceived_freq = calc_perceived_freq(sig_freq, sample_freq)\n",
    "\n",
    "    if sig_freq >= nyquist_freq:\n",
    "        title = \"Aliased Reconstruction\"\n",
    "    elif np.abs(np.round(sig_freq) - sig_freq) < 1e-5:\n",
    "        title = \"Perfect Reconstruction\"\n",
    "    else:\n",
    "        title = \"No Aliasing\"\n",
    "    if sig_freq == sample_freq:\n",
    "        title = 'DC Signal'\n",
    "        \n",
    "    plt.figure(figsize=(16, 8))\n",
    "    plt.subplot(2, 2, 1)\n",
    "    plt.plot(t, y_exact, label=f\"exact, $f_{{sig}} = {sig_freq}$\")\n",
    "    plt.plot(t_sample, y_interp, 'k.', markersize=10, label=\"sampled\")\n",
    "    plt.plot(\n",
    "        t, y_recon_interp,\n",
    "        label=f\"reconstructed, $f_{{recon}} = {perceived_freq:.2f}$\"\n",
    "    )\n",
    "    plt.xlabel(\"t\")\n",
    "    plt.ylabel(\"y\")\n",
    "    plt.grid()\n",
    "    plt.legend()\n",
    "    plt.title(title)\n",
    "\n",
    "    plt.subplot(2, 2, 2)\n",
    "    plt.stem(Y_interp)\n",
    "    plt.xlim(0, sample_freq//2 + 1)\n",
    "    plt.ylabel(\"Amplitude\")\n",
    "    plt.grid()\n",
    "    plt.title(\"FFT of Interpolated Signal\")\n",
    "\n",
    "    plt.subplot(2, 2, 3)\n",
    "    plt.plot(t_sample, y_interp_error, 'ko', label=\"interpolation error\")\n",
    "    plt.plot(t_sample, Y_interp_error, 'ro', label=\"FFT error\")\n",
    "    plt.grid()\n",
    "    plt.legend()\n",
    "\n",
    "    plt.subplot(2, 2, 4)\n",
    "    plt.stem(Y_sample)\n",
    "    plt.xlim(0, sample_freq//2 + 1)\n",
    "    plt.xlabel(\"frequency\")\n",
    "    plt.ylabel(\"Amplitude\")\n",
    "    plt.grid()\n",
    "    plt.title(\"FFT of Sampled Signal\")"
   ]
  },
  {
   "cell_type": "code",
   "execution_count": 92,
   "metadata": {},
   "outputs": [],
   "source": [
    "# study_fft_relationship_interp()"
   ]
  },
  {
   "cell_type": "code",
   "execution_count": 93,
   "metadata": {},
   "outputs": [
    {
     "data": {
      "application/vnd.jupyter.widget-view+json": {
       "model_id": "060b8980fa694b028a0fb435412cf74a",
       "version_major": 2,
       "version_minor": 0
      },
      "text/plain": [
       "interactive(children=(FloatSlider(value=1.0, description='L', max=5.0, min=0.1), IntSlider(value=2, descriptio…"
      ]
     },
     "metadata": {},
     "output_type": "display_data"
    },
    {
     "data": {
      "text/plain": [
       "<function __main__.study_fft_relationship_interp(L=1.0, sig_freq=2, sample_freq=11)>"
      ]
     },
     "execution_count": 93,
     "metadata": {},
     "output_type": "execute_result"
    }
   ],
   "source": [
    "interact(\n",
    "    study_fft_relationship_interp, L=(0.1, 5., 0.1),\n",
    "    sample_freq=(10, 501, 1), sig_freq=(1, 20, 1))"
   ]
  },
  {
   "attachments": {},
   "cell_type": "markdown",
   "metadata": {},
   "source": [
    "### Multiple frequencies"
   ]
  },
  {
   "cell_type": "code",
   "execution_count": null,
   "metadata": {},
   "outputs": [],
   "source": [
    "def study_fft_relationship_multi_freq(L=1., num_samples=51, num_freqs=2):\n",
    "    twopi = 2 * np.pi\n",
    "    sin, cos = np.sin, np.cos\n",
    "\n",
    "    # Create the time array\n",
    "    t = np.linspace(0, L, 1000)\n",
    "    t_sample = np.arange(1/(2*num_samples), L, L / num_samples)\n",
    "    y_sample = np.zeros_like(t_sample)\n",
    "    y_exact = np.zeros_like(t)\n",
    "    for i in range(1, num_freqs + 1):\n",
    "        y_sample += cos(i * twopi * t_sample)\n",
    "        y_exact += cos(i * twopi * t)\n",
    "\n",
    "    # Compute the FFT\n",
    "    Y = np.fft.fft(y_sample)/(num_samples*0.5)\n",
    "    Y = np.abs(Y)\n",
    "\n",
    "    # Reconstruct the signal from the frequencies present in the FFT\n",
    "    y_recon = np.zeros_like(t)\n",
    "    for i in range(len(Y)//2):\n",
    "        y_recon += Y[i] * cos(i * twopi * t)\n",
    "\n",
    "    plt.figure(figsize=(16, 5))\n",
    "    plt.subplot(1, 2, 1)\n",
    "    plt.plot(t, y_exact, label=\"exact\")\n",
    "    plt.plot(t_sample, y_sample, 'k.', markersize=10, label=\"sampled\")\n",
    "    plt.plot(t, y_recon, label=\"reconstructed\")\n",
    "    plt.xlabel(\"t\")\n",
    "    plt.ylabel(\"y\")\n",
    "    plt.grid()\n",
    "    plt.legend()\n",
    "\n",
    "    plt.subplot(1, 2, 2)\n",
    "    plt.stem(Y)\n",
    "    plt.xlim(0, num_samples//2)\n",
    "    plt.xlabel(\"frequency\")\n",
    "    plt.ylabel(\"Amplitude\")\n",
    "    plt.grid()"
   ]
  },
  {
   "cell_type": "code",
   "execution_count": null,
   "metadata": {},
   "outputs": [],
   "source": [
    "study_fft_relationship_multi_freq(L=2, num_samples=11, num_freqs=2)"
   ]
  },
  {
   "cell_type": "code",
   "execution_count": null,
   "metadata": {},
   "outputs": [],
   "source": [
    "interact(study_fft_relationship_multi_freq, L=(1, 5, 0.1),num_samples=(10, 100, 1), num_freqs=(1, 10, 1))"
   ]
  },
  {
   "cell_type": "code",
   "execution_count": null,
   "metadata": {},
   "outputs": [],
   "source": []
  }
 ],
 "metadata": {
  "kernelspec": {
   "display_name": "Python 3.10.6 ('sph310')",
   "language": "python",
   "name": "python3"
  },
  "language_info": {
   "codemirror_mode": {
    "name": "ipython",
    "version": 3
   },
   "file_extension": ".py",
   "mimetype": "text/x-python",
   "name": "python",
   "nbconvert_exporter": "python",
   "pygments_lexer": "ipython3",
   "version": "3.10.6 | packaged by conda-forge | (main, Oct 24 2022, 16:02:16) [MSC v.1916 64 bit (AMD64)]"
  },
  "orig_nbformat": 4,
  "vscode": {
   "interpreter": {
    "hash": "cbc6d616c8c8359fb696f76c2d8eb9269f6336b6c00dfc48517def07f94218b9"
   }
  }
 },
 "nbformat": 4,
 "nbformat_minor": 2
}
