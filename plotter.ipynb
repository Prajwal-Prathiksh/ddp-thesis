{
 "cells": [
  {
   "cell_type": "code",
   "execution_count": 14,
   "metadata": {},
   "outputs": [],
   "source": [
    "import os\n",
    "import numpy as np\n",
    "import matplotlib.pyplot as plt\n",
    "from scipy.signal import argrelextrema"
   ]
  },
  {
   "cell_type": "code",
   "execution_count": 2,
   "metadata": {},
   "outputs": [],
   "source": [
    "def get_sub_fldrs(path):\n",
    "    folders = []\n",
    "    for folder in os.listdir(path):\n",
    "        if os.path.isdir(\n",
    "            os.path.join(path, folder)\n",
    "        ):\n",
    "            # Get absolute path of folder\n",
    "            abs_path = os.path.abspath(os.path.join(path, folder))\n",
    "            folders.append(abs_path)\n",
    "    return folders\n",
    "\n",
    "def get_opts_from_fldr(fname):\n",
    "    \"\"\"\n",
    "    Given a folder name of the form:\n",
    "        'scheme_name_re_1e-3_mu_1e-3'\n",
    "    return a dictionary of the form:\n",
    "        {'scheme': 'name', 're': '1e-3', 'mu': '1e-3'}\n",
    "    \"\"\"\n",
    "    fname = os.path.basename(fname)\n",
    "    opts = {}\n",
    "    temp = fname.split('_')\n",
    "    # All even indices are keys, and all odd indices are values\n",
    "    for i in range(0, len(temp), 2):\n",
    "        opts[temp[i]] = temp[i+1]\n",
    "    return opts\n",
    "\n",
    "def get_master_dict(main_dict):\n",
    "    \"\"\"\n",
    "    Given a list of dictionaries, return a dictionary of the form:\n",
    "        {'key1': [val1, val2, ...], 'key2': [val1, val2, ...], ...}\n",
    "    \"\"\"\n",
    "    master_dict = {}\n",
    "    for d in main_dict:\n",
    "        for key, val in d.items():\n",
    "            if key not in master_dict:\n",
    "                master_dict[key] = [val]\n",
    "            else:\n",
    "                master_dict[key].append(val)\n",
    "    # Remove duplicate values\n",
    "    for key, val in master_dict.items():\n",
    "        master_dict[key] = list(set(val))\n",
    "        \n",
    "    return master_dict\n",
    "    \n",
    "def get_results_file(path):\n",
    "    for file in os.listdir(path):\n",
    "        if file.endswith('results.npz'):\n",
    "            return os.path.join(path, file)\n",
    "\n",
    "def select_subfolder(subfolders, **kwargs):\n",
    "    \"\"\"\n",
    "    Given a list of subfolders, and a dictionary of the form:\n",
    "        {'key1': val1, 'key2': val2, ...}\n",
    "    return a list of subfolders that match the criteria.\n",
    "    Example:\n",
    "        select_subfolder(folders, re='100')\n",
    "    \"\"\"\n",
    "    selected = []\n",
    "    # if no kwargs are given, return all folders\n",
    "    if len(kwargs) == 0:\n",
    "        return subfolders\n",
    "    for fldr in subfolders:\n",
    "        opts = get_opts_from_fldr(fldr)\n",
    "        for key, val in kwargs.items():\n",
    "            if key not in opts:\n",
    "                raise ValueError('Key not found in folder name')\n",
    "            if opts[key] == val:\n",
    "                selected.append(fldr)\n",
    "    return selected\n"
   ]
  },
  {
   "cell_type": "code",
   "execution_count": 38,
   "metadata": {},
   "outputs": [],
   "source": [
    "def plotter(parent_dir, plot_type, **kwargs):\n",
    "    plot_types = ['decay', 'l1', 'linf', 'p_l1', 'ke']\n",
    "    if plot_type not in plot_types:\n",
    "        raise ValueError(\n",
    "            f'Invalid plot type: {plot_type}. Valid types are: {plot_types}'\n",
    "        )\n",
    "    subfolders = get_sub_fldrs(parent_dir)\n",
    "    subfolders = select_subfolder(subfolders, **kwargs)\n",
    "    plot_exact = False\n",
    "    plt.figure(figsize=(8, 6))\n",
    "    for folder in subfolders:\n",
    "        results_file = get_results_file(folder)\n",
    "        if results_file:\n",
    "            data = np.load(results_file)\n",
    "            t = data['t']\n",
    "            plt_label = os.path.basename(folder)\n",
    "            \n",
    "            if plot_type == 'decay':\n",
    "                if not plot_exact:\n",
    "                    plt.semilogy(t, data['decay_ex'], 'k--', label='Exact')\n",
    "                    plot_exact = True\n",
    "                plt.semilogy(t, data['decay'], label=plt_label)\n",
    "            elif plot_type == 'l1':\n",
    "                plt.plot(t, data['l1'], label=plt_label)\n",
    "            elif plot_type == 'linf':\n",
    "                plt.plot(t, data['linf'], label=plt_label)\n",
    "            elif plot_type == 'p_l1':\n",
    "                plt.plot(t, data['p_l1'], label=plt_label)\n",
    "            elif plot_type == 'ke':\n",
    "                if not plot_exact:\n",
    "                    # plt.plot(t, data['ke_ex'], 'k--', label='Exact')\n",
    "                    plot_exact = True\n",
    "                plt.plot(t, data['ke'], label=plt_label)\n",
    "\n",
    "                # Plot local maximas as dots\n",
    "                maxima = argrelextrema(data['ke'], np.greater)\n",
    "                plt.plot(t[maxima], data['ke'][maxima], 'o')\n",
    "                plt.annotate(\n",
    "                    f'(t={t[maxima][0]:.2f}, ke={data[\"ke\"][maxima][0]:.2f})',\n",
    "                    (t[maxima][0], data['ke'][maxima][0]),\n",
    "                    xytext=(t[maxima][0], data['ke'][maxima][0])\n",
    "                )\n",
    "    \n",
    "    if plot_type == 'ke':\n",
    "        plt.ylim(0, 0.4)\n",
    "        plt.grid()\n",
    "\n",
    "    plt.title(plot_type)\n",
    "    plt.xlabel('t')\n",
    "    plt.legend()\n",
    "    plt.show()"
   ]
  },
  {
   "cell_type": "code",
   "execution_count": 39,
   "metadata": {},
   "outputs": [
    {
     "data": {
      "text/plain": [
       "({'nx': ['400', '100', '200'],\n",
       "  're': ['50000', '1000000', '10000', '100000', '1000'],\n",
       "  'tf': ['6.0', '3.0', '2.0']},\n",
       " [])"
      ]
     },
     "execution_count": 39,
     "metadata": {},
     "output_type": "execute_result"
    }
   ],
   "source": [
    "fldrs = get_sub_fldrs('outputs/temp_tgv')\n",
    "fldrs = get_sub_fldrs('outputs/tgv_external_forcing_colagrossi2021')\n",
    "temp = [get_opts_from_fldr(fldr) for fldr in fldrs]\n",
    "master_dict = get_master_dict(temp)\n",
    "master_dict, select_subfolder(fldrs, re='200')"
   ]
  },
  {
   "cell_type": "code",
   "execution_count": 45,
   "metadata": {},
   "outputs": [
    {
     "data": {
      "image/png": "[encoded data removed]",
      "text/plain": [
       "<Figure size 800x600 with 1 Axes>"
      ]
     },
     "metadata": {},
     "output_type": "display_data"
    }
   ],
   "source": [
    "# plotter('outputs/temp_tgv', 'ke', re='1000')\n",
    "plotter('outputs/tgv_external_forcing_colagrossi2021', 'ke', re=str(1_000_000))"
   ]
  },
  {
   "cell_type": "code",
   "execution_count": 6,
   "metadata": {},
   "outputs": [],
   "source": [
    "# plot_type_options = ['decay', 'l1', 'linf', 'p_l1', 'ke']\n",
    "# interact(\n",
    "#     plotter,\n",
    "#     parent_dir='outputs/temp_tgv',\n",
    "#     plot_type=plot_type_options,\n",
    "#     # re=master_dict['re'],\n",
    "# )"
   ]
  }
 ],
 "metadata": {
  "kernelspec": {
   "display_name": "dev311",
   "language": "python",
   "name": "python3"
  },
  "language_info": {
   "codemirror_mode": {
    "name": "ipython",
    "version": 3
   },
   "file_extension": ".py",
   "mimetype": "text/x-python",
   "name": "python",
   "nbconvert_exporter": "python",
   "pygments_lexer": "ipython3",
   "version": "3.11.0"
  },
  "orig_nbformat": 4,
  "vscode": {
   "interpreter": {
    "hash": "5e702f8c738ceea1011d8503810665f82818a8f7ad9832b0679e1b8c7acafaef"
   }
  }
 },
 "nbformat": 4,
 "nbformat_minor": 2
}
