{
 "cells": [
  {
   "cell_type": "code",
   "execution_count": 1,
   "metadata": {},
   "outputs": [],
   "source": [
    "import os\n",
    "import numpy as np\n",
    "import matplotlib.pyplot as plt\n",
    "from ipywidgets import interact, interactive, fixed"
   ]
  },
  {
   "cell_type": "code",
   "execution_count": 2,
   "metadata": {},
   "outputs": [],
   "source": [
    "def get_sub_folders(path):\n",
    "    folders = []\n",
    "    for folder in os.listdir(path):\n",
    "        if os.path.isdir(\n",
    "            os.path.join(path, folder)\n",
    "        ):\n",
    "            folders.append(os.path.join(path, folder))\n",
    "    return folders\n",
    "    \n",
    "def get_results_file(path):\n",
    "    for file in os.listdir(path):\n",
    "        if file.endswith('results.npz'):\n",
    "            return os.path.join(path, file)"
   ]
  },
  {
   "cell_type": "code",
   "execution_count": 3,
   "metadata": {},
   "outputs": [],
   "source": [
    "def plotter(parent_dir, plot_type):\n",
    "    plot_types = ['decay', 'l1', 'linf', 'p_l1', 'ke']\n",
    "    if plot_type not in plot_types:\n",
    "        raise ValueError(\n",
    "            f'Invalid plot type: {plot_type}. Valid types are: {plot_types}'\n",
    "        )\n",
    "\n",
    "    sub_folders = get_sub_folders(parent_dir)\n",
    "    plot_exact = False\n",
    "    plt.figure(figsize=(8, 6))\n",
    "    for folder in sub_folders:\n",
    "        results_file = get_results_file(folder)\n",
    "        if results_file:\n",
    "            data = np.load(results_file)\n",
    "            t = data['t']\n",
    "            plt_label = os.path.basename(folder)\n",
    "            \n",
    "            if plot_type == 'decay':\n",
    "                if not plot_exact:\n",
    "                    plt.semilogy(t, data['decay_ex'], 'k--', label='Exact')\n",
    "                    plot_exact = True\n",
    "                plt.semilogy(t, data['decay'], label=plt_label)\n",
    "            elif plot_type == 'l1':\n",
    "                plt.plot(t, data['l1'], label=plt_label)\n",
    "            elif plot_type == 'linf':\n",
    "                plt.plot(t, data['linf'], label=plt_label)\n",
    "            elif plot_type == 'p_l1':\n",
    "                plt.plot(t, data['p_l1'], label=plt_label)\n",
    "            elif plot_type == 'ke':\n",
    "                if not plot_exact:\n",
    "                    plt.semilogy(t, data['ke_ex'], 'k--', label='Exact')\n",
    "                    plot_exact = True\n",
    "                plt.plot(t, data['ke'], label=plt_label)\n",
    "\n",
    "    plt.title(plot_type)\n",
    "    plt.xlabel('t')\n",
    "    plt.legend()\n",
    "    # plt.show()"
   ]
  },
  {
   "cell_type": "code",
   "execution_count": 4,
   "metadata": {},
   "outputs": [
    {
     "data": {
      "application/vnd.jupyter.widget-view+json": {
       "model_id": "90999a5e51b74d198b020687c12f1f4c",
       "version_major": 2,
       "version_minor": 0
      },
      "text/plain": [
       "interactive(children=(Dropdown(description='parent_dir', options=('.\\\\tgv_10000_outputs', '.\\\\tgv_20000_output…"
      ]
     },
     "metadata": {},
     "output_type": "display_data"
    },
    {
     "data": {
      "text/plain": [
       "<function __main__.plotter(parent_dir, plot_type)>"
      ]
     },
     "execution_count": 4,
     "metadata": {},
     "output_type": "execute_result"
    }
   ],
   "source": [
    "parent_dir_options = [f for f in get_sub_folders('.') if 'tgv_' in f]\n",
    "plot_type_options = ['decay', 'l1', 'linf', 'p_l1', 'ke']\n",
    "interact(\n",
    "    plotter,\n",
    "    parent_dir=parent_dir_options,\n",
    "    plot_type=plot_type_options\n",
    ")"
   ]
  }
 ],
 "metadata": {
  "kernelspec": {
   "display_name": "sph310",
   "language": "python",
   "name": "python3"
  },
  "language_info": {
   "codemirror_mode": {
    "name": "ipython",
    "version": 3
   },
   "file_extension": ".py",
   "mimetype": "text/x-python",
   "name": "python",
   "nbconvert_exporter": "python",
   "pygments_lexer": "ipython3",
   "version": "3.10.6"
  },
  "orig_nbformat": 4,
  "vscode": {
   "interpreter": {
    "hash": "cbc6d616c8c8359fb696f76c2d8eb9269f6336b6c00dfc48517def07f94218b9"
   }
  }
 },
 "nbformat": 4,
 "nbformat_minor": 2
}
